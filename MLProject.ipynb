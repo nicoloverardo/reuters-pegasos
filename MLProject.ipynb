{
 "cells": [
  {
   "cell_type": "markdown",
   "metadata": {},
   "source": [
    "# News Classification with Pegasos"
   ]
  },
  {
   "cell_type": "markdown",
   "metadata": {},
   "source": [
    "Let's import the required libraries. We also use the `imbalanced-learn` library, that can be installed by executing the following command in the terminal:\n",
    "\n",
    "    conda install -c conda-forge imbalanced-learn"
   ]
  },
  {
   "cell_type": "code",
   "execution_count": 1,
   "metadata": {},
   "outputs": [],
   "source": [
    "import numpy as np\n",
    "import pandas as pd\n",
    "import seaborn as sns\n",
    "import matplotlib\n",
    "import matplotlib.pyplot as plt\n",
    "import timeit\n",
    "\n",
    "from imblearn.over_sampling import RandomOverSampler\n",
    "from imblearn.under_sampling import RandomUnderSampler\n",
    "\n",
    "from sklearn.base import BaseEstimator\n",
    "from sklearn.feature_extraction import DictVectorizer\n",
    "from sklearn.metrics import accuracy_score, f1_score, precision_score, recall_score, confusion_matrix\n",
    "from sklearn.model_selection import train_test_split, GridSearchCV, cross_val_score, validation_curve, learning_curve\n",
    "\n",
    "from IPython.display import display"
   ]
  },
  {
   "cell_type": "markdown",
   "metadata": {},
   "source": [
    "## Data pre-processing"
   ]
  },
  {
   "cell_type": "markdown",
   "metadata": {},
   "source": [
    "Read the dataset file and create a list where each element corresponds to a line of the file (that is, to a document news)"
   ]
  },
  {
   "cell_type": "code",
   "execution_count": 2,
   "metadata": {},
   "outputs": [],
   "source": [
    "news = []\n",
    "with open(\"SingerSplit_sorted_20k.data\", \"r\") as file:\n",
    "    news = file.readlines()"
   ]
  },
  {
   "cell_type": "markdown",
   "metadata": {},
   "source": [
    "Initialize dictionaries and lists"
   ]
  },
  {
   "cell_type": "code",
   "execution_count": 3,
   "metadata": {},
   "outputs": [],
   "source": [
    "labelsFreq, toRemove, y = {}, [], []"
   ]
  },
  {
   "cell_type": "markdown",
   "metadata": {},
   "source": [
    "Let's iterate through each news. Create the list of dictionaries that will contain the features and the list of labels.\n",
    "Remember that the format of each line is:\n",
    "\n",
    "    docId labList = feature:val feature:val feature:val ...\n",
    "    \n",
    "What we do is the following:\n",
    "    1. Iterate through each line\n",
    "    2. Remove the characters '\\n' at the end of each line\n",
    "    3. Remove the part of the 'docId', that we can identify by removing all the characters before the very first space charcater\n",
    "    4. Find the position of the equal sign in order to split labels and features\n",
    "    5. If a row does not have labels, add its position to the list containing the indexes to be removed and skip it.\n",
    "    6. Otherwise, get the labels. They are all characters before the equal sign.\n",
    "    7. Split the string of labels into a list and append them to the labels list\n",
    "    8. Update the frequency count of each label. This means looking into the dictionary that has the label as key and the times it appears as value. If the label is present, add +1 to the count. Otherwise, add the new label and assign value 1.\n",
    "    9. Get the features. They are all the characters after the equal sign.\n",
    "    10. Split the string of features first by each space sign, in order to get a list of strings like 'feature:value'.\n",
    "    11. Then split each element of the list again by the ':' sign, and add it to the dictionary of the features."
   ]
  },
  {
   "cell_type": "code",
   "execution_count": 4,
   "metadata": {},
   "outputs": [],
   "source": [
    "for i in range(0,len(news)):\n",
    "    # We need this to treat the row as a string\n",
    "    s = news[i]\n",
    "    \n",
    "    # Remove trailing '\\n'\n",
    "    s = s.replace(\"\\n\", \"\") \n",
    "    \n",
    "    # Remove doc000000 \n",
    "    s = s[s.find(\" \") + 1:] \n",
    "    \n",
    "    # Find the position of the '=' sign\n",
    "    ind = s.find(\"=\")\n",
    "    \n",
    "    # Some rows do not have labels. We'll skip them\n",
    "    # and later remove them\n",
    "    if ind == 0:\n",
    "        toRemove.append(i)\n",
    "    else:\n",
    "        # Get the labels\n",
    "        lbl = s[:ind - 1]\n",
    "        lblList = lbl.split(\" \")\n",
    "        lblList = [np.int32(x) for x in lblList]\n",
    "        y.append(lblList)\n",
    "        \n",
    "        # Update the labels frequency count\n",
    "        for key in lblList:\n",
    "            if key in labelsFreq:\n",
    "                labelsFreq[key] += 1\n",
    "            else:\n",
    "                labelsFreq[key] = 1\n",
    "        \n",
    "        # Get the features\n",
    "        feats = s[ind+2:]\n",
    "        featsList1 = feats.split(\" \")\n",
    "        finalFeat = {}\n",
    "        for x in featsList1:\n",
    "            elem = x.split(\":\")\n",
    "            a = elem[0]\n",
    "            b = elem[1]\n",
    "            d = {a: b}\n",
    "            finalFeat.update(d)\n",
    "                \n",
    "        news[i] = finalFeat"
   ]
  },
  {
   "cell_type": "markdown",
   "metadata": {},
   "source": [
    "Remove the rows with no label. The `reverse` param is needed to avoid a nasty problem."
   ]
  },
  {
   "cell_type": "code",
   "execution_count": 5,
   "metadata": {
    "scrolled": true
   },
   "outputs": [
    {
     "data": {
      "text/plain": [
       "{'372': '0.0322298670393407',\n",
       " '412': '0.0399666607009284',\n",
       " '1191': '0.0208579883334745',\n",
       " '1398': '0.03469461250916',\n",
       " '1696': '0.0313742944440639',\n",
       " '1788': '0.101860242861076',\n",
       " '1946': '0.0482992561844891',\n",
       " '2007': '0.0608106298756862',\n",
       " '2051': '0.0685800346592637',\n",
       " '2118': '0.0460935142795857',\n",
       " '2357': '0.064574545251984',\n",
       " '2358': '0.0679112351082636',\n",
       " '3010': '0.0302992811495597',\n",
       " '3223': '0.0535774602927466',\n",
       " '3332': '0.0528445944684083',\n",
       " '3525': '0.124761568327326',\n",
       " '3678': '0.114124916097942',\n",
       " '3821': '0.0374500120062826',\n",
       " '3943': '0.0491044772013921',\n",
       " '4582': '0.0423139885170287',\n",
       " '4660': '0.0338201197562019',\n",
       " '4754': '0.0905414297162012',\n",
       " '5065': '0.0546179961978313',\n",
       " '5152': '0.0379625776601642',\n",
       " '5371': '0.0563250723470629',\n",
       " '5747': '0.114623751792671',\n",
       " '6292': '0.0515429194037677',\n",
       " '6391': '0.0653704764924526',\n",
       " '6392': '0.0915777427420058',\n",
       " '6539': '0.0333395456778519',\n",
       " '6896': '0.0485553861036169',\n",
       " '6926': '0.00535893643734539',\n",
       " '7096': '0.049637668327603',\n",
       " '7592': '0.155827159788231',\n",
       " '7593': '0.0990756780868573',\n",
       " '7644': '0.0901770315474647',\n",
       " '7929': '0.0632968759100219',\n",
       " '7986': '0.0575839380629727',\n",
       " '7987': '0.0459485518834876',\n",
       " '8207': '0.0481563686167347',\n",
       " '8536': '0.0823745648244692',\n",
       " '8888': '0.039668902059409',\n",
       " '8889': '0.0547061916569871',\n",
       " '8937': '0.0587565120859794',\n",
       " '8938': '0.0522478792341445',\n",
       " '8975': '0.0920709637470903',\n",
       " '9058': '0.092935315117032',\n",
       " '9203': '0.0507013601536046',\n",
       " '9399': '0.0457182568877099',\n",
       " '9400': '0.0954234042373778',\n",
       " '9524': '0.0510182407654905',\n",
       " '9629': '0.0426970693955248',\n",
       " '9700': '0.149843264114026',\n",
       " '9753': '0.0351134729849058',\n",
       " '9754': '0.0263149515698',\n",
       " '9934': '0.0522879360160611',\n",
       " '10450': '0.15883772666081',\n",
       " '10565': '0.0525806787322141',\n",
       " '10665': '0.0550494618883384',\n",
       " '10666': '0.125312322958824',\n",
       " '10714': '0.0765043559014316',\n",
       " '10896': '0.037570139125719',\n",
       " '10937': '0.0346169114500481',\n",
       " '11506': '0.0830094423241606',\n",
       " '12683': '0.0494789476387753',\n",
       " '12781': '0.0537035704976116',\n",
       " '12824': '0.0941906332260423',\n",
       " '12992': '0.0423902210112844',\n",
       " '13205': '0.0597870676120206',\n",
       " '13493': '0.0381178107783271',\n",
       " '13578': '0.0219571973590385',\n",
       " '13653': '0.0534708128702748',\n",
       " '13654': '0.0477795799745177',\n",
       " '13740': '0.0927077098418291',\n",
       " '13741': '0.0405960894721612',\n",
       " '14130': '0.0570752918529302',\n",
       " '14348': '0.0482657181104484',\n",
       " '14459': '0.0152930884102708',\n",
       " '14599': '0.0574289027515529',\n",
       " '15314': '0.0472007082380623',\n",
       " '15367': '0.0409386132192889',\n",
       " '15404': '0.128169321028094',\n",
       " '15984': '0.0557406816149261',\n",
       " '16051': '0.108653626104296',\n",
       " '16087': '0.15883772666081',\n",
       " '16251': '0.0701635216131481',\n",
       " '16348': '0.0687276237301238',\n",
       " '16390': '0.0575802259663889',\n",
       " '16443': '0.0534579856964782',\n",
       " '16997': '0.0388847656672758',\n",
       " '17792': '0.16539616524162',\n",
       " '18029': '0.0496531279545364',\n",
       " '18084': '0.0481656012284332',\n",
       " '18145': '0.0373883797300678',\n",
       " '18248': '0.092783152433275',\n",
       " '18497': '0.0632998092564077',\n",
       " '18694': '0.108171731487129',\n",
       " '18771': '0.139073409713813',\n",
       " '18909': '0.105036969996568',\n",
       " '18978': '0.199301809805273',\n",
       " '19235': '0.03780568161255',\n",
       " '19488': '0.0684294467539398',\n",
       " '19838': '0.0682546323339885',\n",
       " '19870': '0.1541316980211',\n",
       " '20177': '0.0564880493729895',\n",
       " '20266': '0.0531953207720503',\n",
       " '20375': '0.0486910581854204',\n",
       " '20415': '0.0500944156817878',\n",
       " '20540': '0.0542578063870181',\n",
       " '20599': '0.0448511168146785',\n",
       " '20721': '0.132584256205316',\n",
       " '20849': '0.101374880630975',\n",
       " '20908': '0.0302008803866204',\n",
       " '20976': '0.0731187497727314',\n",
       " '21424': '0.0758417866843585',\n",
       " '21425': '0.0543334550623888',\n",
       " '21456': '0.042467492094287',\n",
       " '21892': '0.0593611170944157',\n",
       " '21958': '0.0682650087538082',\n",
       " '22002': '0.0818957374622157',\n",
       " '22402': '0.0600007526487241',\n",
       " '22711': '0.0523193133383312',\n",
       " '22757': '0.052289189708851',\n",
       " '22817': '0.0265905641212986',\n",
       " '22878': '0.0587423455348181',\n",
       " '23622': '0.0561292489810793',\n",
       " '23761': '0.0820270582567047',\n",
       " '23876': '0.0555717224541103',\n",
       " '24051': '0.101222084890645',\n",
       " '24134': '0.0539182956923293',\n",
       " '24135': '0.0530937992300409',\n",
       " '24190': '0.0510353671778295',\n",
       " '24191': '0.119472287435434',\n",
       " '24661': '0.0965056723121174',\n",
       " '24791': '0.0743665302277051',\n",
       " '25032': '0.0428787168576463',\n",
       " '25090': '0.0720415543572573',\n",
       " '25112': '0.111644796892333',\n",
       " '25143': '0.0807011998427138',\n",
       " '25351': '0.150997657369086',\n",
       " '25414': '0.062270942731703',\n",
       " '25415': '0.0855691328130595',\n",
       " '25464': '0.0548100722607414',\n",
       " '25704': '0.0603243511981',\n",
       " '26109': '0.0510811441831462',\n",
       " '26345': '0.0614108918256086',\n",
       " '26834': '0.0328191217718412',\n",
       " '26901': '0.0646261337776922',\n",
       " '26959': '0.0310263060676379',\n",
       " '27258': '0.08309525933739',\n",
       " '27375': '0.0981280272470351',\n",
       " '27450': '0.0530194796994856',\n",
       " '27950': '0.038085395843702',\n",
       " '28227': '0.156257152986428',\n",
       " '28512': '0.248004554322686',\n",
       " '28665': '0.0519157725701903',\n",
       " '28666': '0.031366918705922',\n",
       " '28753': '0.0371169095058771',\n",
       " '29108': '0.0559249092963845',\n",
       " '29109': '0.038857867759734',\n",
       " '29110': '0.0675373343490071',\n",
       " '29193': '0.0446425182353309',\n",
       " '29615': '0.079660964032846',\n",
       " '29616': '0.0515346179659248',\n",
       " '29932': '0.0111804497768424',\n",
       " '30864': '0.0912361646253409',\n",
       " '31184': '0.0317588430378785',\n",
       " '31416': '0.108410527366106',\n",
       " '31642': '0.0812155282702178'}"
      ]
     },
     "execution_count": 5,
     "metadata": {},
     "output_type": "execute_result"
    }
   ],
   "source": [
    "[news.pop(i) for i in sorted(toRemove, reverse=True)]\n",
    "news[0]"
   ]
  },
  {
   "cell_type": "markdown",
   "metadata": {},
   "source": [
    "Let's get the 4 most present labels. Dict comprehension taken from: https://stackoverflow.com/a/40777805"
   ]
  },
  {
   "cell_type": "code",
   "execution_count": 6,
   "metadata": {},
   "outputs": [
    {
     "data": {
      "text/plain": [
       "[33, 70, 101, 4]"
      ]
     },
     "execution_count": 6,
     "metadata": {},
     "output_type": "execute_result"
    }
   ],
   "source": [
    "highest = list(({key: labelsFreq[key] for key in sorted(labelsFreq, key=labelsFreq.get, reverse=True)[:4]}).keys())\n",
    "highest"
   ]
  },
  {
   "cell_type": "markdown",
   "metadata": {},
   "source": [
    "Create the 4 list containing the labels:\n",
    "- 1 if the element contains the most frequent label\n",
    "- 0 otherwise"
   ]
  },
  {
   "cell_type": "code",
   "execution_count": 7,
   "metadata": {},
   "outputs": [],
   "source": [
    "y1, y2, y3, y4 = [], [], [], []\n",
    "\n",
    "for i in range(1, 5):\n",
    "    for row in y:\n",
    "        if highest[i-1] in row:\n",
    "            eval('y'+str(i)).append(int(1))\n",
    "        else:\n",
    "            eval('y'+str(i)).append(int(-1))\n",
    "            \n",
    "y1 = np.asarray(y1)\n",
    "y2 = np.asarray(y2)\n",
    "y3 = np.asarray(y3)\n",
    "y4 = np.asarray(y4)"
   ]
  },
  {
   "cell_type": "markdown",
   "metadata": {},
   "source": [
    "Check the distribution of the labels"
   ]
  },
  {
   "cell_type": "code",
   "execution_count": 8,
   "metadata": {},
   "outputs": [
    {
     "data": {
      "image/png": "[encoded data removed]",
      "text/plain": [
       "<Figure size 432x324 with 1 Axes>"
      ]
     },
     "metadata": {
      "needs_background": "light"
     },
     "output_type": "display_data"
    }
   ],
   "source": [
    "pos, neg = [], []\n",
    "for i in range(1,5):\n",
    "    index, count = np.unique(eval('y'+str(i)), return_counts=True)\n",
    "    pos.append(np.int32(count[1]))\n",
    "    neg.append(np.int32(count[0]))\n",
    "\n",
    "df = pd.DataFrame(np.column_stack([highest, pos, neg]), columns=['Label','+1','-1'])\n",
    "fig = df.plot(x=\"Label\", y=[\"+1\", \"-1\"], kind=\"bar\", title='Labels distribution', figsize=(6, 4.5)).get_figure()\n",
    "fig.savefig(\"label_distribution.png\")"
   ]
  },
  {
   "cell_type": "code",
   "execution_count": 9,
   "metadata": {},
   "outputs": [
    {
     "data": {
      "text/html": [
       "<div>\n",
       "<style scoped>\n",
       "    .dataframe tbody tr th:only-of-type {\n",
       "        vertical-align: middle;\n",
       "    }\n",
       "\n",
       "    .dataframe tbody tr th {\n",
       "        vertical-align: top;\n",
       "    }\n",
       "\n",
       "    .dataframe thead th {\n",
       "        text-align: right;\n",
       "    }\n",
       "</style>\n",
       "<table border=\"1\" class=\"dataframe\">\n",
       "  <thead>\n",
       "    <tr style=\"text-align: right;\">\n",
       "      <th></th>\n",
       "      <th>Label</th>\n",
       "      <th>+1</th>\n",
       "      <th>-1</th>\n",
       "    </tr>\n",
       "  </thead>\n",
       "  <tbody>\n",
       "    <tr>\n",
       "      <th>0</th>\n",
       "      <td>33</td>\n",
       "      <td>8899</td>\n",
       "      <td>10961</td>\n",
       "    </tr>\n",
       "    <tr>\n",
       "      <th>1</th>\n",
       "      <td>70</td>\n",
       "      <td>5634</td>\n",
       "      <td>14226</td>\n",
       "    </tr>\n",
       "    <tr>\n",
       "      <th>2</th>\n",
       "      <td>101</td>\n",
       "      <td>4874</td>\n",
       "      <td>14986</td>\n",
       "    </tr>\n",
       "    <tr>\n",
       "      <th>3</th>\n",
       "      <td>4</td>\n",
       "      <td>3465</td>\n",
       "      <td>16395</td>\n",
       "    </tr>\n",
       "  </tbody>\n",
       "</table>\n",
       "</div>"
      ],
      "text/plain": [
       "   Label    +1     -1\n",
       "0     33  8899  10961\n",
       "1     70  5634  14226\n",
       "2    101  4874  14986\n",
       "3      4  3465  16395"
      ]
     },
     "execution_count": 9,
     "metadata": {},
     "output_type": "execute_result"
    }
   ],
   "source": [
    "df"
   ]
  },
  {
   "cell_type": "markdown",
   "metadata": {},
   "source": [
    "We can clearly see that we are dealing with inbalanced classes, except for the first label. Thus, we'll use _F1_ as our main metric. We'll also check other metrics just to be sure for comparison. Moreover, we'll upsample and downsample to see if this helps the classifier"
   ]
  },
  {
   "cell_type": "markdown",
   "metadata": {},
   "source": [
    "The **F1 score** can be interpreted as a weighted average of the precision and recall:\n",
    "\n",
    "$$F1 = 2 \\cdot \\frac{(precision \\cdot recall)}{(precision + recall)} $$\n",
    "\n",
    "where **precision** can be seen as \"the ability of the classifier not to label as positive a sample that is negative\":\n",
    "\n",
    "$$ precision=\\frac{true\\ positive}{true\\ postive + false\\ positive} $$\n",
    "\n",
    "and **recall** can be seen as \"the ability of the classifier to find all the positive samples\":\n",
    "\n",
    "$$ recall=\\frac{true\\ positive}{true\\ postive + false\\ negative} $$"
   ]
  },
  {
   "cell_type": "markdown",
   "metadata": {},
   "source": [
    "We'll deal with this while implementing the `MyBaseClassifier` from which both `Pegasos` and the `Perceptron` will inherit."
   ]
  },
  {
   "cell_type": "markdown",
   "metadata": {},
   "source": [
    "Let's do the last steps of our data pre-processing. Convert features to `int` and values to `float`. Dict comprehension taken from: https://stackoverflow.com/a/5317657"
   ]
  },
  {
   "cell_type": "code",
   "execution_count": 10,
   "metadata": {},
   "outputs": [],
   "source": [
    "news = [dict([int(a), float(x)] for a, x in elem.items()) for elem in news]"
   ]
  },
  {
   "cell_type": "markdown",
   "metadata": {},
   "source": [
    "Transforms lists of feature-value mappings to a CSR matrix. Setting the `dtype` param to `np.float32` cuts memory usage by 50%!"
   ]
  },
  {
   "cell_type": "code",
   "execution_count": 11,
   "metadata": {},
   "outputs": [
    {
     "data": {
      "text/plain": [
       "<19860x80362 sparse matrix of type '<class 'numpy.float32'>'\n",
       "\twith 1858673 stored elements in Compressed Sparse Row format>"
      ]
     },
     "execution_count": 11,
     "metadata": {},
     "output_type": "execute_result"
    }
   ],
   "source": [
    "v = DictVectorizer(sparse=True, dtype=np.float32)\n",
    "X = v.fit_transform(news)\n",
    "X"
   ]
  },
  {
   "cell_type": "markdown",
   "metadata": {},
   "source": [
    "Since our data is very sparse, using a CSR matrix instead of a dense one (or a classical Pandas DataFrame) allows us to save a lot of memory, as we can see below.\n",
    "\n",
    "**Warning**: the execution of this cell requires more than 6GB of memory (either RAM or swap). If you don't have them, you can simply skip this cell."
   ]
  },
  {
   "cell_type": "code",
   "execution_count": 12,
   "metadata": {},
   "outputs": [
    {
     "name": "stdout",
     "output_type": "stream",
     "text": [
      "Dense:  6383.96 MB\n",
      "Sparse:  14.95 MB\n"
     ]
    }
   ],
   "source": [
    "dense_size = np.round(np.array(X.toarray()).nbytes/1e6, 2)\n",
    "sparse_size = np.round((X.data.nbytes + X.indptr.nbytes + X.indices.nbytes)/1e6, 2)\n",
    "\n",
    "print(\"Dense: \", dense_size, \"MB\")\n",
    "print(\"Sparse: \", sparse_size, \"MB\")"
   ]
  },
  {
   "cell_type": "markdown",
   "metadata": {},
   "source": [
    "Free up some memory"
   ]
  },
  {
   "cell_type": "code",
   "execution_count": 12,
   "metadata": {},
   "outputs": [],
   "source": [
    "del news\n",
    "del toRemove\n",
    "del labelsFreq"
   ]
  },
  {
   "cell_type": "markdown",
   "metadata": {},
   "source": [
    "## Pegasos"
   ]
  },
  {
   "cell_type": "markdown",
   "metadata": {},
   "source": [
    "Here there's our own Pegasos implementation. It inherits from the `BaseEstimator` so that we don't need to define the `get_params` and `set_params` methods. Moreover, we created a class `MyBaseClassifier` that contains the `predict` and `score` methods. Both our Pegagos and Perceptron implementations will inherit from this class so that, in the end, we can use them in the `GridSearchCV`. "
   ]
  },
  {
   "cell_type": "code",
   "execution_count": 13,
   "metadata": {},
   "outputs": [],
   "source": [
    "class MyBaseClassifier():\n",
    "    def sign(self, X):\n",
    "        return -1. if X <= 0 else 1.\n",
    "    \n",
    "    def predict(self, X):\n",
    "        pred = X.dot(self.w.T)\n",
    "        return [self.sign(pred[i]) for i in range(len(pred))]\n",
    "    \n",
    "    def score(self, X, y):\n",
    "        y_pred = self.predict(X)\n",
    "        return f1_score(y, y_pred)"
   ]
  },
  {
   "cell_type": "code",
   "execution_count": 14,
   "metadata": {},
   "outputs": [],
   "source": [
    "class Pegasos(BaseEstimator, MyBaseClassifier):\n",
    "    def __init__(self, lmbd=0.001, T=1000):\n",
    "        self.T = T\n",
    "        self.lmbd = lmbd\n",
    "        \n",
    "    def fit(self, X, y):\n",
    "        # Initialize w vector to zero\n",
    "        self.w = np.zeros(X.shape[1])\n",
    "    \n",
    "        for t in range(1, self.T + 1):\n",
    "            # We pick a random position i in the training set.\n",
    "            i = np.random.randint(0, X.shape[0]-1)\n",
    "\n",
    "            # Step length in gradient descent\n",
    "            eta = 1/(self.lmbd*t)\n",
    "\n",
    "            # Compute the score, that is the inner product\n",
    "            # between w and the current training example\n",
    "            score = X[i].dot(self.w.T)\n",
    "\n",
    "            # Check if we got it right\n",
    "            if y[i]*score < 1:\n",
    "                self.w = (1 - eta*self.lmbd)*self.w + (eta*y[i])*X[i]\n",
    "            else:\n",
    "                self.w = (1 - eta*self.lmbd)*self.w"
   ]
  },
  {
   "cell_type": "markdown",
   "metadata": {},
   "source": [
    "### Label 1: 33"
   ]
  },
  {
   "cell_type": "markdown",
   "metadata": {},
   "source": [
    "Since we have to train 4 classifiers for the 4 most frequent labels, create this variable where we set what label we're training our classifier to recognize."
   ]
  },
  {
   "cell_type": "code",
   "execution_count": 15,
   "metadata": {},
   "outputs": [],
   "source": [
    "currentLabel = y1"
   ]
  },
  {
   "cell_type": "markdown",
   "metadata": {},
   "source": [
    "Let's now get a first training/test split, where we allocate a third of the dataset as test set."
   ]
  },
  {
   "cell_type": "code",
   "execution_count": 17,
   "metadata": {},
   "outputs": [],
   "source": [
    "X_train, X_test, y_train, y_test = train_test_split(X,currentLabel,test_size=0.33,random_state=42,stratify=currentLabel)"
   ]
  },
  {
   "cell_type": "markdown",
   "metadata": {},
   "source": [
    "Run Pegasos for the first time. We use the default values for `lmbd=0.001` and `T=1000` that we set in our implementation."
   ]
  },
  {
   "cell_type": "code",
   "execution_count": 18,
   "metadata": {},
   "outputs": [],
   "source": [
    "classifier = Pegasos()"
   ]
  },
  {
   "cell_type": "code",
   "execution_count": 19,
   "metadata": {},
   "outputs": [],
   "source": [
    "classifier.fit(X_train, y_train)"
   ]
  },
  {
   "cell_type": "code",
   "execution_count": 20,
   "metadata": {},
   "outputs": [
    {
     "data": {
      "text/plain": [
       "(0.8711993617587093, 0.8516624040920716)"
      ]
     },
     "execution_count": 20,
     "metadata": {},
     "output_type": "execute_result"
    }
   ],
   "source": [
    "classifier.score(X_train, y_train), classifier.score(X_test, y_test)"
   ]
  },
  {
   "cell_type": "markdown",
   "metadata": {},
   "source": [
    "We now check other metrics:"
   ]
  },
  {
   "cell_type": "code",
   "execution_count": 21,
   "metadata": {},
   "outputs": [
    {
     "name": "stdout",
     "output_type": "stream",
     "text": [
      "True positive:  2331\n",
      "False positive:  206\n",
      "FP ratio:  0.08119826566811195 ( 8.12 %)\n",
      "True negative:  3411\n",
      "False negative:  606\n",
      "FN ratio:  0.1508588498879761 ( 15.09 %)\n",
      "Precision:  0.918801734331888 ( 91.88 %)\n",
      "Recall:  0.7936670071501533 ( 79.37 %)\n",
      "Accuracy:  0.8761061946902655 ( 87.61 %)\n"
     ]
    }
   ],
   "source": [
    "TPs, FPs, TNs, FNs, precisions, recalls, accs = [], [], [], [], [], [], []\n",
    "y_pred = classifier.predict(X_test)\n",
    "\n",
    "tn, fp, fn, tp = confusion_matrix(y_test, y_pred).ravel()\n",
    "precision = precision_score(y_test, y_pred)\n",
    "recall = recall_score(y_test, y_pred)\n",
    "acc = accuracy_score(y_test, y_pred)\n",
    "    \n",
    "TNs.append(tn)\n",
    "TPs.append(tp)\n",
    "FPs.append(fp)\n",
    "FNs.append(fn)\n",
    "precisions.append(precision)\n",
    "recalls.append(recall)\n",
    "accs.append(acc)\n",
    "    \n",
    "print(\"True positive: \", tp)\n",
    "print(\"False positive: \", fp)\n",
    "print(\"FP ratio: \", fp/(tp+fp),\"(\",np.round(fp/(tp+fp)*100, 2),\"%)\")\n",
    "print(\"True negative: \", tn)\n",
    "print(\"False negative: \", fn)\n",
    "print(\"FN ratio: \", fn/(tn+fn),\"(\",np.round(fn/(tn+fn)*100, 2),\"%)\")\n",
    "print(\"Precision: \", precision,\"(\",np.round(precision*100, 2),\"%)\")\n",
    "print(\"Recall: \", recall,\"(\",np.round(recall*100, 2),\"%)\")\n",
    "print(\"Accuracy: \", acc,\"(\",np.round(acc*100, 2),\"%)\")"
   ]
  },
  {
   "cell_type": "markdown",
   "metadata": {},
   "source": [
    "Pegasos doesn't always deliver the same results because it depends on the order of which the training examples are presented. Therefore, we run it 100 times and we average the results."
   ]
  },
  {
   "cell_type": "code",
   "execution_count": 22,
   "metadata": {},
   "outputs": [
    {
     "data": {
      "text/plain": [
       "(0.8768452910151163, 0.8654436843812745)"
      ]
     },
     "execution_count": 22,
     "metadata": {},
     "output_type": "execute_result"
    }
   ],
   "source": [
    "results_train, results_test = [], []\n",
    "for i in range(100):\n",
    "    classifier.fit(X_train, y_train)\n",
    "    results_train.append(classifier.score(X_train, y_train))\n",
    "    results_test.append(classifier.score(X_test, y_test))\n",
    "\n",
    "np.mean(results_train), np.mean(results_test)"
   ]
  },
  {
   "cell_type": "markdown",
   "metadata": {},
   "source": [
    "We don't want to stick to a single split. Let's see the learning curve. We use a 10-fold cross validation because we read a paper that suggests so :)"
   ]
  },
  {
   "cell_type": "code",
   "execution_count": 23,
   "metadata": {
    "scrolled": true
   },
   "outputs": [
    {
     "name": "stdout",
     "output_type": "stream",
     "text": [
      "[learning_curve] Training set sizes: [ 1000  2000  3000  4000  5000  6000  7000  8000  9000 10000 11000 12000\n",
      " 13000]\n"
     ]
    },
    {
     "name": "stderr",
     "output_type": "stream",
     "text": [
      "[Parallel(n_jobs=-1)]: Using backend LokyBackend with 8 concurrent workers.\n",
      "[Parallel(n_jobs=-1)]: Done   5 out of 130 | elapsed:    2.6s remaining:  1.1min\n",
      "[Parallel(n_jobs=-1)]: Done  19 out of 130 | elapsed:    5.0s remaining:   29.1s\n",
      "[Parallel(n_jobs=-1)]: Done  33 out of 130 | elapsed:    7.3s remaining:   21.5s\n",
      "[Parallel(n_jobs=-1)]: Done  47 out of 130 | elapsed:    9.2s remaining:   16.3s\n",
      "[Parallel(n_jobs=-1)]: Done  61 out of 130 | elapsed:   11.5s remaining:   13.0s\n",
      "[Parallel(n_jobs=-1)]: Done  75 out of 130 | elapsed:   13.9s remaining:   10.2s\n",
      "[Parallel(n_jobs=-1)]: Done  89 out of 130 | elapsed:   16.1s remaining:    7.4s\n",
      "[Parallel(n_jobs=-1)]: Done 103 out of 130 | elapsed:   18.3s remaining:    4.8s\n",
      "[Parallel(n_jobs=-1)]: Done 117 out of 130 | elapsed:   20.6s remaining:    2.3s\n",
      "[Parallel(n_jobs=-1)]: Done 130 out of 130 | elapsed:   22.2s finished\n"
     ]
    },
    {
     "data": {
      "text/plain": [
       "array([[0.82259887, 0.82635399, 0.84102564, 0.83686319, 0.83544304,\n",
       "        0.81397006, 0.82045322, 0.82388359, 0.76092233, 0.81333333],\n",
       "       [0.82436428, 0.84130688, 0.8658726 , 0.8730065 , 0.88998156,\n",
       "        0.82094082, 0.84533648, 0.86915888, 0.83473054, 0.83949045],\n",
       "       [0.84270953, 0.85431235, 0.86015831, 0.84441733, 0.88847584,\n",
       "        0.83370619, 0.85697875, 0.86197779, 0.83610451, 0.82490272],\n",
       "       [0.84982538, 0.83775811, 0.89406994, 0.85645356, 0.89783654,\n",
       "        0.82281369, 0.84542212, 0.86475196, 0.85681293, 0.85215221],\n",
       "       [0.87185104, 0.86021505, 0.86515071, 0.87478754, 0.89444783,\n",
       "        0.8324568 , 0.87681971, 0.85287846, 0.88690808, 0.82398957],\n",
       "       [0.84324324, 0.85859729, 0.87098473, 0.85495283, 0.89663462,\n",
       "        0.82370593, 0.87023744, 0.87018984, 0.87364208, 0.83967561],\n",
       "       [0.85454545, 0.86157381, 0.87247609, 0.85765125, 0.89263421,\n",
       "        0.82809071, 0.88403361, 0.86446886, 0.85913043, 0.86112796],\n",
       "       [0.85447107, 0.84540787, 0.86645299, 0.85749235, 0.90072639,\n",
       "        0.81030445, 0.86927744, 0.86448848, 0.87421742, 0.85939394],\n",
       "       [0.8507109 , 0.82465589, 0.88186528, 0.87571922, 0.86666667,\n",
       "        0.83898917, 0.84985163, 0.86018075, 0.8377724 , 0.86946521],\n",
       "       [0.87197232, 0.80943513, 0.84496124, 0.8495356 , 0.87844612,\n",
       "        0.83658171, 0.88565022, 0.871903  , 0.88790233, 0.83987539],\n",
       "       [0.8587963 , 0.85398487, 0.88694758, 0.82412698, 0.88261142,\n",
       "        0.81537302, 0.86247086, 0.8488746 , 0.85647335, 0.87583283],\n",
       "       [0.86238532, 0.86023959, 0.87656904, 0.84773151, 0.9010989 ,\n",
       "        0.84776536, 0.86783626, 0.87901991, 0.84223155, 0.83640993],\n",
       "       [0.85959885, 0.86135371, 0.89113924, 0.85108959, 0.89676617,\n",
       "        0.82878788, 0.86464411, 0.87147335, 0.88248848, 0.85890327]])"
      ]
     },
     "execution_count": 23,
     "metadata": {},
     "output_type": "execute_result"
    }
   ],
   "source": [
    "sizes = range(1000, 14000, 1000)\n",
    "train_size, train_score, val_score = learning_curve(Pegasos(), X, currentLabel, train_sizes=sizes, cv=10,\n",
    "                                                   n_jobs=-1, verbose=10)\n",
    "val_score"
   ]
  },
  {
   "cell_type": "code",
   "execution_count": 25,
   "metadata": {},
   "outputs": [
    {
     "data": {
      "image/png": "[encoded data removed]",
      "text/plain": [
       "<Figure size 432x360 with 1 Axes>"
      ]
     },
     "metadata": {
      "needs_background": "light"
     },
     "output_type": "display_data"
    }
   ],
   "source": [
    "plt.figure(figsize=(6, 5))\n",
    "plt.title('Pegasos vs. training size (Label 33)')\n",
    "plt.plot(train_size, np.mean(val_score, 1), label='Validation')\n",
    "plt.plot(train_size, np.mean(train_score, 1), label='Training')\n",
    "plt.legend()\n",
    "plt.xlabel('Training size')\n",
    "plt.ylabel('Score')\n",
    "\n",
    "plt.savefig('pegasos_learning_curve_y1.png')\n",
    "plt.show()"
   ]
  },
  {
   "cell_type": "markdown",
   "metadata": {},
   "source": [
    "We now want to check what are the best values for `lmbd` and `T`. Therefore, we use `GridSearchCV` to estimate them. Again, we run a 10-fold cross validation."
   ]
  },
  {
   "cell_type": "code",
   "execution_count": 26,
   "metadata": {
    "scrolled": true
   },
   "outputs": [
    {
     "name": "stdout",
     "output_type": "stream",
     "text": [
      "Fitting 10 folds for each of 42 candidates, totalling 420 fits\n"
     ]
    },
    {
     "name": "stderr",
     "output_type": "stream",
     "text": [
      "[Parallel(n_jobs=-1)]: Using backend LokyBackend with 8 concurrent workers.\n",
      "[Parallel(n_jobs=-1)]: Done   2 tasks      | elapsed:    0.3s\n",
      "[Parallel(n_jobs=-1)]: Done   9 tasks      | elapsed:    0.5s\n",
      "[Parallel(n_jobs=-1)]: Done  16 tasks      | elapsed:    0.6s\n",
      "[Parallel(n_jobs=-1)]: Done  25 tasks      | elapsed:    1.1s\n",
      "[Parallel(n_jobs=-1)]: Done  34 tasks      | elapsed:    1.4s\n",
      "[Parallel(n_jobs=-1)]: Done  45 tasks      | elapsed:    1.8s\n",
      "[Parallel(n_jobs=-1)]: Done  56 tasks      | elapsed:    2.1s\n",
      "[Parallel(n_jobs=-1)]: Done  69 tasks      | elapsed:    2.7s\n",
      "[Parallel(n_jobs=-1)]: Done  82 tasks      | elapsed:    3.3s\n",
      "[Parallel(n_jobs=-1)]: Done  97 tasks      | elapsed:    3.9s\n",
      "[Parallel(n_jobs=-1)]: Done 112 tasks      | elapsed:    4.6s\n",
      "[Parallel(n_jobs=-1)]: Done 129 tasks      | elapsed:    6.4s\n",
      "[Parallel(n_jobs=-1)]: Done 146 tasks      | elapsed:    9.6s\n",
      "[Parallel(n_jobs=-1)]: Done 165 tasks      | elapsed:   13.3s\n",
      "[Parallel(n_jobs=-1)]: Done 184 tasks      | elapsed:   17.5s\n",
      "[Parallel(n_jobs=-1)]: Done 205 tasks      | elapsed:   23.4s\n",
      "[Parallel(n_jobs=-1)]: Done 226 tasks      | elapsed:   31.3s\n",
      "[Parallel(n_jobs=-1)]: Done 249 tasks      | elapsed:   43.4s\n",
      "[Parallel(n_jobs=-1)]: Done 272 tasks      | elapsed:  1.0min\n",
      "[Parallel(n_jobs=-1)]: Done 297 tasks      | elapsed:  1.4min\n",
      "[Parallel(n_jobs=-1)]: Done 322 tasks      | elapsed:  2.0min\n",
      "[Parallel(n_jobs=-1)]: Done 349 tasks      | elapsed:  2.9min\n",
      "[Parallel(n_jobs=-1)]: Done 376 tasks      | elapsed:  3.8min\n",
      "[Parallel(n_jobs=-1)]: Done 405 tasks      | elapsed:  5.6min\n",
      "[Parallel(n_jobs=-1)]: Done 420 out of 420 | elapsed:  6.4min finished\n"
     ]
    },
    {
     "data": {
      "text/plain": [
       "[{'T': 19860, 'lmbd': 0.0001}, 0.9119869516392145]"
      ]
     },
     "execution_count": 26,
     "metadata": {},
     "output_type": "execute_result"
    }
   ],
   "source": [
    "params = []\n",
    "param_grid = [{'T':[10,100,1000,2000,5000,10000,X.shape[0]],\n",
    "               'lmbd': [0.00001, 0.0001, 0.001, 0.01, 0.1, 1]}]\n",
    "\n",
    "svc = Pegasos()\n",
    "clf = GridSearchCV(svc, param_grid, cv = 10, verbose=10, n_jobs=-1)\n",
    "\n",
    "clf.fit(X, currentLabel)\n",
    "\n",
    "params.append([clf.best_params_, clf.best_score_])\n",
    "params[0]"
   ]
  },
  {
   "cell_type": "markdown",
   "metadata": {},
   "source": [
    "### Other labels: 70, 101, 4"
   ]
  },
  {
   "cell_type": "markdown",
   "metadata": {},
   "source": [
    "We now repeat the same workflow for the other labels.\n",
    "However, here we also upsample and undersample data in order to check if the algorithm prediction improves."
   ]
  },
  {
   "cell_type": "code",
   "execution_count": 27,
   "metadata": {},
   "outputs": [
    {
     "name": "stdout",
     "output_type": "stream",
     "text": [
      "\n",
      "LABEL  70\n",
      "==============\n"
     ]
    },
    {
     "data": {
      "text/html": [
       "<div>\n",
       "<style scoped>\n",
       "    .dataframe tbody tr th:only-of-type {\n",
       "        vertical-align: middle;\n",
       "    }\n",
       "\n",
       "    .dataframe tbody tr th {\n",
       "        vertical-align: top;\n",
       "    }\n",
       "\n",
       "    .dataframe thead th {\n",
       "        text-align: right;\n",
       "    }\n",
       "</style>\n",
       "<table border=\"1\" class=\"dataframe\">\n",
       "  <thead>\n",
       "    <tr style=\"text-align: right;\">\n",
       "      <th></th>\n",
       "      <th>Metric</th>\n",
       "      <th>Not resampled</th>\n",
       "      <th>Oversampled</th>\n",
       "      <th>Undersampled</th>\n",
       "    </tr>\n",
       "  </thead>\n",
       "  <tbody>\n",
       "    <tr>\n",
       "      <th>0</th>\n",
       "      <td>True positive</td>\n",
       "      <td>1406</td>\n",
       "      <td>1733</td>\n",
       "      <td>1727</td>\n",
       "    </tr>\n",
       "    <tr>\n",
       "      <th>1</th>\n",
       "      <td>False positive</td>\n",
       "      <td>55</td>\n",
       "      <td>342</td>\n",
       "      <td>360</td>\n",
       "    </tr>\n",
       "    <tr>\n",
       "      <th>2</th>\n",
       "      <td>True negative</td>\n",
       "      <td>4640</td>\n",
       "      <td>4353</td>\n",
       "      <td>4335</td>\n",
       "    </tr>\n",
       "    <tr>\n",
       "      <th>3</th>\n",
       "      <td>False negative</td>\n",
       "      <td>453</td>\n",
       "      <td>126</td>\n",
       "      <td>132</td>\n",
       "    </tr>\n",
       "    <tr>\n",
       "      <th>4</th>\n",
       "      <td>FP ratio</td>\n",
       "      <td>0.03764544832306639 (3.76%)</td>\n",
       "      <td>0.16481927710843375 (16.48%)</td>\n",
       "      <td>0.17249640632486823 (17.25%)</td>\n",
       "    </tr>\n",
       "    <tr>\n",
       "      <th>5</th>\n",
       "      <td>FN ratio</td>\n",
       "      <td>0.08894561162379737 (8.89%)</td>\n",
       "      <td>0.02813127930341594 (2.81%)</td>\n",
       "      <td>0.029550033579583614 (2.96%)</td>\n",
       "    </tr>\n",
       "    <tr>\n",
       "      <th>6</th>\n",
       "      <td>Training score</td>\n",
       "      <td>0.861642625846335 (86.16%)</td>\n",
       "      <td>0.938092991560518 (93.81%)</td>\n",
       "      <td>0.9330859944348748 (93.31%)</td>\n",
       "    </tr>\n",
       "    <tr>\n",
       "      <th>7</th>\n",
       "      <td>Test score</td>\n",
       "      <td>0.846987951807229 (84.7%)</td>\n",
       "      <td>0.8810371123538384 (88.1%)</td>\n",
       "      <td>0.8753167764825139 (87.53%)</td>\n",
       "    </tr>\n",
       "    <tr>\n",
       "      <th>8</th>\n",
       "      <td>Precision</td>\n",
       "      <td>0.9623545516769336 (96.24%)</td>\n",
       "      <td>0.8351807228915663 (83.52%)</td>\n",
       "      <td>0.8275035936751318 (82.75%)</td>\n",
       "    </tr>\n",
       "    <tr>\n",
       "      <th>9</th>\n",
       "      <td>Recall</td>\n",
       "      <td>0.7563206024744487 (75.63%)</td>\n",
       "      <td>0.9322216245293168 (75.63%)</td>\n",
       "      <td>0.9289940828402367 (75.63%)</td>\n",
       "    </tr>\n",
       "    <tr>\n",
       "      <th>10</th>\n",
       "      <td>Accuracy</td>\n",
       "      <td>0.9224900823924321 (92.25%)</td>\n",
       "      <td>0.9285932255111382 (92.86%)</td>\n",
       "      <td>0.9249313396399146 (92.49%)</td>\n",
       "    </tr>\n",
       "  </tbody>\n",
       "</table>\n",
       "</div>"
      ],
      "text/plain": [
       "            Metric                Not resampled                   Oversampled  \\\n",
       "0    True positive                         1406                          1733   \n",
       "1   False positive                           55                           342   \n",
       "2    True negative                         4640                          4353   \n",
       "3   False negative                          453                           126   \n",
       "4         FP ratio  0.03764544832306639 (3.76%)  0.16481927710843375 (16.48%)   \n",
       "5         FN ratio  0.08894561162379737 (8.89%)   0.02813127930341594 (2.81%)   \n",
       "6   Training score   0.861642625846335 (86.16%)    0.938092991560518 (93.81%)   \n",
       "7       Test score    0.846987951807229 (84.7%)    0.8810371123538384 (88.1%)   \n",
       "8        Precision  0.9623545516769336 (96.24%)   0.8351807228915663 (83.52%)   \n",
       "9           Recall  0.7563206024744487 (75.63%)   0.9322216245293168 (75.63%)   \n",
       "10        Accuracy  0.9224900823924321 (92.25%)   0.9285932255111382 (92.86%)   \n",
       "\n",
       "                    Undersampled  \n",
       "0                           1727  \n",
       "1                            360  \n",
       "2                           4335  \n",
       "3                            132  \n",
       "4   0.17249640632486823 (17.25%)  \n",
       "5   0.029550033579583614 (2.96%)  \n",
       "6    0.9330859944348748 (93.31%)  \n",
       "7    0.8753167764825139 (87.53%)  \n",
       "8    0.8275035936751318 (82.75%)  \n",
       "9    0.9289940828402367 (75.63%)  \n",
       "10   0.9249313396399146 (92.49%)  "
      ]
     },
     "metadata": {},
     "output_type": "display_data"
    },
    {
     "name": "stdout",
     "output_type": "stream",
     "text": [
      "\n",
      "LABEL  101\n",
      "==============\n"
     ]
    },
    {
     "data": {
      "text/html": [
       "<div>\n",
       "<style scoped>\n",
       "    .dataframe tbody tr th:only-of-type {\n",
       "        vertical-align: middle;\n",
       "    }\n",
       "\n",
       "    .dataframe tbody tr th {\n",
       "        vertical-align: top;\n",
       "    }\n",
       "\n",
       "    .dataframe thead th {\n",
       "        text-align: right;\n",
       "    }\n",
       "</style>\n",
       "<table border=\"1\" class=\"dataframe\">\n",
       "  <thead>\n",
       "    <tr style=\"text-align: right;\">\n",
       "      <th></th>\n",
       "      <th>Metric</th>\n",
       "      <th>Not resampled</th>\n",
       "      <th>Oversampled</th>\n",
       "      <th>Undersampled</th>\n",
       "    </tr>\n",
       "  </thead>\n",
       "  <tbody>\n",
       "    <tr>\n",
       "      <th>0</th>\n",
       "      <td>True positive</td>\n",
       "      <td>1116</td>\n",
       "      <td>1496</td>\n",
       "      <td>1511</td>\n",
       "    </tr>\n",
       "    <tr>\n",
       "      <th>1</th>\n",
       "      <td>False positive</td>\n",
       "      <td>86</td>\n",
       "      <td>318</td>\n",
       "      <td>371</td>\n",
       "    </tr>\n",
       "    <tr>\n",
       "      <th>2</th>\n",
       "      <td>True negative</td>\n",
       "      <td>4860</td>\n",
       "      <td>4628</td>\n",
       "      <td>4575</td>\n",
       "    </tr>\n",
       "    <tr>\n",
       "      <th>3</th>\n",
       "      <td>False negative</td>\n",
       "      <td>492</td>\n",
       "      <td>112</td>\n",
       "      <td>97</td>\n",
       "    </tr>\n",
       "    <tr>\n",
       "      <th>4</th>\n",
       "      <td>FP ratio</td>\n",
       "      <td>0.07154742096505824 (7.15%)</td>\n",
       "      <td>0.175303197353914 (17.53%)</td>\n",
       "      <td>0.1971307120085016 (19.71%)</td>\n",
       "    </tr>\n",
       "    <tr>\n",
       "      <th>5</th>\n",
       "      <td>FN ratio</td>\n",
       "      <td>0.09192825112107623 (9.19%)</td>\n",
       "      <td>0.02362869198312236 (2.36%)</td>\n",
       "      <td>0.020761986301369863 (2.08%)</td>\n",
       "    </tr>\n",
       "    <tr>\n",
       "      <th>6</th>\n",
       "      <td>Training score</td>\n",
       "      <td>0.808414464534075 (80.84%)</td>\n",
       "      <td>0.942035464163314 (94.2%)</td>\n",
       "      <td>0.9410334346504559 (94.1%)</td>\n",
       "    </tr>\n",
       "    <tr>\n",
       "      <th>7</th>\n",
       "      <td>Test score</td>\n",
       "      <td>0.794306049822064 (79.43%)</td>\n",
       "      <td>0.8743424897720632 (87.43%)</td>\n",
       "      <td>0.8659025787965616 (86.59%)</td>\n",
       "    </tr>\n",
       "    <tr>\n",
       "      <th>8</th>\n",
       "      <td>Precision</td>\n",
       "      <td>0.9284525790349417 (92.85%)</td>\n",
       "      <td>0.824696802646086 (82.47%)</td>\n",
       "      <td>0.8028692879914984 (80.29%)</td>\n",
       "    </tr>\n",
       "    <tr>\n",
       "      <th>9</th>\n",
       "      <td>Recall</td>\n",
       "      <td>0.6940298507462687 (69.4%)</td>\n",
       "      <td>0.9303482587064676 (69.4%)</td>\n",
       "      <td>0.9396766169154229 (69.4%)</td>\n",
       "    </tr>\n",
       "    <tr>\n",
       "      <th>10</th>\n",
       "      <td>Accuracy</td>\n",
       "      <td>0.9118095819346964 (91.18%)</td>\n",
       "      <td>0.934391211473909 (93.44%)</td>\n",
       "      <td>0.9285932255111382 (92.86%)</td>\n",
       "    </tr>\n",
       "  </tbody>\n",
       "</table>\n",
       "</div>"
      ],
      "text/plain": [
       "            Metric                Not resampled                  Oversampled  \\\n",
       "0    True positive                         1116                         1496   \n",
       "1   False positive                           86                          318   \n",
       "2    True negative                         4860                         4628   \n",
       "3   False negative                          492                          112   \n",
       "4         FP ratio  0.07154742096505824 (7.15%)   0.175303197353914 (17.53%)   \n",
       "5         FN ratio  0.09192825112107623 (9.19%)  0.02362869198312236 (2.36%)   \n",
       "6   Training score   0.808414464534075 (80.84%)    0.942035464163314 (94.2%)   \n",
       "7       Test score   0.794306049822064 (79.43%)  0.8743424897720632 (87.43%)   \n",
       "8        Precision  0.9284525790349417 (92.85%)   0.824696802646086 (82.47%)   \n",
       "9           Recall   0.6940298507462687 (69.4%)   0.9303482587064676 (69.4%)   \n",
       "10        Accuracy  0.9118095819346964 (91.18%)   0.934391211473909 (93.44%)   \n",
       "\n",
       "                    Undersampled  \n",
       "0                           1511  \n",
       "1                            371  \n",
       "2                           4575  \n",
       "3                             97  \n",
       "4    0.1971307120085016 (19.71%)  \n",
       "5   0.020761986301369863 (2.08%)  \n",
       "6     0.9410334346504559 (94.1%)  \n",
       "7    0.8659025787965616 (86.59%)  \n",
       "8    0.8028692879914984 (80.29%)  \n",
       "9     0.9396766169154229 (69.4%)  \n",
       "10   0.9285932255111382 (92.86%)  "
      ]
     },
     "metadata": {},
     "output_type": "display_data"
    },
    {
     "name": "stdout",
     "output_type": "stream",
     "text": [
      "\n",
      "LABEL  4\n",
      "==============\n"
     ]
    },
    {
     "data": {
      "text/html": [
       "<div>\n",
       "<style scoped>\n",
       "    .dataframe tbody tr th:only-of-type {\n",
       "        vertical-align: middle;\n",
       "    }\n",
       "\n",
       "    .dataframe tbody tr th {\n",
       "        vertical-align: top;\n",
       "    }\n",
       "\n",
       "    .dataframe thead th {\n",
       "        text-align: right;\n",
       "    }\n",
       "</style>\n",
       "<table border=\"1\" class=\"dataframe\">\n",
       "  <thead>\n",
       "    <tr style=\"text-align: right;\">\n",
       "      <th></th>\n",
       "      <th>Metric</th>\n",
       "      <th>Not resampled</th>\n",
       "      <th>Oversampled</th>\n",
       "      <th>Undersampled</th>\n",
       "    </tr>\n",
       "  </thead>\n",
       "  <tbody>\n",
       "    <tr>\n",
       "      <th>0</th>\n",
       "      <td>True positive</td>\n",
       "      <td>821</td>\n",
       "      <td>1018</td>\n",
       "      <td>1041</td>\n",
       "    </tr>\n",
       "    <tr>\n",
       "      <th>1</th>\n",
       "      <td>False positive</td>\n",
       "      <td>66</td>\n",
       "      <td>186</td>\n",
       "      <td>313</td>\n",
       "    </tr>\n",
       "    <tr>\n",
       "      <th>2</th>\n",
       "      <td>True negative</td>\n",
       "      <td>5345</td>\n",
       "      <td>5225</td>\n",
       "      <td>5098</td>\n",
       "    </tr>\n",
       "    <tr>\n",
       "      <th>3</th>\n",
       "      <td>False negative</td>\n",
       "      <td>322</td>\n",
       "      <td>125</td>\n",
       "      <td>102</td>\n",
       "    </tr>\n",
       "    <tr>\n",
       "      <th>4</th>\n",
       "      <td>FP ratio</td>\n",
       "      <td>0.07440811724915446 (7.44%)</td>\n",
       "      <td>0.15448504983388706 (15.45%)</td>\n",
       "      <td>0.2311669128508124 (23.12%)</td>\n",
       "    </tr>\n",
       "    <tr>\n",
       "      <th>5</th>\n",
       "      <td>FN ratio</td>\n",
       "      <td>0.056820187047820714 (5.68%)</td>\n",
       "      <td>0.02336448598130841 (2.34%)</td>\n",
       "      <td>0.019615384615384614 (1.96%)</td>\n",
       "    </tr>\n",
       "    <tr>\n",
       "      <th>6</th>\n",
       "      <td>Training score</td>\n",
       "      <td>0.8309178743961352 (83.09%)</td>\n",
       "      <td>0.9359837957510952 (93.6%)</td>\n",
       "      <td>0.9328358208955225 (93.28%)</td>\n",
       "    </tr>\n",
       "    <tr>\n",
       "      <th>7</th>\n",
       "      <td>Test score</td>\n",
       "      <td>0.8088669950738916 (80.89%)</td>\n",
       "      <td>0.8674904132935664 (86.75%)</td>\n",
       "      <td>0.8338005606728074 (83.38%)</td>\n",
       "    </tr>\n",
       "    <tr>\n",
       "      <th>8</th>\n",
       "      <td>Precision</td>\n",
       "      <td>0.9255918827508456 (92.56%)</td>\n",
       "      <td>0.845514950166113 (84.55%)</td>\n",
       "      <td>0.7688330871491876 (76.88%)</td>\n",
       "    </tr>\n",
       "    <tr>\n",
       "      <th>9</th>\n",
       "      <td>Recall</td>\n",
       "      <td>0.7182852143482065 (71.83%)</td>\n",
       "      <td>0.8906386701662292 (71.83%)</td>\n",
       "      <td>0.910761154855643 (71.83%)</td>\n",
       "    </tr>\n",
       "    <tr>\n",
       "      <th>10</th>\n",
       "      <td>Accuracy</td>\n",
       "      <td>0.9407995117485505 (94.08%)</td>\n",
       "      <td>0.9525480622520598 (95.25%)</td>\n",
       "      <td>0.9366798901434239 (93.67%)</td>\n",
       "    </tr>\n",
       "  </tbody>\n",
       "</table>\n",
       "</div>"
      ],
      "text/plain": [
       "            Metric                 Not resampled  \\\n",
       "0    True positive                           821   \n",
       "1   False positive                            66   \n",
       "2    True negative                          5345   \n",
       "3   False negative                           322   \n",
       "4         FP ratio   0.07440811724915446 (7.44%)   \n",
       "5         FN ratio  0.056820187047820714 (5.68%)   \n",
       "6   Training score   0.8309178743961352 (83.09%)   \n",
       "7       Test score   0.8088669950738916 (80.89%)   \n",
       "8        Precision   0.9255918827508456 (92.56%)   \n",
       "9           Recall   0.7182852143482065 (71.83%)   \n",
       "10        Accuracy   0.9407995117485505 (94.08%)   \n",
       "\n",
       "                     Oversampled                  Undersampled  \n",
       "0                           1018                          1041  \n",
       "1                            186                           313  \n",
       "2                           5225                          5098  \n",
       "3                            125                           102  \n",
       "4   0.15448504983388706 (15.45%)   0.2311669128508124 (23.12%)  \n",
       "5    0.02336448598130841 (2.34%)  0.019615384615384614 (1.96%)  \n",
       "6     0.9359837957510952 (93.6%)   0.9328358208955225 (93.28%)  \n",
       "7    0.8674904132935664 (86.75%)   0.8338005606728074 (83.38%)  \n",
       "8     0.845514950166113 (84.55%)   0.7688330871491876 (76.88%)  \n",
       "9    0.8906386701662292 (71.83%)    0.910761154855643 (71.83%)  \n",
       "10   0.9525480622520598 (95.25%)   0.9366798901434239 (93.67%)  "
      ]
     },
     "metadata": {},
     "output_type": "display_data"
    }
   ],
   "source": [
    "lbl_idx = { '2': '70', '3': '101', '4': '4' }\n",
    "TPs_resampled, FPs_resampled, TNs_resampled, FNs_resampled, precisions_resampled, recalls_resampled, accs_resampled = [], [], [], [], [], [], []\n",
    "TPs_unders, FPs_unders, TNs_unders, FNs_unders, precisions_unders, recalls_unders, accs_unders = [], [], [], [], [], [], []\n",
    "\n",
    "for i in range(2,5):\n",
    "    currentLabel = eval('y'+str(i))\n",
    "    \n",
    "    X_train, X_test, y_train, y_test = train_test_split(X, currentLabel, test_size=0.33,\n",
    "                                                        random_state=42, stratify=currentLabel)\n",
    "    \n",
    "    classifier = Pegasos()\n",
    "    classifier.fit(X_train, y_train)\n",
    "    train_score = classifier.score(X_train, y_train)\n",
    "    \n",
    "    y_pred = classifier.predict(X_test)  \n",
    "    f1 = f1_score(y_test, y_pred)\n",
    "    tn, fp, fn, tp = confusion_matrix(y_test, y_pred).ravel()\n",
    "    precision = precision_score(y_test, y_pred)\n",
    "    recall = recall_score(y_test, y_pred)\n",
    "    acc = accuracy_score(y_test, y_pred)\n",
    "    \n",
    "    TNs.append(tn)\n",
    "    TPs.append(tp)\n",
    "    FPs.append(fp)\n",
    "    FNs.append(fn)\n",
    "    precisions.append(precision)\n",
    "    recalls.append(recall)\n",
    "    accs.append(acc)\n",
    "    \n",
    "    # Up-sample\n",
    "    ros = RandomOverSampler(random_state=42)\n",
    "    X_train_resampled, y_train_resampled = ros.fit_resample(X_train, y_train)\n",
    "    \n",
    "    classifier = Pegasos()\n",
    "    classifier.fit(X_train_resampled, y_train_resampled)\n",
    "    train_score_resampled = classifier.score(X_train_resampled, y_train_resampled)\n",
    "    \n",
    "    y_pred = classifier.predict(X_test)  \n",
    "    f1_resampled = f1_score(y_test, y_pred)\n",
    "    tn_resampled, fp_resampled, fn_resampled, tp_resampled = confusion_matrix(y_test, y_pred).ravel()\n",
    "    precision_resampled = precision_score(y_test, y_pred)\n",
    "    recall_resampled = recall_score(y_test, y_pred)\n",
    "    acc_resampled = accuracy_score(y_test, y_pred)\n",
    "    \n",
    "    TNs_resampled.append(tn_resampled)\n",
    "    TPs_resampled.append(tp_resampled)\n",
    "    FPs_resampled.append(fp_resampled)\n",
    "    FNs_resampled.append(fn_resampled)\n",
    "    precisions_resampled.append(precision_resampled)\n",
    "    recalls_resampled.append(recall_resampled)\n",
    "    accs_resampled.append(acc_resampled)\n",
    "    \n",
    "    # Under-sample\n",
    "    rus = RandomUnderSampler(random_state=42, replacement=True)\n",
    "    X_train_unders, y_train_unders = rus.fit_resample(X_train, y_train)\n",
    "    \n",
    "    classifier = Pegasos()\n",
    "    classifier.fit(X_train_unders, y_train_unders)\n",
    "    train_score_unders = classifier.score(X_train_unders, y_train_unders)\n",
    "    \n",
    "    y_pred = classifier.predict(X_test)  \n",
    "    f1_unders = f1_score(y_test, y_pred)\n",
    "    tn_unders, fp_unders, fn_unders, tp_unders = confusion_matrix(y_test, y_pred).ravel()\n",
    "    precision_unders = precision_score(y_test, y_pred)\n",
    "    recall_unders = recall_score(y_test, y_pred)\n",
    "    acc_unders = accuracy_score(y_test, y_pred)\n",
    "    \n",
    "    TNs_unders.append(tn_unders)\n",
    "    TPs_unders.append(tp_unders)\n",
    "    FPs_unders.append(fp_unders)\n",
    "    FNs_unders.append(fn_unders)\n",
    "    precisions_unders.append(precision_unders)\n",
    "    recalls_unders.append(recall_unders)\n",
    "    accs_unders.append(acc_unders)\n",
    "    \n",
    "    print(\"\\nLABEL \", lbl_idx.get(str(i)))\n",
    "    print(\"==============\")\n",
    "    \n",
    "    metrics_name = [\"True positive\", \"False positive\", \"True negative\", \"False negative\", \"FP ratio\", \"FN ratio\",\n",
    "                    \"Training score\", \"Test score\", \"Precision\", \"Recall\", \"Accuracy\"]\n",
    "    nr = [tp,fp,tn,fn,\n",
    "          str(fp/(tp+fp))+\" (\"+str(np.round(fp/(tp+fp)*100, 2))+\"%)\",\n",
    "          str(fn/(tn+fn))+\" (\"+str(np.round(fn/(tn+fn)*100, 2))+\"%)\",\n",
    "          str(train_score)+\" (\"+str(np.round(train_score*100, 2))+\"%)\",\n",
    "          str(f1)+\" (\"+str(np.round(f1*100, 2))+\"%)\",\n",
    "          str(precision)+\" (\"+str(np.round(precision*100, 2))+\"%)\",\n",
    "          str(recall)+\" (\"+str(np.round(recall*100, 2))+\"%)\",\n",
    "          str(acc)+\" (\"+str(np.round(acc*100, 2))+\"%)\"]\n",
    "    \n",
    "    ovs = [tp_resampled,fp_resampled, tn_resampled,fn_resampled,\n",
    "          str(fp_resampled/(tp_resampled+fp_resampled))+\" (\"+str(np.round(fp_resampled/(tp_resampled+fp_resampled)*100, 2))+\"%)\",\n",
    "          str(fn_resampled/(tn_resampled+fn_resampled))+\" (\"+str(np.round(fn_resampled/(tn_resampled+fn_resampled)*100, 2))+\"%)\",\n",
    "          str(train_score_resampled)+\" (\"+str(np.round(train_score_resampled*100, 2))+\"%)\",\n",
    "          str(f1_resampled)+\" (\"+str(np.round(f1_resampled*100, 2))+\"%)\",\n",
    "          str(precision_resampled)+\" (\"+str(np.round(precision_resampled*100, 2))+\"%)\",\n",
    "          str(recall_resampled)+\" (\"+str(np.round(recall*100, 2))+\"%)\",\n",
    "          str(acc_resampled)+\" (\"+str(np.round(acc_resampled*100, 2))+\"%)\"]\n",
    "    \n",
    "    uds = [tp_unders,fp_unders, tn_unders,fn_unders,\n",
    "          str(fp_unders/(tp_unders+fp_unders))+\" (\"+str(np.round(fp_unders/(tp_unders+fp_unders)*100, 2))+\"%)\",\n",
    "          str(fn_unders/(tn_unders+fn_unders))+\" (\"+str(np.round(fn_unders/(tn_unders+fn_unders)*100, 2))+\"%)\",\n",
    "          str(train_score_unders)+\" (\"+str(np.round(train_score_unders*100, 2))+\"%)\",\n",
    "          str(f1_unders)+\" (\"+str(np.round(f1_unders*100, 2))+\"%)\",\n",
    "          str(precision_unders)+\" (\"+str(np.round(precision_unders*100, 2))+\"%)\",\n",
    "          str(recall_unders)+\" (\"+str(np.round(recall*100, 2))+\"%)\",\n",
    "          str(acc_unders)+\" (\"+str(np.round(acc_unders*100, 2))+\"%)\"]\n",
    "    \n",
    "    df1 = pd.DataFrame(np.column_stack([metrics_name, nr, ovs, uds]), columns=[\"Metric\", \"Not resampled\", \"Oversampled\", \"Undersampled\"])\n",
    "    display(df1)"
   ]
  },
  {
   "cell_type": "code",
   "execution_count": 28,
   "metadata": {},
   "outputs": [
    {
     "name": "stdout",
     "output_type": "stream",
     "text": [
      "[learning_curve] Training set sizes: [ 1000  2000  3000  4000  5000  6000  7000  8000  9000 10000 11000 12000\n",
      " 13000]\n"
     ]
    },
    {
     "name": "stderr",
     "output_type": "stream",
     "text": [
      "[Parallel(n_jobs=-1)]: Using backend LokyBackend with 8 concurrent workers.\n",
      "[Parallel(n_jobs=-1)]: Done   5 out of 130 | elapsed:    1.3s remaining:   33.2s\n",
      "[Parallel(n_jobs=-1)]: Done  19 out of 130 | elapsed:    3.8s remaining:   22.0s\n",
      "[Parallel(n_jobs=-1)]: Done  33 out of 130 | elapsed:    6.1s remaining:   17.9s\n",
      "[Parallel(n_jobs=-1)]: Done  47 out of 130 | elapsed:    8.1s remaining:   14.3s\n",
      "[Parallel(n_jobs=-1)]: Done  61 out of 130 | elapsed:   10.4s remaining:   11.7s\n",
      "[Parallel(n_jobs=-1)]: Done  75 out of 130 | elapsed:   12.7s remaining:    9.3s\n",
      "[Parallel(n_jobs=-1)]: Done  89 out of 130 | elapsed:   14.5s remaining:    6.7s\n",
      "[Parallel(n_jobs=-1)]: Done 103 out of 130 | elapsed:   16.8s remaining:    4.4s\n",
      "[Parallel(n_jobs=-1)]: Done 117 out of 130 | elapsed:   18.7s remaining:    2.1s\n",
      "[Parallel(n_jobs=-1)]: Done 130 out of 130 | elapsed:   20.4s finished\n",
      "[Parallel(n_jobs=-1)]: Using backend LokyBackend with 8 concurrent workers.\n"
     ]
    },
    {
     "name": "stdout",
     "output_type": "stream",
     "text": [
      "[learning_curve] Training set sizes: [ 1000  2000  3000  4000  5000  6000  7000  8000  9000 10000 11000 12000\n",
      " 13000]\n"
     ]
    },
    {
     "name": "stderr",
     "output_type": "stream",
     "text": [
      "[Parallel(n_jobs=-1)]: Done   5 out of 130 | elapsed:    1.3s remaining:   33.1s\n",
      "[Parallel(n_jobs=-1)]: Done  19 out of 130 | elapsed:    3.6s remaining:   21.1s\n",
      "[Parallel(n_jobs=-1)]: Done  33 out of 130 | elapsed:    5.8s remaining:   17.1s\n",
      "[Parallel(n_jobs=-1)]: Done  47 out of 130 | elapsed:    7.4s remaining:   13.1s\n",
      "[Parallel(n_jobs=-1)]: Done  61 out of 130 | elapsed:    9.6s remaining:   10.9s\n",
      "[Parallel(n_jobs=-1)]: Done  75 out of 130 | elapsed:   11.7s remaining:    8.6s\n",
      "[Parallel(n_jobs=-1)]: Done  89 out of 130 | elapsed:   13.7s remaining:    6.3s\n",
      "[Parallel(n_jobs=-1)]: Done 103 out of 130 | elapsed:   15.7s remaining:    4.1s\n",
      "[Parallel(n_jobs=-1)]: Done 117 out of 130 | elapsed:   17.9s remaining:    2.0s\n",
      "[Parallel(n_jobs=-1)]: Done 130 out of 130 | elapsed:   19.3s finished\n",
      "[Parallel(n_jobs=-1)]: Using backend LokyBackend with 8 concurrent workers.\n"
     ]
    },
    {
     "name": "stdout",
     "output_type": "stream",
     "text": [
      "[learning_curve] Training set sizes: [ 1000  2000  3000  4000  5000  6000  7000  8000  9000 10000 11000 12000\n",
      " 13000]\n"
     ]
    },
    {
     "name": "stderr",
     "output_type": "stream",
     "text": [
      "[Parallel(n_jobs=-1)]: Done   5 out of 130 | elapsed:    1.2s remaining:   30.1s\n",
      "[Parallel(n_jobs=-1)]: Done  19 out of 130 | elapsed:    3.5s remaining:   20.3s\n",
      "[Parallel(n_jobs=-1)]: Done  33 out of 130 | elapsed:    5.4s remaining:   15.9s\n",
      "[Parallel(n_jobs=-1)]: Done  47 out of 130 | elapsed:    7.0s remaining:   12.4s\n",
      "[Parallel(n_jobs=-1)]: Done  61 out of 130 | elapsed:    9.2s remaining:   10.4s\n",
      "[Parallel(n_jobs=-1)]: Done  75 out of 130 | elapsed:   11.1s remaining:    8.1s\n",
      "[Parallel(n_jobs=-1)]: Done  89 out of 130 | elapsed:   12.9s remaining:    5.9s\n",
      "[Parallel(n_jobs=-1)]: Done 103 out of 130 | elapsed:   14.8s remaining:    3.9s\n",
      "[Parallel(n_jobs=-1)]: Done 117 out of 130 | elapsed:   16.7s remaining:    1.9s\n",
      "[Parallel(n_jobs=-1)]: Done 130 out of 130 | elapsed:   18.0s finished\n"
     ]
    },
    {
     "data": {
      "image/png": "[encoded data removed]",
      "text/plain": [
       "<Figure size 1440x360 with 3 Axes>"
      ]
     },
     "metadata": {
      "needs_background": "light"
     },
     "output_type": "display_data"
    }
   ],
   "source": [
    "plt.figure(figsize=(20, 5))\n",
    "\n",
    "for i in range(2,5):\n",
    "    currentLabel = eval('y'+str(i))\n",
    "\n",
    "    sizes = range(1000, 14000, 1000)\n",
    "    train_size, train_score, val_score = learning_curve(Pegasos(), X, currentLabel, train_sizes=sizes, cv=10,\n",
    "                                                   n_jobs=-1, verbose=10)\n",
    "    \n",
    "    plt.subplot(1, 3, i-1)\n",
    "    plt.title('Pegasos vs. training size (Label ' + lbl_idx.get(str(i)) + ')')\n",
    "    plt.plot(train_size, np.mean(val_score, 1), label='Validation')\n",
    "    plt.plot(train_size, np.mean(train_score, 1), label='Training')\n",
    "    plt.legend()\n",
    "    plt.xlabel('Training size')\n",
    "    plt.ylabel('Score')\n",
    "\n",
    "plt.savefig('pegasos_learning_curve_other.png')\n",
    "plt.show()"
   ]
  },
  {
   "cell_type": "markdown",
   "metadata": {},
   "source": [
    "We run `GridSearchCV` to get the best parameters of Pegasos for every label."
   ]
  },
  {
   "cell_type": "code",
   "execution_count": 29,
   "metadata": {},
   "outputs": [
    {
     "name": "stdout",
     "output_type": "stream",
     "text": [
      "Fitting 10 folds for each of 42 candidates, totalling 420 fits\n"
     ]
    },
    {
     "name": "stderr",
     "output_type": "stream",
     "text": [
      "[Parallel(n_jobs=-1)]: Using backend LokyBackend with 8 concurrent workers.\n",
      "[Parallel(n_jobs=-1)]: Done   2 tasks      | elapsed:    0.4s\n",
      "[Parallel(n_jobs=-1)]: Done   9 tasks      | elapsed:    0.7s\n",
      "[Parallel(n_jobs=-1)]: Done  16 tasks      | elapsed:    0.8s\n",
      "[Parallel(n_jobs=-1)]: Done  25 tasks      | elapsed:    1.6s\n",
      "[Parallel(n_jobs=-1)]: Done  34 tasks      | elapsed:    2.0s\n",
      "[Parallel(n_jobs=-1)]: Done  45 tasks      | elapsed:    2.5s\n",
      "[Parallel(n_jobs=-1)]: Done  56 tasks      | elapsed:    3.0s\n",
      "[Parallel(n_jobs=-1)]: Done  69 tasks      | elapsed:    3.8s\n",
      "[Parallel(n_jobs=-1)]: Done  82 tasks      | elapsed:    4.6s\n",
      "[Parallel(n_jobs=-1)]: Done  97 tasks      | elapsed:    5.5s\n",
      "[Parallel(n_jobs=-1)]: Done 112 tasks      | elapsed:    6.3s\n",
      "[Parallel(n_jobs=-1)]: Done 129 tasks      | elapsed:    8.3s\n",
      "[Parallel(n_jobs=-1)]: Done 146 tasks      | elapsed:   10.9s\n",
      "[Parallel(n_jobs=-1)]: Done 165 tasks      | elapsed:   15.0s\n",
      "[Parallel(n_jobs=-1)]: Done 184 tasks      | elapsed:   19.1s\n",
      "[Parallel(n_jobs=-1)]: Done 205 tasks      | elapsed:   24.2s\n",
      "[Parallel(n_jobs=-1)]: Done 226 tasks      | elapsed:   32.3s\n",
      "[Parallel(n_jobs=-1)]: Done 249 tasks      | elapsed:   44.0s\n",
      "[Parallel(n_jobs=-1)]: Done 272 tasks      | elapsed:  1.0min\n",
      "[Parallel(n_jobs=-1)]: Done 297 tasks      | elapsed:  1.4min\n",
      "[Parallel(n_jobs=-1)]: Done 322 tasks      | elapsed:  1.9min\n",
      "[Parallel(n_jobs=-1)]: Done 349 tasks      | elapsed:  2.7min\n",
      "[Parallel(n_jobs=-1)]: Done 376 tasks      | elapsed:  3.7min\n",
      "[Parallel(n_jobs=-1)]: Done 405 tasks      | elapsed:  5.4min\n",
      "[Parallel(n_jobs=-1)]: Done 420 out of 420 | elapsed:  6.2min finished\n"
     ]
    },
    {
     "name": "stdout",
     "output_type": "stream",
     "text": [
      "Fitting 10 folds for each of 42 candidates, totalling 420 fits\n"
     ]
    },
    {
     "name": "stderr",
     "output_type": "stream",
     "text": [
      "[Parallel(n_jobs=-1)]: Using backend LokyBackend with 8 concurrent workers.\n",
      "[Parallel(n_jobs=-1)]: Done   2 tasks      | elapsed:    0.3s\n",
      "[Parallel(n_jobs=-1)]: Done   9 tasks      | elapsed:    0.7s\n",
      "[Parallel(n_jobs=-1)]: Done  16 tasks      | elapsed:    0.9s\n",
      "[Parallel(n_jobs=-1)]: Done  25 tasks      | elapsed:    1.5s\n",
      "[Parallel(n_jobs=-1)]: Done  34 tasks      | elapsed:    1.9s\n",
      "[Parallel(n_jobs=-1)]: Done  45 tasks      | elapsed:    2.5s\n",
      "[Parallel(n_jobs=-1)]: Done  56 tasks      | elapsed:    3.0s\n",
      "[Parallel(n_jobs=-1)]: Done  69 tasks      | elapsed:    3.7s\n",
      "[Parallel(n_jobs=-1)]: Done  82 tasks      | elapsed:    4.5s\n",
      "[Parallel(n_jobs=-1)]: Done  97 tasks      | elapsed:    5.4s\n",
      "[Parallel(n_jobs=-1)]: Done 112 tasks      | elapsed:    6.2s\n",
      "[Parallel(n_jobs=-1)]: Done 129 tasks      | elapsed:    8.6s\n",
      "[Parallel(n_jobs=-1)]: Done 146 tasks      | elapsed:   11.2s\n",
      "[Parallel(n_jobs=-1)]: Done 165 tasks      | elapsed:   14.9s\n",
      "[Parallel(n_jobs=-1)]: Done 184 tasks      | elapsed:   18.6s\n",
      "[Parallel(n_jobs=-1)]: Done 205 tasks      | elapsed:   24.6s\n",
      "[Parallel(n_jobs=-1)]: Done 226 tasks      | elapsed:   32.4s\n",
      "[Parallel(n_jobs=-1)]: Done 249 tasks      | elapsed:   43.5s\n",
      "[Parallel(n_jobs=-1)]: Done 272 tasks      | elapsed:  1.1min\n",
      "[Parallel(n_jobs=-1)]: Done 297 tasks      | elapsed:  1.5min\n",
      "[Parallel(n_jobs=-1)]: Done 322 tasks      | elapsed:  2.0min\n",
      "[Parallel(n_jobs=-1)]: Done 349 tasks      | elapsed:  2.9min\n",
      "[Parallel(n_jobs=-1)]: Done 376 tasks      | elapsed:  3.8min\n",
      "[Parallel(n_jobs=-1)]: Done 405 tasks      | elapsed:  5.6min\n",
      "[Parallel(n_jobs=-1)]: Done 420 out of 420 | elapsed:  6.3min finished\n"
     ]
    },
    {
     "name": "stdout",
     "output_type": "stream",
     "text": [
      "Fitting 10 folds for each of 42 candidates, totalling 420 fits\n"
     ]
    },
    {
     "name": "stderr",
     "output_type": "stream",
     "text": [
      "[Parallel(n_jobs=-1)]: Using backend LokyBackend with 8 concurrent workers.\n",
      "[Parallel(n_jobs=-1)]: Done   2 tasks      | elapsed:    0.3s\n",
      "[Parallel(n_jobs=-1)]: Done   9 tasks      | elapsed:    0.7s\n",
      "[Parallel(n_jobs=-1)]: Done  16 tasks      | elapsed:    0.9s\n",
      "[Parallel(n_jobs=-1)]: Done  25 tasks      | elapsed:    1.5s\n",
      "[Parallel(n_jobs=-1)]: Done  34 tasks      | elapsed:    1.9s\n",
      "[Parallel(n_jobs=-1)]: Done  45 tasks      | elapsed:    2.4s\n",
      "[Parallel(n_jobs=-1)]: Done  56 tasks      | elapsed:    2.9s\n",
      "[Parallel(n_jobs=-1)]: Done  69 tasks      | elapsed:    3.6s\n",
      "[Parallel(n_jobs=-1)]: Done  82 tasks      | elapsed:    4.4s\n",
      "[Parallel(n_jobs=-1)]: Done  97 tasks      | elapsed:    5.3s\n",
      "[Parallel(n_jobs=-1)]: Done 112 tasks      | elapsed:    6.1s\n",
      "[Parallel(n_jobs=-1)]: Done 129 tasks      | elapsed:    8.2s\n",
      "[Parallel(n_jobs=-1)]: Done 146 tasks      | elapsed:   10.6s\n",
      "[Parallel(n_jobs=-1)]: Done 165 tasks      | elapsed:   14.4s\n",
      "[Parallel(n_jobs=-1)]: Done 184 tasks      | elapsed:   18.5s\n",
      "[Parallel(n_jobs=-1)]: Done 205 tasks      | elapsed:   23.9s\n",
      "[Parallel(n_jobs=-1)]: Done 226 tasks      | elapsed:   31.3s\n",
      "[Parallel(n_jobs=-1)]: Done 249 tasks      | elapsed:   42.7s\n",
      "[Parallel(n_jobs=-1)]: Done 272 tasks      | elapsed:  1.0min\n",
      "[Parallel(n_jobs=-1)]: Done 297 tasks      | elapsed:  1.4min\n",
      "[Parallel(n_jobs=-1)]: Done 322 tasks      | elapsed:  1.9min\n",
      "[Parallel(n_jobs=-1)]: Done 349 tasks      | elapsed:  2.7min\n",
      "[Parallel(n_jobs=-1)]: Done 376 tasks      | elapsed:  3.7min\n",
      "[Parallel(n_jobs=-1)]: Done 405 tasks      | elapsed:  5.4min\n",
      "[Parallel(n_jobs=-1)]: Done 420 out of 420 | elapsed:  6.1min finished\n"
     ]
    }
   ],
   "source": [
    "for i in range(2,5):\n",
    "    currentLabel = eval('y'+str(i))\n",
    "    \n",
    "    param_grid = [{'T':[10,100,1000,2000,5000,10000,X.shape[0]],\n",
    "               'lmbd': [0.00001, 0.0001, 0.001, 0.01, 0.1, 1]}]\n",
    "\n",
    "    svc = Pegasos()\n",
    "    clf = GridSearchCV(svc, param_grid, cv = 10, verbose=10, n_jobs=-1)\n",
    "\n",
    "    clf.fit(X, currentLabel)\n",
    "\n",
    "    params.append([clf.best_params_, clf.best_score_])"
   ]
  },
  {
   "cell_type": "markdown",
   "metadata": {},
   "source": [
    "### Results: Pegasos"
   ]
  },
  {
   "cell_type": "markdown",
   "metadata": {},
   "source": [
    "We now analyze the results."
   ]
  },
  {
   "cell_type": "markdown",
   "metadata": {},
   "source": [
    "#### No resampling"
   ]
  },
  {
   "cell_type": "markdown",
   "metadata": {},
   "source": [
    "These are for the random split where the test set is a third of the dataset, with no resampling."
   ]
  },
  {
   "cell_type": "code",
   "execution_count": 30,
   "metadata": {},
   "outputs": [
    {
     "data": {
      "text/html": [
       "<div>\n",
       "<style scoped>\n",
       "    .dataframe tbody tr th:only-of-type {\n",
       "        vertical-align: middle;\n",
       "    }\n",
       "\n",
       "    .dataframe tbody tr th {\n",
       "        vertical-align: top;\n",
       "    }\n",
       "\n",
       "    .dataframe thead th {\n",
       "        text-align: right;\n",
       "    }\n",
       "</style>\n",
       "<table border=\"1\" class=\"dataframe\">\n",
       "  <thead>\n",
       "    <tr style=\"text-align: right;\">\n",
       "      <th></th>\n",
       "      <th>Label</th>\n",
       "      <th>True Positive</th>\n",
       "      <th>False Positive</th>\n",
       "      <th>True Negative</th>\n",
       "      <th>False Negative</th>\n",
       "      <th>Precision</th>\n",
       "      <th>Recall</th>\n",
       "      <th>Accuracy</th>\n",
       "    </tr>\n",
       "  </thead>\n",
       "  <tbody>\n",
       "    <tr>\n",
       "      <th>0</th>\n",
       "      <td>33</td>\n",
       "      <td>2331</td>\n",
       "      <td>206</td>\n",
       "      <td>3411</td>\n",
       "      <td>606</td>\n",
       "      <td>0.918802</td>\n",
       "      <td>0.793667</td>\n",
       "      <td>0.876106</td>\n",
       "    </tr>\n",
       "    <tr>\n",
       "      <th>1</th>\n",
       "      <td>70</td>\n",
       "      <td>1406</td>\n",
       "      <td>55</td>\n",
       "      <td>4640</td>\n",
       "      <td>453</td>\n",
       "      <td>0.962355</td>\n",
       "      <td>0.756321</td>\n",
       "      <td>0.922490</td>\n",
       "    </tr>\n",
       "    <tr>\n",
       "      <th>2</th>\n",
       "      <td>101</td>\n",
       "      <td>1116</td>\n",
       "      <td>86</td>\n",
       "      <td>4860</td>\n",
       "      <td>492</td>\n",
       "      <td>0.928453</td>\n",
       "      <td>0.694030</td>\n",
       "      <td>0.911810</td>\n",
       "    </tr>\n",
       "    <tr>\n",
       "      <th>3</th>\n",
       "      <td>4</td>\n",
       "      <td>821</td>\n",
       "      <td>66</td>\n",
       "      <td>5345</td>\n",
       "      <td>322</td>\n",
       "      <td>0.925592</td>\n",
       "      <td>0.718285</td>\n",
       "      <td>0.940800</td>\n",
       "    </tr>\n",
       "  </tbody>\n",
       "</table>\n",
       "</div>"
      ],
      "text/plain": [
       "   Label  True Positive  False Positive  True Negative  False Negative  \\\n",
       "0     33           2331             206           3411             606   \n",
       "1     70           1406              55           4640             453   \n",
       "2    101           1116              86           4860             492   \n",
       "3      4            821              66           5345             322   \n",
       "\n",
       "   Precision    Recall  Accuracy  \n",
       "0   0.918802  0.793667  0.876106  \n",
       "1   0.962355  0.756321  0.922490  \n",
       "2   0.928453  0.694030  0.911810  \n",
       "3   0.925592  0.718285  0.940800  "
      ]
     },
     "execution_count": 30,
     "metadata": {},
     "output_type": "execute_result"
    }
   ],
   "source": [
    "df_metrics = pd.DataFrame(np.column_stack([highest, TPs, FPs, TNs, FNs, precisions, recalls, accs]),\n",
    "                  columns=['Label',\n",
    "                           'True Positive',\n",
    "                           'False Positive',\n",
    "                           'True Negative', \n",
    "                           'False Negative',\n",
    "                           'Precision',\n",
    "                           'Recall',\n",
    "                           'Accuracy'])\n",
    "\n",
    "df_metrics = df_metrics.astype({'Label': int,\n",
    "                                'True Positive': int,\n",
    "                                'False Positive': int,\n",
    "                                'True Negative': int,\n",
    "                                'False Negative': int})\n",
    "df_metrics"
   ]
  },
  {
   "cell_type": "code",
   "execution_count": 31,
   "metadata": {},
   "outputs": [
    {
     "data": {
      "image/png": "[encoded data removed]",
      "text/plain": [
       "<Figure size 432x324 with 1 Axes>"
      ]
     },
     "metadata": {
      "needs_background": "light"
     },
     "output_type": "display_data"
    }
   ],
   "source": [
    "fig = df_metrics.plot(x='Label', \n",
    "                      y=['Precision', 'Recall', 'Accuracy'],\n",
    "                      kind=\"bar\",\n",
    "                      title='Pegasos metrics',\n",
    "                      figsize=(6, 4.5)).get_figure()\n",
    "\n",
    "fig.savefig(\"pegasos_all_metrics.png\")"
   ]
  },
  {
   "cell_type": "code",
   "execution_count": 32,
   "metadata": {},
   "outputs": [
    {
     "name": "stdout",
     "output_type": "stream",
     "text": [
      "Mean Precision:  0.9338001869486523\n",
      "Mean Recall:  0.7405756686797693\n",
      "Mean Accuracy:  0.912801342691486\n"
     ]
    }
   ],
   "source": [
    "print(\"Mean Precision: \", df_metrics[\"Precision\"].mean())\n",
    "print(\"Mean Recall: \", df_metrics[\"Recall\"].mean())\n",
    "print(\"Mean Accuracy: \", df_metrics[\"Accuracy\"].mean())"
   ]
  },
  {
   "cell_type": "markdown",
   "metadata": {},
   "source": [
    "#### Upsampling"
   ]
  },
  {
   "cell_type": "markdown",
   "metadata": {},
   "source": [
    "These are for the random split where the test set is a third of the dataset, with upsampling."
   ]
  },
  {
   "cell_type": "code",
   "execution_count": 33,
   "metadata": {},
   "outputs": [
    {
     "data": {
      "text/html": [
       "<div>\n",
       "<style scoped>\n",
       "    .dataframe tbody tr th:only-of-type {\n",
       "        vertical-align: middle;\n",
       "    }\n",
       "\n",
       "    .dataframe tbody tr th {\n",
       "        vertical-align: top;\n",
       "    }\n",
       "\n",
       "    .dataframe thead th {\n",
       "        text-align: right;\n",
       "    }\n",
       "</style>\n",
       "<table border=\"1\" class=\"dataframe\">\n",
       "  <thead>\n",
       "    <tr style=\"text-align: right;\">\n",
       "      <th></th>\n",
       "      <th>Label</th>\n",
       "      <th>True Positive</th>\n",
       "      <th>False Positive</th>\n",
       "      <th>True Negative</th>\n",
       "      <th>False Negative</th>\n",
       "      <th>Precision</th>\n",
       "      <th>Recall</th>\n",
       "      <th>Accuracy</th>\n",
       "    </tr>\n",
       "  </thead>\n",
       "  <tbody>\n",
       "    <tr>\n",
       "      <th>0</th>\n",
       "      <td>70</td>\n",
       "      <td>1733</td>\n",
       "      <td>342</td>\n",
       "      <td>4353</td>\n",
       "      <td>126</td>\n",
       "      <td>0.835181</td>\n",
       "      <td>0.932222</td>\n",
       "      <td>0.928593</td>\n",
       "    </tr>\n",
       "    <tr>\n",
       "      <th>1</th>\n",
       "      <td>101</td>\n",
       "      <td>1496</td>\n",
       "      <td>318</td>\n",
       "      <td>4628</td>\n",
       "      <td>112</td>\n",
       "      <td>0.824697</td>\n",
       "      <td>0.930348</td>\n",
       "      <td>0.934391</td>\n",
       "    </tr>\n",
       "    <tr>\n",
       "      <th>2</th>\n",
       "      <td>4</td>\n",
       "      <td>1018</td>\n",
       "      <td>186</td>\n",
       "      <td>5225</td>\n",
       "      <td>125</td>\n",
       "      <td>0.845515</td>\n",
       "      <td>0.890639</td>\n",
       "      <td>0.952548</td>\n",
       "    </tr>\n",
       "  </tbody>\n",
       "</table>\n",
       "</div>"
      ],
      "text/plain": [
       "   Label  True Positive  False Positive  True Negative  False Negative  \\\n",
       "0     70           1733             342           4353             126   \n",
       "1    101           1496             318           4628             112   \n",
       "2      4           1018             186           5225             125   \n",
       "\n",
       "   Precision    Recall  Accuracy  \n",
       "0   0.835181  0.932222  0.928593  \n",
       "1   0.824697  0.930348  0.934391  \n",
       "2   0.845515  0.890639  0.952548  "
      ]
     },
     "execution_count": 33,
     "metadata": {},
     "output_type": "execute_result"
    }
   ],
   "source": [
    "df_metrics_resampled = pd.DataFrame(np.column_stack([highest[1:], TPs_resampled, FPs_resampled, TNs_resampled, FNs_resampled, precisions_resampled, recalls_resampled, accs_resampled]),\n",
    "                  columns=['Label',\n",
    "                           'True Positive',\n",
    "                           'False Positive',\n",
    "                           'True Negative', \n",
    "                           'False Negative',\n",
    "                           'Precision',\n",
    "                           'Recall',\n",
    "                           'Accuracy'])\n",
    "\n",
    "df_metrics_resampled = df_metrics_resampled.astype({'Label': int,\n",
    "                                'True Positive': int,\n",
    "                                'False Positive': int,\n",
    "                                'True Negative': int,\n",
    "                                'False Negative': int})\n",
    "df_metrics_resampled"
   ]
  },
  {
   "cell_type": "code",
   "execution_count": 34,
   "metadata": {},
   "outputs": [
    {
     "data": {
      "image/png": "[encoded data removed]",
      "text/plain": [
       "<Figure size 432x324 with 1 Axes>"
      ]
     },
     "metadata": {
      "needs_background": "light"
     },
     "output_type": "display_data"
    }
   ],
   "source": [
    "fig = df_metrics_resampled.plot(x='Label', \n",
    "                      y=['Precision', 'Recall', 'Accuracy'],\n",
    "                      kind=\"bar\",\n",
    "                      title='Pegasos metrics (with resampling)',\n",
    "                      figsize=(6, 4.5)).get_figure()\n",
    "\n",
    "fig.savefig(\"pegasos_all_metrics_upsampled.png\")"
   ]
  },
  {
   "cell_type": "code",
   "execution_count": 35,
   "metadata": {},
   "outputs": [
    {
     "name": "stdout",
     "output_type": "stream",
     "text": [
      "Mean Precision:  0.8351308252345885\n",
      "Mean Recall:  0.917736184467338\n",
      "Mean Accuracy:  0.9385108330790356\n"
     ]
    }
   ],
   "source": [
    "print(\"Mean Precision: \", df_metrics_resampled[\"Precision\"].mean())\n",
    "print(\"Mean Recall: \", df_metrics_resampled[\"Recall\"].mean())\n",
    "print(\"Mean Accuracy: \", df_metrics_resampled[\"Accuracy\"].mean())"
   ]
  },
  {
   "cell_type": "markdown",
   "metadata": {},
   "source": [
    "#### Undersampling"
   ]
  },
  {
   "cell_type": "markdown",
   "metadata": {},
   "source": [
    "These are for the random split where the test set is a third of the dataset, with undersampling."
   ]
  },
  {
   "cell_type": "code",
   "execution_count": 36,
   "metadata": {},
   "outputs": [
    {
     "data": {
      "text/html": [
       "<div>\n",
       "<style scoped>\n",
       "    .dataframe tbody tr th:only-of-type {\n",
       "        vertical-align: middle;\n",
       "    }\n",
       "\n",
       "    .dataframe tbody tr th {\n",
       "        vertical-align: top;\n",
       "    }\n",
       "\n",
       "    .dataframe thead th {\n",
       "        text-align: right;\n",
       "    }\n",
       "</style>\n",
       "<table border=\"1\" class=\"dataframe\">\n",
       "  <thead>\n",
       "    <tr style=\"text-align: right;\">\n",
       "      <th></th>\n",
       "      <th>Label</th>\n",
       "      <th>True Positive</th>\n",
       "      <th>False Positive</th>\n",
       "      <th>True Negative</th>\n",
       "      <th>False Negative</th>\n",
       "      <th>Precision</th>\n",
       "      <th>Recall</th>\n",
       "      <th>Accuracy</th>\n",
       "    </tr>\n",
       "  </thead>\n",
       "  <tbody>\n",
       "    <tr>\n",
       "      <th>0</th>\n",
       "      <td>70</td>\n",
       "      <td>1727</td>\n",
       "      <td>360</td>\n",
       "      <td>4335</td>\n",
       "      <td>132</td>\n",
       "      <td>0.827504</td>\n",
       "      <td>0.928994</td>\n",
       "      <td>0.924931</td>\n",
       "    </tr>\n",
       "    <tr>\n",
       "      <th>1</th>\n",
       "      <td>101</td>\n",
       "      <td>1511</td>\n",
       "      <td>371</td>\n",
       "      <td>4575</td>\n",
       "      <td>97</td>\n",
       "      <td>0.802869</td>\n",
       "      <td>0.939677</td>\n",
       "      <td>0.928593</td>\n",
       "    </tr>\n",
       "    <tr>\n",
       "      <th>2</th>\n",
       "      <td>4</td>\n",
       "      <td>1041</td>\n",
       "      <td>313</td>\n",
       "      <td>5098</td>\n",
       "      <td>102</td>\n",
       "      <td>0.768833</td>\n",
       "      <td>0.910761</td>\n",
       "      <td>0.936680</td>\n",
       "    </tr>\n",
       "  </tbody>\n",
       "</table>\n",
       "</div>"
      ],
      "text/plain": [
       "   Label  True Positive  False Positive  True Negative  False Negative  \\\n",
       "0     70           1727             360           4335             132   \n",
       "1    101           1511             371           4575              97   \n",
       "2      4           1041             313           5098             102   \n",
       "\n",
       "   Precision    Recall  Accuracy  \n",
       "0   0.827504  0.928994  0.924931  \n",
       "1   0.802869  0.939677  0.928593  \n",
       "2   0.768833  0.910761  0.936680  "
      ]
     },
     "execution_count": 36,
     "metadata": {},
     "output_type": "execute_result"
    }
   ],
   "source": [
    "df_metrics_unders = pd.DataFrame(np.column_stack([highest[1:], TPs_unders, FPs_unders, TNs_unders, FNs_unders, precisions_unders, recalls_unders, accs_unders]),\n",
    "                  columns=['Label',\n",
    "                           'True Positive',\n",
    "                           'False Positive',\n",
    "                           'True Negative', \n",
    "                           'False Negative',\n",
    "                           'Precision',\n",
    "                           'Recall',\n",
    "                           'Accuracy'])\n",
    "\n",
    "df_metrics_unders = df_metrics_unders.astype({'Label': int,\n",
    "                                'True Positive': int,\n",
    "                                'False Positive': int,\n",
    "                                'True Negative': int,\n",
    "                                'False Negative': int})\n",
    "df_metrics_unders"
   ]
  },
  {
   "cell_type": "code",
   "execution_count": 37,
   "metadata": {},
   "outputs": [
    {
     "data": {
      "image/png": "[encoded data removed]",
      "text/plain": [
       "<Figure size 432x324 with 1 Axes>"
      ]
     },
     "metadata": {
      "needs_background": "light"
     },
     "output_type": "display_data"
    }
   ],
   "source": [
    "fig = df_metrics_unders.plot(x='Label', \n",
    "                      y=['Precision', 'Recall', 'Accuracy'],\n",
    "                      kind=\"bar\",\n",
    "                      title='Pegasos metrics (with resampling)',\n",
    "                      figsize=(6, 4.5)).get_figure()\n",
    "\n",
    "fig.savefig(\"pegasos_all_metrics_undersampled.png\")"
   ]
  },
  {
   "cell_type": "code",
   "execution_count": 38,
   "metadata": {},
   "outputs": [
    {
     "name": "stdout",
     "output_type": "stream",
     "text": [
      "Mean Precision:  0.799735322938606\n",
      "Mean Recall:  0.9264772848704341\n",
      "Mean Accuracy:  0.9300681517648256\n"
     ]
    }
   ],
   "source": [
    "print(\"Mean Precision: \", df_metrics_unders[\"Precision\"].mean())\n",
    "print(\"Mean Recall: \", df_metrics_unders[\"Recall\"].mean())\n",
    "print(\"Mean Accuracy: \", df_metrics_unders[\"Accuracy\"].mean())"
   ]
  },
  {
   "cell_type": "markdown",
   "metadata": {},
   "source": [
    "#### Best score"
   ]
  },
  {
   "cell_type": "markdown",
   "metadata": {},
   "source": [
    "These are the results of the `GridSearchCV`"
   ]
  },
  {
   "cell_type": "code",
   "execution_count": 39,
   "metadata": {},
   "outputs": [
    {
     "data": {
      "text/html": [
       "<div>\n",
       "<style scoped>\n",
       "    .dataframe tbody tr th:only-of-type {\n",
       "        vertical-align: middle;\n",
       "    }\n",
       "\n",
       "    .dataframe tbody tr th {\n",
       "        vertical-align: top;\n",
       "    }\n",
       "\n",
       "    .dataframe thead th {\n",
       "        text-align: right;\n",
       "    }\n",
       "</style>\n",
       "<table border=\"1\" class=\"dataframe\">\n",
       "  <thead>\n",
       "    <tr style=\"text-align: right;\">\n",
       "      <th></th>\n",
       "      <th>Label</th>\n",
       "      <th>Iterations</th>\n",
       "      <th>Lambda</th>\n",
       "      <th>F1 Test score</th>\n",
       "    </tr>\n",
       "  </thead>\n",
       "  <tbody>\n",
       "    <tr>\n",
       "      <th>0</th>\n",
       "      <td>33</td>\n",
       "      <td>19860</td>\n",
       "      <td>0.0001</td>\n",
       "      <td>0.911987</td>\n",
       "    </tr>\n",
       "    <tr>\n",
       "      <th>1</th>\n",
       "      <td>70</td>\n",
       "      <td>19860</td>\n",
       "      <td>0.0001</td>\n",
       "      <td>0.916777</td>\n",
       "    </tr>\n",
       "    <tr>\n",
       "      <th>2</th>\n",
       "      <td>101</td>\n",
       "      <td>19860</td>\n",
       "      <td>0.0001</td>\n",
       "      <td>0.907211</td>\n",
       "    </tr>\n",
       "    <tr>\n",
       "      <th>3</th>\n",
       "      <td>4</td>\n",
       "      <td>19860</td>\n",
       "      <td>0.0001</td>\n",
       "      <td>0.884570</td>\n",
       "    </tr>\n",
       "  </tbody>\n",
       "</table>\n",
       "</div>"
      ],
      "text/plain": [
       "   Label  Iterations  Lambda  F1 Test score\n",
       "0     33       19860  0.0001       0.911987\n",
       "1     70       19860  0.0001       0.916777\n",
       "2    101       19860  0.0001       0.907211\n",
       "3      4       19860  0.0001       0.884570"
      ]
     },
     "execution_count": 39,
     "metadata": {},
     "output_type": "execute_result"
    }
   ],
   "source": [
    "Ts, lmbds, scores = [], [], []\n",
    "\n",
    "for i in params:\n",
    "    Ts.append(i[0]['T'])\n",
    "    lmbds.append(i[0]['lmbd'])\n",
    "    scores.append(i[1])\n",
    "\n",
    "df_results = pd.DataFrame(np.column_stack([highest, Ts, lmbds, scores]),\n",
    "                          columns=['Label', 'Iterations', 'Lambda', 'F1 Test score'])\n",
    "\n",
    "df_results = df_results.astype({\"Label\": int, \"Iterations\": int})\n",
    "df_results"
   ]
  },
  {
   "cell_type": "markdown",
   "metadata": {},
   "source": [
    "We can see that only the test score changes.\n",
    "\n",
    "Let's do some plotting"
   ]
  },
  {
   "cell_type": "code",
   "execution_count": 40,
   "metadata": {},
   "outputs": [
    {
     "data": {
      "image/png": "[encoded data removed]",
      "text/plain": [
       "<Figure size 432x324 with 1 Axes>"
      ]
     },
     "metadata": {
      "needs_background": "light"
     },
     "output_type": "display_data"
    }
   ],
   "source": [
    "fig = df_results.plot(x='Label', y=['F1 Test score'], kind=\"bar\",\n",
    "                      title='Pegasos F1 score', figsize=(6, 4.5)).get_figure()\n",
    "\n",
    "fig.savefig(\"pegasos_test_scores.png\")\n",
    "\n",
    "if len(df_results['Iterations'].unique()) != 1:\n",
    "    fig = df_results.plot(x='Label', y=['Iterations'], title='Pegasos iterations',\n",
    "                          kind=\"bar\", color='g', figsize=(6, 4.5)).get_figure()\n",
    "    \n",
    "    fig.savefig(\"pegasos_iterations.png\")\n",
    "    \n",
    "if len(df_results['Lambda'].unique()) != 1:\n",
    "    fig = df_results.plot(x='Label', y=['Lambda'], kind=\"bar\", title='Pegasos lambdas',\n",
    "                          color='y', figsize=(6, 4.5)).get_figure()\n",
    "    \n",
    "    fig.savefig(\"pegasos_lambda.png\")"
   ]
  },
  {
   "cell_type": "markdown",
   "metadata": {},
   "source": [
    "Our final average F1 test score is:"
   ]
  },
  {
   "cell_type": "code",
   "execution_count": 41,
   "metadata": {},
   "outputs": [
    {
     "data": {
      "text/plain": [
       "0.9051360658613312"
      ]
     },
     "execution_count": 41,
     "metadata": {},
     "output_type": "execute_result"
    }
   ],
   "source": [
    "df_results[\"F1 Test score\"].mean()"
   ]
  },
  {
   "cell_type": "markdown",
   "metadata": {},
   "source": [
    "## Perceptron"
   ]
  },
  {
   "cell_type": "markdown",
   "metadata": {},
   "source": [
    "Here's our Perceptron. We'll replicate the same workflow as we did for Pegasos and we'll compare their results."
   ]
  },
  {
   "cell_type": "code",
   "execution_count": 16,
   "metadata": {},
   "outputs": [],
   "source": [
    "class Perceptron(BaseEstimator, MyBaseClassifier):\n",
    "    def __init__(self, T=1):\n",
    "        self.T = T\n",
    "    \n",
    "    def fit(self, X, Y):\n",
    "        # Initialize the weight vector to all zeros.\n",
    "        self.w = np.zeros(X.shape[1])\n",
    "        \n",
    "        # Repeat for each epoch up to T\n",
    "        for t in range(self.T):\n",
    "            \n",
    "            # For each training example\n",
    "            for i in range(X.shape[0]-1):\n",
    "                \n",
    "                #Compute the output score for this instance.\n",
    "                score = X[i].dot(self.w.T)\n",
    "\n",
    "                # If there was an error, update the weights.\n",
    "                if Y[i]*score <= 0:\n",
    "                    self.w += Y[i]*X[i]"
   ]
  },
  {
   "cell_type": "markdown",
   "metadata": {},
   "source": [
    "### Label 1: 33"
   ]
  },
  {
   "cell_type": "code",
   "execution_count": 43,
   "metadata": {},
   "outputs": [],
   "source": [
    "currentLabel = y1"
   ]
  },
  {
   "cell_type": "markdown",
   "metadata": {},
   "source": [
    "We split the dataset and run the Perceptron for the first time."
   ]
  },
  {
   "cell_type": "code",
   "execution_count": 44,
   "metadata": {},
   "outputs": [],
   "source": [
    "X_train, X_test, y_train, y_test = train_test_split(X,currentLabel,test_size=0.33,random_state=42,stratify=currentLabel)"
   ]
  },
  {
   "cell_type": "code",
   "execution_count": 45,
   "metadata": {},
   "outputs": [],
   "source": [
    "classifier = Perceptron()"
   ]
  },
  {
   "cell_type": "code",
   "execution_count": 46,
   "metadata": {},
   "outputs": [],
   "source": [
    "classifier.fit(X_train, y_train)"
   ]
  },
  {
   "cell_type": "code",
   "execution_count": 47,
   "metadata": {},
   "outputs": [
    {
     "data": {
      "text/plain": [
       "(0.9345228076081468, 0.8605564089435057)"
      ]
     },
     "execution_count": 47,
     "metadata": {},
     "output_type": "execute_result"
    }
   ],
   "source": [
    "classifier.score(X_train, y_train), classifier.score(X_test, y_test)"
   ]
  },
  {
   "cell_type": "markdown",
   "metadata": {},
   "source": [
    "Our perceptron is clearly suffering from overfitting."
   ]
  },
  {
   "cell_type": "markdown",
   "metadata": {},
   "source": [
    "We now check other metrics:"
   ]
  },
  {
   "cell_type": "code",
   "execution_count": 48,
   "metadata": {},
   "outputs": [
    {
     "name": "stdout",
     "output_type": "stream",
     "text": [
      "True positive:  2521\n",
      "False positive:  401\n",
      "FP ratio:  0.13723477070499657 ( 13.72 %)\n",
      "True negative:  3216\n",
      "False negative:  416\n",
      "FN ratio:  0.1145374449339207 ( 11.45 %)\n",
      "Precision:  0.8627652292950034 ( 86.28 %)\n",
      "Recall:  0.8583588695948247 ( 85.84 %)\n",
      "Accuracy:  0.8753433018004272 ( 87.53 %)\n"
     ]
    }
   ],
   "source": [
    "TPs_perceptron, FPs_perceptron, TNs_perceptron, FNs_perceptron = [], [], [], []\n",
    "precisions_perceptron, recalls_perceptron, accs_perceptron = [], [], []\n",
    "\n",
    "y_pred = classifier.predict(X_test)\n",
    "\n",
    "tn, fp, fn, tp = confusion_matrix(y_test, y_pred).ravel()\n",
    "precision = precision_score(y_test, y_pred)\n",
    "recall = recall_score(y_test, y_pred)\n",
    "acc = accuracy_score(y_test, y_pred)\n",
    "    \n",
    "TNs_perceptron.append(tn)\n",
    "TPs_perceptron.append(tp)\n",
    "FPs_perceptron.append(fp)\n",
    "FNs_perceptron.append(fn)\n",
    "precisions_perceptron.append(precision)\n",
    "recalls_perceptron.append(recall)\n",
    "accs_perceptron.append(acc)\n",
    "    \n",
    "print(\"True positive: \", tp)\n",
    "print(\"False positive: \", fp)\n",
    "print(\"FP ratio: \", fp/(tp+fp),\"(\",np.round(fp/(tp+fp)*100, 2),\"%)\")\n",
    "print(\"True negative: \", tn)\n",
    "print(\"False negative: \", fn)\n",
    "print(\"FN ratio: \", fn/(tn+fn),\"(\",np.round(fn/(tn+fn)*100, 2),\"%)\")\n",
    "print(\"Precision: \", precision,\"(\",np.round(precision*100, 2),\"%)\")\n",
    "print(\"Recall: \", recall,\"(\",np.round(recall*100, 2),\"%)\")\n",
    "print(\"Accuracy: \", acc,\"(\",np.round(acc*100, 2),\"%)\")"
   ]
  },
  {
   "cell_type": "markdown",
   "metadata": {},
   "source": [
    "We plot the learning curve"
   ]
  },
  {
   "cell_type": "code",
   "execution_count": 49,
   "metadata": {
    "scrolled": true
   },
   "outputs": [
    {
     "name": "stdout",
     "output_type": "stream",
     "text": [
      "[learning_curve] Training set sizes: [ 1000  2000  3000  4000  5000  6000  7000  8000  9000 10000 11000 12000\n",
      " 13000]\n"
     ]
    },
    {
     "name": "stderr",
     "output_type": "stream",
     "text": [
      "[Parallel(n_jobs=-1)]: Using backend LokyBackend with 8 concurrent workers.\n",
      "[Parallel(n_jobs=-1)]: Done   5 out of 130 | elapsed:    1.4s remaining:   34.5s\n",
      "[Parallel(n_jobs=-1)]: Done  19 out of 130 | elapsed:    4.9s remaining:   28.4s\n",
      "[Parallel(n_jobs=-1)]: Done  33 out of 130 | elapsed:    8.2s remaining:   24.2s\n",
      "[Parallel(n_jobs=-1)]: Done  47 out of 130 | elapsed:   12.1s remaining:   21.3s\n",
      "[Parallel(n_jobs=-1)]: Done  61 out of 130 | elapsed:   16.6s remaining:   18.8s\n",
      "[Parallel(n_jobs=-1)]: Done  75 out of 130 | elapsed:   21.1s remaining:   15.5s\n",
      "[Parallel(n_jobs=-1)]: Done  89 out of 130 | elapsed:   26.1s remaining:   12.0s\n",
      "[Parallel(n_jobs=-1)]: Done 103 out of 130 | elapsed:   30.7s remaining:    8.1s\n",
      "[Parallel(n_jobs=-1)]: Done 117 out of 130 | elapsed:   35.6s remaining:    4.0s\n",
      "[Parallel(n_jobs=-1)]: Done 130 out of 130 | elapsed:   40.2s finished\n"
     ]
    },
    {
     "data": {
      "text/plain": [
       "array([[0.62365591, 0.80645161, 0.8262863 , 0.78139535, 0.82923977,\n",
       "        0.77031802, 0.81485527, 0.82907268, 0.77870216, 0.80550775],\n",
       "       [0.81813031, 0.86085544, 0.86203616, 0.84952804, 0.8807543 ,\n",
       "        0.80816327, 0.84150156, 0.84352431, 0.83958333, 0.84527064],\n",
       "       [0.86153846, 0.85211655, 0.78764897, 0.73921442, 0.76714101,\n",
       "        0.76394194, 0.79528024, 0.78864009, 0.75274056, 0.8045977 ],\n",
       "       [0.8346915 , 0.81362007, 0.84576613, 0.81747457, 0.85061728,\n",
       "        0.79407407, 0.84049774, 0.84400826, 0.81524249, 0.84241706],\n",
       "       [0.85934066, 0.85092127, 0.87317073, 0.86023835, 0.89608939,\n",
       "        0.832315  , 0.871903  , 0.86367969, 0.87539599, 0.86684932],\n",
       "       [0.82790698, 0.80282519, 0.80487805, 0.83273165, 0.88019266,\n",
       "        0.80783723, 0.86023959, 0.84806776, 0.82714617, 0.84463107],\n",
       "       [0.86053077, 0.83642496, 0.86595852, 0.83828775, 0.90086957,\n",
       "        0.84550562, 0.88791689, 0.86886887, 0.86636971, 0.87413395],\n",
       "       [0.87119956, 0.86280992, 0.86705202, 0.85020243, 0.86221678,\n",
       "        0.80358476, 0.84693878, 0.8168398 , 0.79832936, 0.83099451],\n",
       "       [0.84745763, 0.80817799, 0.84068891, 0.83129584, 0.86637663,\n",
       "        0.84620939, 0.88549618, 0.85568587, 0.85262564, 0.86966686],\n",
       "       [0.88840501, 0.86302112, 0.88461538, 0.86535211, 0.90973036,\n",
       "        0.84319527, 0.88173237, 0.85817432, 0.86541738, 0.87440758],\n",
       "       [0.84167157, 0.81058328, 0.86054951, 0.83687943, 0.87819732,\n",
       "        0.81907646, 0.85138249, 0.82154516, 0.81953544, 0.83261272],\n",
       "       [0.87689713, 0.86314594, 0.875965  , 0.85467128, 0.89761905,\n",
       "        0.84678016, 0.88876712, 0.87048193, 0.88973799, 0.8847032 ],\n",
       "       [0.88683351, 0.85620915, 0.90014903, 0.86483455, 0.90102389,\n",
       "        0.85434174, 0.90753608, 0.85458377, 0.85648415, 0.86211031]])"
      ]
     },
     "execution_count": 49,
     "metadata": {},
     "output_type": "execute_result"
    }
   ],
   "source": [
    "sizes = range(1000, 14000, 1000)\n",
    "train_size, train_score, val_score = learning_curve(Perceptron(), X, currentLabel, train_sizes=sizes, cv=10,\n",
    "                                                   n_jobs=-1, verbose=10)\n",
    "val_score"
   ]
  },
  {
   "cell_type": "code",
   "execution_count": 50,
   "metadata": {},
   "outputs": [
    {
     "data": {
      "image/png": "[encoded data removed]",
      "text/plain": [
       "<Figure size 432x360 with 1 Axes>"
      ]
     },
     "metadata": {
      "needs_background": "light"
     },
     "output_type": "display_data"
    }
   ],
   "source": [
    "plt.figure(figsize=(6, 5))\n",
    "plt.title('Perceptron vs. training size (Label 33)')\n",
    "plt.plot(train_size, np.mean(val_score, 1), label='Validation')\n",
    "plt.plot(train_size, np.mean(train_score, 1), label='Training')\n",
    "plt.legend()\n",
    "plt.xlabel('Training size')\n",
    "plt.ylabel('Score')\n",
    "\n",
    "plt.savefig('perceptron_learning_curve_y1.png')\n",
    "plt.show()"
   ]
  },
  {
   "cell_type": "markdown",
   "metadata": {},
   "source": [
    "Let's see the validation curve"
   ]
  },
  {
   "cell_type": "code",
   "execution_count": 51,
   "metadata": {},
   "outputs": [
    {
     "name": "stderr",
     "output_type": "stream",
     "text": [
      "[Parallel(n_jobs=-1)]: Using backend LokyBackend with 8 concurrent workers.\n",
      "[Parallel(n_jobs=-1)]: Done   2 out of 100 | elapsed:   11.9s remaining:  9.7min\n",
      "[Parallel(n_jobs=-1)]: Done  13 out of 100 | elapsed:   56.4s remaining:  6.3min\n",
      "[Parallel(n_jobs=-1)]: Done  24 out of 100 | elapsed:  1.6min remaining:  5.1min\n",
      "[Parallel(n_jobs=-1)]: Done  35 out of 100 | elapsed:  2.4min remaining:  4.4min\n",
      "[Parallel(n_jobs=-1)]: Done  46 out of 100 | elapsed:  3.0min remaining:  3.6min\n",
      "[Parallel(n_jobs=-1)]: Done  57 out of 100 | elapsed:  3.7min remaining:  2.8min\n",
      "[Parallel(n_jobs=-1)]: Done  68 out of 100 | elapsed:  4.4min remaining:  2.1min\n",
      "[Parallel(n_jobs=-1)]: Done  79 out of 100 | elapsed:  5.2min remaining:  1.4min\n",
      "[Parallel(n_jobs=-1)]: Done  90 out of 100 | elapsed:  5.9min remaining:   39.4s\n",
      "[Parallel(n_jobs=-1)]: Done 100 out of 100 | elapsed:  6.6min finished\n"
     ]
    },
    {
     "data": {
      "text/plain": [
       "array([[0.89422028, 0.88324324, 0.90873786, 0.87416481, 0.91925466,\n",
       "        0.8654105 , 0.9118896 , 0.89029126, 0.89736701, 0.8838008 ],\n",
       "       [0.8989845 , 0.88381963, 0.91250618, 0.88472459, 0.92573402,\n",
       "        0.8719346 , 0.91318328, 0.88803089, 0.89685125, 0.90249433],\n",
       "       [0.89314195, 0.87919106, 0.91144279, 0.88611898, 0.92281304,\n",
       "        0.87733888, 0.91190603, 0.89936181, 0.88131868, 0.90602138],\n",
       "       [0.90447922, 0.87919106, 0.91411649, 0.89113356, 0.92562929,\n",
       "        0.88054608, 0.90987124, 0.89805825, 0.89397975, 0.89624724],\n",
       "       [0.90287575, 0.88463583, 0.91248771, 0.8836425 , 0.93333333,\n",
       "        0.87777778, 0.91257996, 0.89985344, 0.89428263, 0.90454545],\n",
       "       [0.90584416, 0.88197425, 0.91015625, 0.88463703, 0.92914286,\n",
       "        0.88070893, 0.91483664, 0.89970501, 0.89875474, 0.9068323 ],\n",
       "       [0.90118153, 0.88142934, 0.91420118, 0.88342857, 0.92795389,\n",
       "        0.8744884 , 0.91121744, 0.89882122, 0.88767123, 0.90457369],\n",
       "       [0.90010858, 0.87969516, 0.91295747, 0.88433048, 0.93249428,\n",
       "        0.8778157 , 0.91017316, 0.90410959, 0.89264305, 0.90326209],\n",
       "       [0.89813801, 0.88203463, 0.91687407, 0.88598979, 0.93271995,\n",
       "        0.87939352, 0.91045576, 0.89970501, 0.89256198, 0.90056497],\n",
       "       [0.90623306, 0.87588846, 0.91508492, 0.88776086, 0.92873563,\n",
       "        0.8773842 , 0.90574215, 0.90303624, 0.89851892, 0.89802817]])"
      ]
     },
     "execution_count": 51,
     "metadata": {},
     "output_type": "execute_result"
    }
   ],
   "source": [
    "T = range(1,11)\n",
    "train_score, val_score = validation_curve(Perceptron(), X, currentLabel, 'T', T, cv=10, verbose=10, n_jobs=-1)\n",
    "val_score"
   ]
  },
  {
   "cell_type": "code",
   "execution_count": 52,
   "metadata": {},
   "outputs": [
    {
     "data": {
      "image/png": "[encoded data removed]",
      "text/plain": [
       "<Figure size 432x360 with 1 Axes>"
      ]
     },
     "metadata": {
      "needs_background": "light"
     },
     "output_type": "display_data"
    }
   ],
   "source": [
    "plt.figure(figsize=(6, 5))\n",
    "plt.title('Perceptron vs. number of epochs (Label 33)')\n",
    "plt.plot(T, np.mean(val_score, 1), label='Testing')\n",
    "plt.plot(T, np.mean(train_score, 1), label='Training')\n",
    "plt.legend()\n",
    "plt.xlabel('Number of epochs')\n",
    "plt.ylabel('Score')\n",
    "\n",
    "plt.savefig('perceptron_validation_curve_y1.png')\n",
    "plt.show()"
   ]
  },
  {
   "cell_type": "markdown",
   "metadata": {},
   "source": [
    "We now want to check what's the best number of epochs `T`. Therefore, we use `GridSearchCV` to estimate it. Again, we run a 10-fold cross validation."
   ]
  },
  {
   "cell_type": "code",
   "execution_count": 53,
   "metadata": {
    "scrolled": true
   },
   "outputs": [
    {
     "name": "stderr",
     "output_type": "stream",
     "text": [
      "[Parallel(n_jobs=-1)]: Using backend LokyBackend with 8 concurrent workers.\n"
     ]
    },
    {
     "name": "stdout",
     "output_type": "stream",
     "text": [
      "Fitting 10 folds for each of 9 candidates, totalling 90 fits\n"
     ]
    },
    {
     "name": "stderr",
     "output_type": "stream",
     "text": [
      "[Parallel(n_jobs=-1)]: Done   2 tasks      | elapsed:    7.0s\n",
      "[Parallel(n_jobs=-1)]: Done   9 tasks      | elapsed:   13.5s\n",
      "[Parallel(n_jobs=-1)]: Done  16 tasks      | elapsed:   20.3s\n",
      "[Parallel(n_jobs=-1)]: Done  25 tasks      | elapsed:   44.2s\n",
      "[Parallel(n_jobs=-1)]: Done  34 tasks      | elapsed:  1.2min\n",
      "[Parallel(n_jobs=-1)]: Done  45 tasks      | elapsed:  1.8min\n",
      "[Parallel(n_jobs=-1)]: Done  56 tasks      | elapsed:  2.5min\n",
      "[Parallel(n_jobs=-1)]: Done  69 tasks      | elapsed:  3.6min\n",
      "[Parallel(n_jobs=-1)]: Done  85 out of  90 | elapsed:  5.2min remaining:   18.2s\n",
      "[Parallel(n_jobs=-1)]: Done  90 out of  90 | elapsed:  5.4min finished\n"
     ]
    },
    {
     "data": {
      "text/plain": [
       "[{'T': 6}, 0.9012592157015665]"
      ]
     },
     "execution_count": 53,
     "metadata": {},
     "output_type": "execute_result"
    }
   ],
   "source": [
    "params_perceptron = []\n",
    "param_grid = [{'T':range(1,10)}]\n",
    "\n",
    "svc = Perceptron()\n",
    "clf = GridSearchCV(svc, param_grid, cv = 10, verbose=10, n_jobs=-1)\n",
    "\n",
    "clf.fit(X, currentLabel)\n",
    "\n",
    "params_perceptron.append([clf.best_params_, clf.best_score_])\n",
    "params_perceptron[0]"
   ]
  },
  {
   "cell_type": "markdown",
   "metadata": {},
   "source": [
    "### Other labels: 70, 101, 4"
   ]
  },
  {
   "cell_type": "markdown",
   "metadata": {},
   "source": [
    "We now repeat the same workflow for the other labels.\n",
    "However, here we also upsample data in order to check if it can help the algorithm in the prediction."
   ]
  },
  {
   "cell_type": "code",
   "execution_count": 54,
   "metadata": {},
   "outputs": [
    {
     "name": "stdout",
     "output_type": "stream",
     "text": [
      "\n",
      "LABEL  70\n",
      "==============\n"
     ]
    },
    {
     "data": {
      "text/html": [
       "<div>\n",
       "<style scoped>\n",
       "    .dataframe tbody tr th:only-of-type {\n",
       "        vertical-align: middle;\n",
       "    }\n",
       "\n",
       "    .dataframe tbody tr th {\n",
       "        vertical-align: top;\n",
       "    }\n",
       "\n",
       "    .dataframe thead th {\n",
       "        text-align: right;\n",
       "    }\n",
       "</style>\n",
       "<table border=\"1\" class=\"dataframe\">\n",
       "  <thead>\n",
       "    <tr style=\"text-align: right;\">\n",
       "      <th></th>\n",
       "      <th>Metric</th>\n",
       "      <th>Not resampled</th>\n",
       "      <th>Oversampled</th>\n",
       "      <th>Undersampled</th>\n",
       "    </tr>\n",
       "  </thead>\n",
       "  <tbody>\n",
       "    <tr>\n",
       "      <th>0</th>\n",
       "      <td>True positive</td>\n",
       "      <td>1675</td>\n",
       "      <td>1825</td>\n",
       "      <td>1825</td>\n",
       "    </tr>\n",
       "    <tr>\n",
       "      <th>1</th>\n",
       "      <td>False positive</td>\n",
       "      <td>230</td>\n",
       "      <td>1295</td>\n",
       "      <td>1295</td>\n",
       "    </tr>\n",
       "    <tr>\n",
       "      <th>2</th>\n",
       "      <td>True negative</td>\n",
       "      <td>4465</td>\n",
       "      <td>3400</td>\n",
       "      <td>3400</td>\n",
       "    </tr>\n",
       "    <tr>\n",
       "      <th>3</th>\n",
       "      <td>False negative</td>\n",
       "      <td>184</td>\n",
       "      <td>34</td>\n",
       "      <td>34</td>\n",
       "    </tr>\n",
       "    <tr>\n",
       "      <th>4</th>\n",
       "      <td>FP ratio</td>\n",
       "      <td>0.12073490813648294 (12.07%)</td>\n",
       "      <td>0.4150641025641026 (41.51%)</td>\n",
       "      <td>0.4150641025641026 (41.51%)</td>\n",
       "    </tr>\n",
       "    <tr>\n",
       "      <th>5</th>\n",
       "      <td>FN ratio</td>\n",
       "      <td>0.039578403957840395 (3.96%)</td>\n",
       "      <td>0.009900990099009901 (0.99%)</td>\n",
       "      <td>0.009900990099009901 (0.99%)</td>\n",
       "    </tr>\n",
       "    <tr>\n",
       "      <th>6</th>\n",
       "      <td>Training score</td>\n",
       "      <td>0.949758580190526 (94.98%)</td>\n",
       "      <td>0.8978284422252579 (89.78%)</td>\n",
       "      <td>0.8978284422252579 (89.78%)</td>\n",
       "    </tr>\n",
       "    <tr>\n",
       "      <th>7</th>\n",
       "      <td>Test score</td>\n",
       "      <td>0.8900106269925611 (89.0%)</td>\n",
       "      <td>0.7330789315123519 (73.31%)</td>\n",
       "      <td>0.7330789315123519 (73.31%)</td>\n",
       "    </tr>\n",
       "    <tr>\n",
       "      <th>8</th>\n",
       "      <td>Precision</td>\n",
       "      <td>0.8792650918635171 (87.93%)</td>\n",
       "      <td>0.5849358974358975 (58.49%)</td>\n",
       "      <td>0.5849358974358975 (58.49%)</td>\n",
       "    </tr>\n",
       "    <tr>\n",
       "      <th>9</th>\n",
       "      <td>Recall</td>\n",
       "      <td>0.9010220548682087 (90.1%)</td>\n",
       "      <td>0.9817105970952125 (90.1%)</td>\n",
       "      <td>0.9817105970952125 (90.1%)</td>\n",
       "    </tr>\n",
       "    <tr>\n",
       "      <th>10</th>\n",
       "      <td>Accuracy</td>\n",
       "      <td>0.9368324687213915 (93.68%)</td>\n",
       "      <td>0.7972230698809887 (79.72%)</td>\n",
       "      <td>0.7972230698809887 (79.72%)</td>\n",
       "    </tr>\n",
       "  </tbody>\n",
       "</table>\n",
       "</div>"
      ],
      "text/plain": [
       "            Metric                 Not resampled  \\\n",
       "0    True positive                          1675   \n",
       "1   False positive                           230   \n",
       "2    True negative                          4465   \n",
       "3   False negative                           184   \n",
       "4         FP ratio  0.12073490813648294 (12.07%)   \n",
       "5         FN ratio  0.039578403957840395 (3.96%)   \n",
       "6   Training score    0.949758580190526 (94.98%)   \n",
       "7       Test score    0.8900106269925611 (89.0%)   \n",
       "8        Precision   0.8792650918635171 (87.93%)   \n",
       "9           Recall    0.9010220548682087 (90.1%)   \n",
       "10        Accuracy   0.9368324687213915 (93.68%)   \n",
       "\n",
       "                     Oversampled                  Undersampled  \n",
       "0                           1825                          1825  \n",
       "1                           1295                          1295  \n",
       "2                           3400                          3400  \n",
       "3                             34                            34  \n",
       "4    0.4150641025641026 (41.51%)   0.4150641025641026 (41.51%)  \n",
       "5   0.009900990099009901 (0.99%)  0.009900990099009901 (0.99%)  \n",
       "6    0.8978284422252579 (89.78%)   0.8978284422252579 (89.78%)  \n",
       "7    0.7330789315123519 (73.31%)   0.7330789315123519 (73.31%)  \n",
       "8    0.5849358974358975 (58.49%)   0.5849358974358975 (58.49%)  \n",
       "9     0.9817105970952125 (90.1%)    0.9817105970952125 (90.1%)  \n",
       "10   0.7972230698809887 (79.72%)   0.7972230698809887 (79.72%)  "
      ]
     },
     "metadata": {},
     "output_type": "display_data"
    },
    {
     "name": "stdout",
     "output_type": "stream",
     "text": [
      "\n",
      "LABEL  101\n",
      "==============\n"
     ]
    },
    {
     "data": {
      "text/html": [
       "<div>\n",
       "<style scoped>\n",
       "    .dataframe tbody tr th:only-of-type {\n",
       "        vertical-align: middle;\n",
       "    }\n",
       "\n",
       "    .dataframe tbody tr th {\n",
       "        vertical-align: top;\n",
       "    }\n",
       "\n",
       "    .dataframe thead th {\n",
       "        text-align: right;\n",
       "    }\n",
       "</style>\n",
       "<table border=\"1\" class=\"dataframe\">\n",
       "  <thead>\n",
       "    <tr style=\"text-align: right;\">\n",
       "      <th></th>\n",
       "      <th>Metric</th>\n",
       "      <th>Not resampled</th>\n",
       "      <th>Oversampled</th>\n",
       "      <th>Undersampled</th>\n",
       "    </tr>\n",
       "  </thead>\n",
       "  <tbody>\n",
       "    <tr>\n",
       "      <th>0</th>\n",
       "      <td>True positive</td>\n",
       "      <td>1355</td>\n",
       "      <td>1580</td>\n",
       "      <td>1580</td>\n",
       "    </tr>\n",
       "    <tr>\n",
       "      <th>1</th>\n",
       "      <td>False positive</td>\n",
       "      <td>167</td>\n",
       "      <td>1060</td>\n",
       "      <td>1060</td>\n",
       "    </tr>\n",
       "    <tr>\n",
       "      <th>2</th>\n",
       "      <td>True negative</td>\n",
       "      <td>4779</td>\n",
       "      <td>3886</td>\n",
       "      <td>3886</td>\n",
       "    </tr>\n",
       "    <tr>\n",
       "      <th>3</th>\n",
       "      <td>False negative</td>\n",
       "      <td>253</td>\n",
       "      <td>28</td>\n",
       "      <td>28</td>\n",
       "    </tr>\n",
       "    <tr>\n",
       "      <th>4</th>\n",
       "      <td>FP ratio</td>\n",
       "      <td>0.10972404730617609 (10.97%)</td>\n",
       "      <td>0.4015151515151515 (40.15%)</td>\n",
       "      <td>0.4015151515151515 (40.15%)</td>\n",
       "    </tr>\n",
       "    <tr>\n",
       "      <th>5</th>\n",
       "      <td>FN ratio</td>\n",
       "      <td>0.05027821939586646 (5.03%)</td>\n",
       "      <td>0.007153806847215125 (0.72%)</td>\n",
       "      <td>0.007153806847215125 (0.72%)</td>\n",
       "    </tr>\n",
       "    <tr>\n",
       "      <th>6</th>\n",
       "      <td>Training score</td>\n",
       "      <td>0.9373542670604694 (93.74%)</td>\n",
       "      <td>0.9190351961188155 (91.9%)</td>\n",
       "      <td>0.9190351961188155 (91.9%)</td>\n",
       "    </tr>\n",
       "    <tr>\n",
       "      <th>7</th>\n",
       "      <td>Test score</td>\n",
       "      <td>0.865814696485623 (86.58%)</td>\n",
       "      <td>0.7438794726930321 (74.39%)</td>\n",
       "      <td>0.7438794726930321 (74.39%)</td>\n",
       "    </tr>\n",
       "    <tr>\n",
       "      <th>8</th>\n",
       "      <td>Precision</td>\n",
       "      <td>0.8902759526938239 (89.03%)</td>\n",
       "      <td>0.5984848484848485 (59.85%)</td>\n",
       "      <td>0.5984848484848485 (59.85%)</td>\n",
       "    </tr>\n",
       "    <tr>\n",
       "      <th>9</th>\n",
       "      <td>Recall</td>\n",
       "      <td>0.8426616915422885 (84.27%)</td>\n",
       "      <td>0.9825870646766169 (84.27%)</td>\n",
       "      <td>0.9825870646766169 (84.27%)</td>\n",
       "    </tr>\n",
       "    <tr>\n",
       "      <th>10</th>\n",
       "      <td>Accuracy</td>\n",
       "      <td>0.9359169972535856 (93.59%)</td>\n",
       "      <td>0.8339945071711932 (83.4%)</td>\n",
       "      <td>0.8339945071711932 (83.4%)</td>\n",
       "    </tr>\n",
       "  </tbody>\n",
       "</table>\n",
       "</div>"
      ],
      "text/plain": [
       "            Metric                 Not resampled  \\\n",
       "0    True positive                          1355   \n",
       "1   False positive                           167   \n",
       "2    True negative                          4779   \n",
       "3   False negative                           253   \n",
       "4         FP ratio  0.10972404730617609 (10.97%)   \n",
       "5         FN ratio   0.05027821939586646 (5.03%)   \n",
       "6   Training score   0.9373542670604694 (93.74%)   \n",
       "7       Test score    0.865814696485623 (86.58%)   \n",
       "8        Precision   0.8902759526938239 (89.03%)   \n",
       "9           Recall   0.8426616915422885 (84.27%)   \n",
       "10        Accuracy   0.9359169972535856 (93.59%)   \n",
       "\n",
       "                     Oversampled                  Undersampled  \n",
       "0                           1580                          1580  \n",
       "1                           1060                          1060  \n",
       "2                           3886                          3886  \n",
       "3                             28                            28  \n",
       "4    0.4015151515151515 (40.15%)   0.4015151515151515 (40.15%)  \n",
       "5   0.007153806847215125 (0.72%)  0.007153806847215125 (0.72%)  \n",
       "6     0.9190351961188155 (91.9%)    0.9190351961188155 (91.9%)  \n",
       "7    0.7438794726930321 (74.39%)   0.7438794726930321 (74.39%)  \n",
       "8    0.5984848484848485 (59.85%)   0.5984848484848485 (59.85%)  \n",
       "9    0.9825870646766169 (84.27%)   0.9825870646766169 (84.27%)  \n",
       "10    0.8339945071711932 (83.4%)    0.8339945071711932 (83.4%)  "
      ]
     },
     "metadata": {},
     "output_type": "display_data"
    },
    {
     "name": "stdout",
     "output_type": "stream",
     "text": [
      "\n",
      "LABEL  4\n",
      "==============\n"
     ]
    },
    {
     "data": {
      "text/html": [
       "<div>\n",
       "<style scoped>\n",
       "    .dataframe tbody tr th:only-of-type {\n",
       "        vertical-align: middle;\n",
       "    }\n",
       "\n",
       "    .dataframe tbody tr th {\n",
       "        vertical-align: top;\n",
       "    }\n",
       "\n",
       "    .dataframe thead th {\n",
       "        text-align: right;\n",
       "    }\n",
       "</style>\n",
       "<table border=\"1\" class=\"dataframe\">\n",
       "  <thead>\n",
       "    <tr style=\"text-align: right;\">\n",
       "      <th></th>\n",
       "      <th>Metric</th>\n",
       "      <th>Not resampled</th>\n",
       "      <th>Oversampled</th>\n",
       "      <th>Undersampled</th>\n",
       "    </tr>\n",
       "  </thead>\n",
       "  <tbody>\n",
       "    <tr>\n",
       "      <th>0</th>\n",
       "      <td>True positive</td>\n",
       "      <td>966</td>\n",
       "      <td>1117</td>\n",
       "      <td>1117</td>\n",
       "    </tr>\n",
       "    <tr>\n",
       "      <th>1</th>\n",
       "      <td>False positive</td>\n",
       "      <td>181</td>\n",
       "      <td>1099</td>\n",
       "      <td>1099</td>\n",
       "    </tr>\n",
       "    <tr>\n",
       "      <th>2</th>\n",
       "      <td>True negative</td>\n",
       "      <td>5230</td>\n",
       "      <td>4312</td>\n",
       "      <td>4312</td>\n",
       "    </tr>\n",
       "    <tr>\n",
       "      <th>3</th>\n",
       "      <td>False negative</td>\n",
       "      <td>177</td>\n",
       "      <td>26</td>\n",
       "      <td>26</td>\n",
       "    </tr>\n",
       "    <tr>\n",
       "      <th>4</th>\n",
       "      <td>FP ratio</td>\n",
       "      <td>0.15780296425457715 (15.78%)</td>\n",
       "      <td>0.49593862815884476 (49.59%)</td>\n",
       "      <td>0.49593862815884476 (49.59%)</td>\n",
       "    </tr>\n",
       "    <tr>\n",
       "      <th>5</th>\n",
       "      <td>FN ratio</td>\n",
       "      <td>0.03273534307379323 (3.27%)</td>\n",
       "      <td>0.00599354541263255 (0.6%)</td>\n",
       "      <td>0.00599354541263255 (0.6%)</td>\n",
       "    </tr>\n",
       "    <tr>\n",
       "      <th>6</th>\n",
       "      <td>Training score</td>\n",
       "      <td>0.9219978746014877 (92.2%)</td>\n",
       "      <td>0.9175124253435242 (91.75%)</td>\n",
       "      <td>0.9175124253435242 (91.75%)</td>\n",
       "    </tr>\n",
       "    <tr>\n",
       "      <th>7</th>\n",
       "      <td>Test score</td>\n",
       "      <td>0.8436681222707424 (84.37%)</td>\n",
       "      <td>0.6650788925275379 (66.51%)</td>\n",
       "      <td>0.6650788925275379 (66.51%)</td>\n",
       "    </tr>\n",
       "    <tr>\n",
       "      <th>8</th>\n",
       "      <td>Precision</td>\n",
       "      <td>0.8421970357454228 (84.22%)</td>\n",
       "      <td>0.5040613718411552 (50.41%)</td>\n",
       "      <td>0.5040613718411552 (50.41%)</td>\n",
       "    </tr>\n",
       "    <tr>\n",
       "      <th>9</th>\n",
       "      <td>Recall</td>\n",
       "      <td>0.8451443569553806 (84.51%)</td>\n",
       "      <td>0.9772528433945756 (84.51%)</td>\n",
       "      <td>0.9772528433945756 (84.51%)</td>\n",
       "    </tr>\n",
       "    <tr>\n",
       "      <th>10</th>\n",
       "      <td>Accuracy</td>\n",
       "      <td>0.9453768690875801 (94.54%)</td>\n",
       "      <td>0.82834909978639 (82.83%)</td>\n",
       "      <td>0.82834909978639 (82.83%)</td>\n",
       "    </tr>\n",
       "  </tbody>\n",
       "</table>\n",
       "</div>"
      ],
      "text/plain": [
       "            Metric                 Not resampled  \\\n",
       "0    True positive                           966   \n",
       "1   False positive                           181   \n",
       "2    True negative                          5230   \n",
       "3   False negative                           177   \n",
       "4         FP ratio  0.15780296425457715 (15.78%)   \n",
       "5         FN ratio   0.03273534307379323 (3.27%)   \n",
       "6   Training score    0.9219978746014877 (92.2%)   \n",
       "7       Test score   0.8436681222707424 (84.37%)   \n",
       "8        Precision   0.8421970357454228 (84.22%)   \n",
       "9           Recall   0.8451443569553806 (84.51%)   \n",
       "10        Accuracy   0.9453768690875801 (94.54%)   \n",
       "\n",
       "                     Oversampled                  Undersampled  \n",
       "0                           1117                          1117  \n",
       "1                           1099                          1099  \n",
       "2                           4312                          4312  \n",
       "3                             26                            26  \n",
       "4   0.49593862815884476 (49.59%)  0.49593862815884476 (49.59%)  \n",
       "5     0.00599354541263255 (0.6%)    0.00599354541263255 (0.6%)  \n",
       "6    0.9175124253435242 (91.75%)   0.9175124253435242 (91.75%)  \n",
       "7    0.6650788925275379 (66.51%)   0.6650788925275379 (66.51%)  \n",
       "8    0.5040613718411552 (50.41%)   0.5040613718411552 (50.41%)  \n",
       "9    0.9772528433945756 (84.51%)   0.9772528433945756 (84.51%)  \n",
       "10     0.82834909978639 (82.83%)     0.82834909978639 (82.83%)  "
      ]
     },
     "metadata": {},
     "output_type": "display_data"
    }
   ],
   "source": [
    "lbl_idx = { '2': '70', '3': '101', '4': '4' }\n",
    "TPs_resampled_perceptr, FPs_resampled_perceptr, TNs_resampled_perceptr, FNs_resampled_perceptr, precisions_resampled_perceptr, recalls_resampled_perceptr, accs_resampled_perceptr = [], [], [], [], [], [], []\n",
    "TPs_unders_perceptr, FPs_unders_perceptr, TNs_unders_perceptr, FNs_unders_perceptr, precisions_unders_perceptr, recalls_unders_perceptr, accs_unders_perceptr = [], [], [], [], [], [], []\n",
    "\n",
    "for i in range(2,5):    \n",
    "    currentLabel = eval('y'+str(i))\n",
    "    \n",
    "    X_train, X_test, y_train, y_test = train_test_split(X, currentLabel, test_size=0.33,\n",
    "                                                        random_state=42, stratify=currentLabel)\n",
    "    \n",
    "    classifier = Perceptron()\n",
    "    classifier.fit(X_train, y_train)\n",
    "    train_score = classifier.score(X_train, y_train)\n",
    "    \n",
    "    y_pred = classifier.predict(X_test)  \n",
    "    f1 = f1_score(y_test, y_pred)\n",
    "    tn, fp, fn, tp = confusion_matrix(y_test, y_pred).ravel()\n",
    "    precision = precision_score(y_test, y_pred)\n",
    "    recall = recall_score(y_test, y_pred)\n",
    "    acc = accuracy_score(y_test, y_pred)\n",
    "    \n",
    "    TNs_perceptron.append(tn)\n",
    "    TPs_perceptron.append(tp)\n",
    "    FPs_perceptron.append(fp)\n",
    "    FNs_perceptron.append(fn)\n",
    "    precisions_perceptron.append(precision)\n",
    "    recalls_perceptron.append(recall)\n",
    "    accs_perceptron.append(acc)\n",
    "    \n",
    "    # Up-sample\n",
    "    ros = RandomOverSampler(random_state=42)\n",
    "    X_train_resampled, y_train_resampled = ros.fit_resample(X_train, y_train)\n",
    "    \n",
    "    classifier = Perceptron()\n",
    "    classifier.fit(X_train_resampled, y_train_resampled)\n",
    "    train_score_resampled = classifier.score(X_train_resampled, y_train_resampled)\n",
    "    \n",
    "    y_pred = classifier.predict(X_test)  \n",
    "    f1_resampled = f1_score(y_test, y_pred)  \n",
    "    tn_resampled, fp_resampled, fn_resampled, tp_resampled = confusion_matrix(y_test, y_pred).ravel()\n",
    "    precision_resampled = precision_score(y_test, y_pred)\n",
    "    recall_resampled = recall_score(y_test, y_pred)\n",
    "    acc_resampled = accuracy_score(y_test, y_pred)\n",
    "    \n",
    "    TNs_resampled_perceptr.append(tn_resampled)\n",
    "    TPs_resampled_perceptr.append(tp_resampled)\n",
    "    FPs_resampled_perceptr.append(fp_resampled)\n",
    "    FNs_resampled_perceptr.append(fn_resampled)\n",
    "    precisions_resampled_perceptr.append(precision_resampled)\n",
    "    recalls_resampled_perceptr.append(recall_resampled)\n",
    "    accs_resampled_perceptr.append(acc_resampled)\n",
    "    \n",
    "    # Under-sample\n",
    "    rus = RandomUnderSampler(random_state=42, replacement=True)\n",
    "    X_train_unders, y_train_unders = ros.fit_resample(X_train, y_train)\n",
    "    \n",
    "    classifier = Perceptron()\n",
    "    classifier.fit(X_train_unders, y_train_unders)\n",
    "    train_score_unders = classifier.score(X_train_unders, y_train_unders)\n",
    "    \n",
    "    y_pred = classifier.predict(X_test)  \n",
    "    f1_unders = f1_score(y_test, y_pred)\n",
    "    tn_unders, fp_unders, fn_unders, tp_unders = confusion_matrix(y_test, y_pred).ravel()\n",
    "    precision_unders = precision_score(y_test, y_pred)\n",
    "    recall_unders = recall_score(y_test, y_pred)\n",
    "    acc_unders = accuracy_score(y_test, y_pred)\n",
    "    \n",
    "    TNs_unders_perceptr.append(tn_unders)\n",
    "    TPs_unders_perceptr.append(tp_unders)\n",
    "    FPs_unders_perceptr.append(fp_unders)\n",
    "    FNs_unders_perceptr.append(fn_unders)\n",
    "    precisions_unders_perceptr.append(precision_unders)\n",
    "    recalls_unders_perceptr.append(recall_unders)\n",
    "    accs_unders_perceptr.append(acc_unders)\n",
    "    \n",
    "    print(\"\\nLABEL \", lbl_idx.get(str(i)))\n",
    "    print(\"==============\")\n",
    "    \n",
    "    metrics_name = [\"True positive\", \"False positive\", \"True negative\", \"False negative\", \"FP ratio\", \"FN ratio\",\n",
    "                    \"Training score\", \"Test score\", \"Precision\", \"Recall\", \"Accuracy\"]\n",
    "    nr = [tp,fp,tn,fn,\n",
    "          str(fp/(tp+fp))+\" (\"+str(np.round(fp/(tp+fp)*100, 2))+\"%)\",\n",
    "          str(fn/(tn+fn))+\" (\"+str(np.round(fn/(tn+fn)*100, 2))+\"%)\",\n",
    "          str(train_score)+\" (\"+str(np.round(train_score*100, 2))+\"%)\",\n",
    "          str(f1)+\" (\"+str(np.round(f1*100, 2))+\"%)\",\n",
    "          str(precision)+\" (\"+str(np.round(precision*100, 2))+\"%)\",\n",
    "          str(recall)+\" (\"+str(np.round(recall*100, 2))+\"%)\",\n",
    "          str(acc)+\" (\"+str(np.round(acc*100, 2))+\"%)\"]\n",
    "    \n",
    "    ovs = [tp_resampled,fp_resampled, tn_resampled,fn_resampled,\n",
    "          str(fp_resampled/(tp_resampled+fp_resampled))+\" (\"+str(np.round(fp_resampled/(tp_resampled+fp_resampled)*100, 2))+\"%)\",\n",
    "          str(fn_resampled/(tn_resampled+fn_resampled))+\" (\"+str(np.round(fn_resampled/(tn_resampled+fn_resampled)*100, 2))+\"%)\",\n",
    "          str(train_score_resampled)+\" (\"+str(np.round(train_score_resampled*100, 2))+\"%)\",\n",
    "          str(f1_resampled)+\" (\"+str(np.round(f1_resampled*100, 2))+\"%)\",\n",
    "          str(precision_resampled)+\" (\"+str(np.round(precision_resampled*100, 2))+\"%)\",\n",
    "          str(recall_resampled)+\" (\"+str(np.round(recall*100, 2))+\"%)\",\n",
    "          str(acc_resampled)+\" (\"+str(np.round(acc_resampled*100, 2))+\"%)\"]\n",
    "    \n",
    "    uds = [tp_unders,fp_unders, tn_unders,fn_unders,\n",
    "          str(fp_unders/(tp_unders+fp_unders))+\" (\"+str(np.round(fp_unders/(tp_unders+fp_unders)*100, 2))+\"%)\",\n",
    "          str(fn_unders/(tn_unders+fn_unders))+\" (\"+str(np.round(fn_unders/(tn_unders+fn_unders)*100, 2))+\"%)\",\n",
    "          str(train_score_unders)+\" (\"+str(np.round(train_score_unders*100, 2))+\"%)\",\n",
    "          str(f1_unders)+\" (\"+str(np.round(f1_unders*100, 2))+\"%)\",\n",
    "          str(precision_unders)+\" (\"+str(np.round(precision_unders*100, 2))+\"%)\",\n",
    "          str(recall_unders)+\" (\"+str(np.round(recall*100, 2))+\"%)\",\n",
    "          str(acc_unders)+\" (\"+str(np.round(acc_unders*100, 2))+\"%)\"]\n",
    "    \n",
    "    df1 = pd.DataFrame(np.column_stack([metrics_name, nr, ovs, uds]), columns=[\"Metric\", \"Not resampled\", \"Oversampled\", \"Undersampled\"])\n",
    "    display(df1)"
   ]
  },
  {
   "cell_type": "markdown",
   "metadata": {},
   "source": [
    "Let's now see the Learning curve"
   ]
  },
  {
   "cell_type": "code",
   "execution_count": 55,
   "metadata": {},
   "outputs": [
    {
     "name": "stdout",
     "output_type": "stream",
     "text": [
      "[learning_curve] Training set sizes: [ 1000  2000  3000  4000  5000  6000  7000  8000  9000 10000 11000 12000\n",
      " 13000]\n"
     ]
    },
    {
     "name": "stderr",
     "output_type": "stream",
     "text": [
      "[Parallel(n_jobs=-1)]: Using backend LokyBackend with 8 concurrent workers.\n",
      "[Parallel(n_jobs=-1)]: Done   5 out of 130 | elapsed:    1.3s remaining:   31.4s\n",
      "[Parallel(n_jobs=-1)]: Done  19 out of 130 | elapsed:    4.5s remaining:   26.3s\n",
      "[Parallel(n_jobs=-1)]: Done  33 out of 130 | elapsed:    7.9s remaining:   23.2s\n",
      "[Parallel(n_jobs=-1)]: Done  47 out of 130 | elapsed:   11.4s remaining:   20.1s\n",
      "[Parallel(n_jobs=-1)]: Done  61 out of 130 | elapsed:   16.1s remaining:   18.2s\n",
      "[Parallel(n_jobs=-1)]: Done  75 out of 130 | elapsed:   20.3s remaining:   14.9s\n",
      "[Parallel(n_jobs=-1)]: Done  89 out of 130 | elapsed:   24.8s remaining:   11.4s\n",
      "[Parallel(n_jobs=-1)]: Done 103 out of 130 | elapsed:   28.9s remaining:    7.6s\n",
      "[Parallel(n_jobs=-1)]: Done 117 out of 130 | elapsed:   33.4s remaining:    3.7s\n",
      "[Parallel(n_jobs=-1)]: Done 130 out of 130 | elapsed:   37.5s finished\n",
      "[Parallel(n_jobs=-1)]: Using backend LokyBackend with 8 concurrent workers.\n"
     ]
    },
    {
     "name": "stdout",
     "output_type": "stream",
     "text": [
      "[learning_curve] Training set sizes: [ 1000  2000  3000  4000  5000  6000  7000  8000  9000 10000 11000 12000\n",
      " 13000]\n"
     ]
    },
    {
     "name": "stderr",
     "output_type": "stream",
     "text": [
      "[Parallel(n_jobs=-1)]: Done   5 out of 130 | elapsed:    1.8s remaining:   45.0s\n",
      "[Parallel(n_jobs=-1)]: Done  19 out of 130 | elapsed:    6.2s remaining:   35.9s\n",
      "[Parallel(n_jobs=-1)]: Done  33 out of 130 | elapsed:   10.2s remaining:   30.1s\n",
      "[Parallel(n_jobs=-1)]: Done  47 out of 130 | elapsed:   14.5s remaining:   25.6s\n",
      "[Parallel(n_jobs=-1)]: Done  61 out of 130 | elapsed:   19.0s remaining:   21.5s\n",
      "[Parallel(n_jobs=-1)]: Done  75 out of 130 | elapsed:   23.0s remaining:   16.9s\n",
      "[Parallel(n_jobs=-1)]: Done  89 out of 130 | elapsed:   27.6s remaining:   12.7s\n",
      "[Parallel(n_jobs=-1)]: Done 103 out of 130 | elapsed:   31.8s remaining:    8.3s\n",
      "[Parallel(n_jobs=-1)]: Done 117 out of 130 | elapsed:   36.3s remaining:    4.0s\n",
      "[Parallel(n_jobs=-1)]: Done 130 out of 130 | elapsed:   40.4s finished\n",
      "[Parallel(n_jobs=-1)]: Using backend LokyBackend with 8 concurrent workers.\n"
     ]
    },
    {
     "name": "stdout",
     "output_type": "stream",
     "text": [
      "[learning_curve] Training set sizes: [ 1000  2000  3000  4000  5000  6000  7000  8000  9000 10000 11000 12000\n",
      " 13000]\n"
     ]
    },
    {
     "name": "stderr",
     "output_type": "stream",
     "text": [
      "[Parallel(n_jobs=-1)]: Done   5 out of 130 | elapsed:    1.8s remaining:   44.6s\n",
      "[Parallel(n_jobs=-1)]: Done  19 out of 130 | elapsed:    6.1s remaining:   35.7s\n",
      "[Parallel(n_jobs=-1)]: Done  33 out of 130 | elapsed:   10.4s remaining:   30.7s\n",
      "[Parallel(n_jobs=-1)]: Done  47 out of 130 | elapsed:   14.8s remaining:   26.2s\n",
      "[Parallel(n_jobs=-1)]: Done  61 out of 130 | elapsed:   19.8s remaining:   22.4s\n",
      "[Parallel(n_jobs=-1)]: Done  75 out of 130 | elapsed:   24.0s remaining:   17.6s\n",
      "[Parallel(n_jobs=-1)]: Done  89 out of 130 | elapsed:   28.6s remaining:   13.2s\n",
      "[Parallel(n_jobs=-1)]: Done 103 out of 130 | elapsed:   32.9s remaining:    8.6s\n",
      "[Parallel(n_jobs=-1)]: Done 117 out of 130 | elapsed:   37.7s remaining:    4.2s\n",
      "[Parallel(n_jobs=-1)]: Done 130 out of 130 | elapsed:   41.6s finished\n"
     ]
    },
    {
     "data": {
      "image/png": "[encoded data removed]",
      "text/plain": [
       "<Figure size 1440x360 with 3 Axes>"
      ]
     },
     "metadata": {
      "needs_background": "light"
     },
     "output_type": "display_data"
    }
   ],
   "source": [
    "plt.figure(figsize=(20, 5))\n",
    "\n",
    "for i in range(2,5):\n",
    "    currentLabel = eval('y'+str(i))\n",
    "    \n",
    "    sizes = range(1000, 14000, 1000)\n",
    "    train_size, train_score, val_score = learning_curve(Perceptron(), X, currentLabel, train_sizes=sizes, cv=10,\n",
    "                                                   n_jobs=-1, verbose=10)\n",
    "    \n",
    "    plt.subplot(1, 3, i-1)\n",
    "    plt.title('Perceptron vs. training size (Label ' + lbl_idx.get(str(i)) + ')')\n",
    "    plt.plot(train_size, np.mean(val_score, 1), label='Validation')\n",
    "    plt.plot(train_size, np.mean(train_score, 1), label='Training')\n",
    "    plt.legend()\n",
    "    plt.xlabel('Training size')\n",
    "    plt.ylabel('Score')\n",
    "\n",
    "plt.savefig('perceptron_learning_curve_other.png')\n",
    "plt.show()"
   ]
  },
  {
   "cell_type": "markdown",
   "metadata": {},
   "source": [
    "We now plot the _validation curve_ and we run `GridSearchCV` to get the best number of epochs for the Perceptron for every label."
   ]
  },
  {
   "cell_type": "code",
   "execution_count": 56,
   "metadata": {},
   "outputs": [
    {
     "name": "stderr",
     "output_type": "stream",
     "text": [
      "[Parallel(n_jobs=-1)]: Using backend LokyBackend with 8 concurrent workers.\n",
      "[Parallel(n_jobs=-1)]: Done   2 out of 100 | elapsed:    8.4s remaining:  6.9min\n",
      "[Parallel(n_jobs=-1)]: Done  13 out of 100 | elapsed:   49.2s remaining:  5.5min\n",
      "[Parallel(n_jobs=-1)]: Done  24 out of 100 | elapsed:  1.5min remaining:  4.6min\n",
      "[Parallel(n_jobs=-1)]: Done  35 out of 100 | elapsed:  2.2min remaining:  4.0min\n",
      "[Parallel(n_jobs=-1)]: Done  46 out of 100 | elapsed:  2.8min remaining:  3.3min\n",
      "[Parallel(n_jobs=-1)]: Done  57 out of 100 | elapsed:  3.4min remaining:  2.6min\n",
      "[Parallel(n_jobs=-1)]: Done  68 out of 100 | elapsed:  4.1min remaining:  1.9min\n",
      "[Parallel(n_jobs=-1)]: Done  79 out of 100 | elapsed:  4.9min remaining:  1.3min\n",
      "[Parallel(n_jobs=-1)]: Done  90 out of 100 | elapsed:  5.5min remaining:   36.7s\n",
      "[Parallel(n_jobs=-1)]: Done 100 out of 100 | elapsed:  6.1min finished\n",
      "[Parallel(n_jobs=-1)]: Using backend LokyBackend with 8 concurrent workers.\n"
     ]
    },
    {
     "name": "stdout",
     "output_type": "stream",
     "text": [
      "Fitting 10 folds for each of 10 candidates, totalling 100 fits\n"
     ]
    },
    {
     "name": "stderr",
     "output_type": "stream",
     "text": [
      "[Parallel(n_jobs=-1)]: Done   2 tasks      | elapsed:    6.5s\n",
      "[Parallel(n_jobs=-1)]: Done   9 tasks      | elapsed:   12.9s\n",
      "[Parallel(n_jobs=-1)]: Done  16 tasks      | elapsed:   18.8s\n",
      "[Parallel(n_jobs=-1)]: Done  25 tasks      | elapsed:   41.0s\n",
      "[Parallel(n_jobs=-1)]: Done  34 tasks      | elapsed:  1.1min\n",
      "[Parallel(n_jobs=-1)]: Done  45 tasks      | elapsed:  1.7min\n",
      "[Parallel(n_jobs=-1)]: Done  56 tasks      | elapsed:  2.3min\n",
      "[Parallel(n_jobs=-1)]: Done  69 tasks      | elapsed:  3.4min\n",
      "[Parallel(n_jobs=-1)]: Done  82 tasks      | elapsed:  4.6min\n",
      "[Parallel(n_jobs=-1)]: Done  96 out of 100 | elapsed:  6.0min remaining:   15.0s\n",
      "[Parallel(n_jobs=-1)]: Done 100 out of 100 | elapsed:  6.2min finished\n",
      "[Parallel(n_jobs=-1)]: Using backend LokyBackend with 8 concurrent workers.\n",
      "[Parallel(n_jobs=-1)]: Done   2 out of 100 | elapsed:   11.5s remaining:  9.4min\n",
      "[Parallel(n_jobs=-1)]: Done  13 out of 100 | elapsed:   53.9s remaining:  6.0min\n",
      "[Parallel(n_jobs=-1)]: Done  24 out of 100 | elapsed:  1.5min remaining:  4.8min\n",
      "[Parallel(n_jobs=-1)]: Done  35 out of 100 | elapsed:  2.3min remaining:  4.2min\n",
      "[Parallel(n_jobs=-1)]: Done  46 out of 100 | elapsed:  2.9min remaining:  3.4min\n",
      "[Parallel(n_jobs=-1)]: Done  57 out of 100 | elapsed:  3.5min remaining:  2.7min\n",
      "[Parallel(n_jobs=-1)]: Done  68 out of 100 | elapsed:  4.2min remaining:  2.0min\n",
      "[Parallel(n_jobs=-1)]: Done  79 out of 100 | elapsed:  5.0min remaining:  1.3min\n",
      "[Parallel(n_jobs=-1)]: Done  90 out of 100 | elapsed:  5.6min remaining:   37.5s\n",
      "[Parallel(n_jobs=-1)]: Done 100 out of 100 | elapsed:  6.2min finished\n",
      "[Parallel(n_jobs=-1)]: Using backend LokyBackend with 8 concurrent workers.\n"
     ]
    },
    {
     "name": "stdout",
     "output_type": "stream",
     "text": [
      "Fitting 10 folds for each of 10 candidates, totalling 100 fits\n"
     ]
    },
    {
     "name": "stderr",
     "output_type": "stream",
     "text": [
      "[Parallel(n_jobs=-1)]: Done   2 tasks      | elapsed:    6.0s\n",
      "[Parallel(n_jobs=-1)]: Done   9 tasks      | elapsed:   12.1s\n",
      "[Parallel(n_jobs=-1)]: Done  16 tasks      | elapsed:   18.1s\n",
      "[Parallel(n_jobs=-1)]: Done  25 tasks      | elapsed:   40.4s\n",
      "[Parallel(n_jobs=-1)]: Done  34 tasks      | elapsed:  1.0min\n",
      "[Parallel(n_jobs=-1)]: Done  45 tasks      | elapsed:  1.7min\n",
      "[Parallel(n_jobs=-1)]: Done  56 tasks      | elapsed:  2.3min\n",
      "[Parallel(n_jobs=-1)]: Done  69 tasks      | elapsed:  3.5min\n",
      "[Parallel(n_jobs=-1)]: Done  82 tasks      | elapsed:  4.6min\n",
      "[Parallel(n_jobs=-1)]: Done  96 out of 100 | elapsed:  6.0min remaining:   15.1s\n",
      "[Parallel(n_jobs=-1)]: Done 100 out of 100 | elapsed:  6.3min finished\n",
      "[Parallel(n_jobs=-1)]: Using backend LokyBackend with 8 concurrent workers.\n",
      "[Parallel(n_jobs=-1)]: Done   2 out of 100 | elapsed:   11.2s remaining:  9.2min\n",
      "[Parallel(n_jobs=-1)]: Done  13 out of 100 | elapsed:   52.7s remaining:  5.9min\n",
      "[Parallel(n_jobs=-1)]: Done  24 out of 100 | elapsed:  1.5min remaining:  4.8min\n",
      "[Parallel(n_jobs=-1)]: Done  35 out of 100 | elapsed:  2.2min remaining:  4.1min\n",
      "[Parallel(n_jobs=-1)]: Done  46 out of 100 | elapsed:  2.9min remaining:  3.4min\n",
      "[Parallel(n_jobs=-1)]: Done  57 out of 100 | elapsed:  3.5min remaining:  2.6min\n",
      "[Parallel(n_jobs=-1)]: Done  68 out of 100 | elapsed:  4.2min remaining:  2.0min\n",
      "[Parallel(n_jobs=-1)]: Done  79 out of 100 | elapsed:  4.9min remaining:  1.3min\n",
      "[Parallel(n_jobs=-1)]: Done  90 out of 100 | elapsed:  5.5min remaining:   36.9s\n",
      "[Parallel(n_jobs=-1)]: Done 100 out of 100 | elapsed:  6.1min finished\n",
      "[Parallel(n_jobs=-1)]: Using backend LokyBackend with 8 concurrent workers.\n"
     ]
    },
    {
     "name": "stdout",
     "output_type": "stream",
     "text": [
      "Fitting 10 folds for each of 10 candidates, totalling 100 fits\n"
     ]
    },
    {
     "name": "stderr",
     "output_type": "stream",
     "text": [
      "[Parallel(n_jobs=-1)]: Done   2 tasks      | elapsed:    6.0s\n",
      "[Parallel(n_jobs=-1)]: Done   9 tasks      | elapsed:   11.9s\n",
      "[Parallel(n_jobs=-1)]: Done  16 tasks      | elapsed:   17.6s\n",
      "[Parallel(n_jobs=-1)]: Done  25 tasks      | elapsed:   40.0s\n",
      "[Parallel(n_jobs=-1)]: Done  34 tasks      | elapsed:  1.0min\n",
      "[Parallel(n_jobs=-1)]: Done  45 tasks      | elapsed:  1.7min\n",
      "[Parallel(n_jobs=-1)]: Done  56 tasks      | elapsed:  2.3min\n",
      "[Parallel(n_jobs=-1)]: Done  69 tasks      | elapsed:  3.4min\n",
      "[Parallel(n_jobs=-1)]: Done  82 tasks      | elapsed:  4.5min\n",
      "[Parallel(n_jobs=-1)]: Done  96 out of 100 | elapsed:  5.9min remaining:   14.9s\n",
      "[Parallel(n_jobs=-1)]: Done 100 out of 100 | elapsed:  6.2min finished\n"
     ]
    },
    {
     "data": {
      "image/png": "[encoded data removed]",
      "text/plain": [
       "<Figure size 1440x360 with 3 Axes>"
      ]
     },
     "metadata": {
      "needs_background": "light"
     },
     "output_type": "display_data"
    }
   ],
   "source": [
    "plt.figure(figsize=(20, 5))\n",
    "\n",
    "for i in range(2,5):\n",
    "    currentLabel = eval('y'+str(i))\n",
    "    \n",
    "    T = range(1,11,1)\n",
    "    train_score, val_score = validation_curve(Perceptron(), X, currentLabel, 'T', T, cv=10, verbose=10, n_jobs=-1)\n",
    "    \n",
    "    param_grid = [{'T': T}]\n",
    "\n",
    "    svc = Perceptron()\n",
    "    clf = GridSearchCV(svc, param_grid, cv = 10, verbose=10, n_jobs=-1)\n",
    "\n",
    "    clf.fit(X, currentLabel)\n",
    "\n",
    "    params_perceptron.append([clf.best_params_, clf.best_score_])\n",
    "    params_perceptron[i-1]\n",
    "    \n",
    "    plt.subplot(1, 3, i-1)\n",
    "    plt.title('Perceptron vs. number of epochs (Label ' + lbl_idx.get(str(i)) + ')')\n",
    "    plt.plot(T, np.mean(val_score, 1), label='Testing')\n",
    "    plt.plot(T, np.mean(train_score, 1), label='Training')\n",
    "    plt.legend()\n",
    "    plt.xlabel('Number of epochs')\n",
    "    plt.ylabel('Score')\n",
    "\n",
    "plt.savefig('perceptron_validation_curve_other.png')\n",
    "plt.show()"
   ]
  },
  {
   "cell_type": "markdown",
   "metadata": {},
   "source": [
    "### Results: Perceptron"
   ]
  },
  {
   "cell_type": "markdown",
   "metadata": {},
   "source": [
    "We now analyze the results"
   ]
  },
  {
   "cell_type": "markdown",
   "metadata": {},
   "source": [
    "#### No resampling"
   ]
  },
  {
   "cell_type": "markdown",
   "metadata": {},
   "source": [
    "These are the results for the random split where the test set is a third of the dataset, without resampling"
   ]
  },
  {
   "cell_type": "code",
   "execution_count": 57,
   "metadata": {},
   "outputs": [
    {
     "data": {
      "text/html": [
       "<div>\n",
       "<style scoped>\n",
       "    .dataframe tbody tr th:only-of-type {\n",
       "        vertical-align: middle;\n",
       "    }\n",
       "\n",
       "    .dataframe tbody tr th {\n",
       "        vertical-align: top;\n",
       "    }\n",
       "\n",
       "    .dataframe thead th {\n",
       "        text-align: right;\n",
       "    }\n",
       "</style>\n",
       "<table border=\"1\" class=\"dataframe\">\n",
       "  <thead>\n",
       "    <tr style=\"text-align: right;\">\n",
       "      <th></th>\n",
       "      <th>Label</th>\n",
       "      <th>True Positive</th>\n",
       "      <th>False Positive</th>\n",
       "      <th>True Negative</th>\n",
       "      <th>False Negative</th>\n",
       "      <th>Precision</th>\n",
       "      <th>Recall</th>\n",
       "      <th>Accuracy</th>\n",
       "    </tr>\n",
       "  </thead>\n",
       "  <tbody>\n",
       "    <tr>\n",
       "      <th>0</th>\n",
       "      <td>33</td>\n",
       "      <td>2521</td>\n",
       "      <td>401</td>\n",
       "      <td>3216</td>\n",
       "      <td>416</td>\n",
       "      <td>0.862765</td>\n",
       "      <td>0.858359</td>\n",
       "      <td>0.875343</td>\n",
       "    </tr>\n",
       "    <tr>\n",
       "      <th>1</th>\n",
       "      <td>70</td>\n",
       "      <td>1675</td>\n",
       "      <td>230</td>\n",
       "      <td>4465</td>\n",
       "      <td>184</td>\n",
       "      <td>0.879265</td>\n",
       "      <td>0.901022</td>\n",
       "      <td>0.936832</td>\n",
       "    </tr>\n",
       "    <tr>\n",
       "      <th>2</th>\n",
       "      <td>101</td>\n",
       "      <td>1355</td>\n",
       "      <td>167</td>\n",
       "      <td>4779</td>\n",
       "      <td>253</td>\n",
       "      <td>0.890276</td>\n",
       "      <td>0.842662</td>\n",
       "      <td>0.935917</td>\n",
       "    </tr>\n",
       "    <tr>\n",
       "      <th>3</th>\n",
       "      <td>4</td>\n",
       "      <td>966</td>\n",
       "      <td>181</td>\n",
       "      <td>5230</td>\n",
       "      <td>177</td>\n",
       "      <td>0.842197</td>\n",
       "      <td>0.845144</td>\n",
       "      <td>0.945377</td>\n",
       "    </tr>\n",
       "  </tbody>\n",
       "</table>\n",
       "</div>"
      ],
      "text/plain": [
       "   Label  True Positive  False Positive  True Negative  False Negative  \\\n",
       "0     33           2521             401           3216             416   \n",
       "1     70           1675             230           4465             184   \n",
       "2    101           1355             167           4779             253   \n",
       "3      4            966             181           5230             177   \n",
       "\n",
       "   Precision    Recall  Accuracy  \n",
       "0   0.862765  0.858359  0.875343  \n",
       "1   0.879265  0.901022  0.936832  \n",
       "2   0.890276  0.842662  0.935917  \n",
       "3   0.842197  0.845144  0.945377  "
      ]
     },
     "execution_count": 57,
     "metadata": {},
     "output_type": "execute_result"
    }
   ],
   "source": [
    "df_metrics_perceptron = pd.DataFrame(np.column_stack([highest, TPs_perceptron, FPs_perceptron,\n",
    "                                                      TNs_perceptron, FNs_perceptron, precisions_perceptron,\n",
    "                                                      recalls_perceptron, accs_perceptron]),\n",
    "                                     columns=['Label', 'True Positive', 'False Positive', 'True Negative',\n",
    "                                              'False Negative', 'Precision', 'Recall', 'Accuracy'])\n",
    "\n",
    "df_metrics_perceptron = df_metrics_perceptron.astype({'Label': int, 'True Positive': int,\n",
    "                                                      'False Positive': int, 'True Negative': int,\n",
    "                                                      'False Negative': int})\n",
    "\n",
    "df_metrics_perceptron"
   ]
  },
  {
   "cell_type": "code",
   "execution_count": 58,
   "metadata": {},
   "outputs": [
    {
     "data": {
      "image/png": "[encoded data removed]",
      "text/plain": [
       "<Figure size 432x324 with 1 Axes>"
      ]
     },
     "metadata": {
      "needs_background": "light"
     },
     "output_type": "display_data"
    }
   ],
   "source": [
    "fig = df_metrics_perceptron.plot(x='Label', y=['Precision', 'Recall', 'Accuracy'], kind=\"bar\",\n",
    "                                 title='Perceptron metrics', figsize=(6, 4.5)).get_figure()\n",
    "\n",
    "fig.savefig(\"perceptron_all_metrics.png\")"
   ]
  },
  {
   "cell_type": "code",
   "execution_count": 59,
   "metadata": {
    "scrolled": true
   },
   "outputs": [
    {
     "name": "stdout",
     "output_type": "stream",
     "text": [
      "Mean Precision:  0.8686258273994417\n",
      "Mean Recall:  0.8617967432401756\n",
      "Mean Accuracy:  0.9233674092157461\n"
     ]
    }
   ],
   "source": [
    "print(\"Mean Precision: \", df_metrics_perceptron[\"Precision\"].mean())\n",
    "print(\"Mean Recall: \", df_metrics_perceptron[\"Recall\"].mean())\n",
    "print(\"Mean Accuracy: \", df_metrics_perceptron[\"Accuracy\"].mean())"
   ]
  },
  {
   "cell_type": "markdown",
   "metadata": {},
   "source": [
    "#### Upsampling"
   ]
  },
  {
   "cell_type": "markdown",
   "metadata": {},
   "source": [
    "These are the results for the random split where the test set is a third of the dataset, with upsampling."
   ]
  },
  {
   "cell_type": "code",
   "execution_count": 60,
   "metadata": {},
   "outputs": [
    {
     "data": {
      "text/html": [
       "<div>\n",
       "<style scoped>\n",
       "    .dataframe tbody tr th:only-of-type {\n",
       "        vertical-align: middle;\n",
       "    }\n",
       "\n",
       "    .dataframe tbody tr th {\n",
       "        vertical-align: top;\n",
       "    }\n",
       "\n",
       "    .dataframe thead th {\n",
       "        text-align: right;\n",
       "    }\n",
       "</style>\n",
       "<table border=\"1\" class=\"dataframe\">\n",
       "  <thead>\n",
       "    <tr style=\"text-align: right;\">\n",
       "      <th></th>\n",
       "      <th>Label</th>\n",
       "      <th>True Positive</th>\n",
       "      <th>False Positive</th>\n",
       "      <th>True Negative</th>\n",
       "      <th>False Negative</th>\n",
       "      <th>Precision</th>\n",
       "      <th>Recall</th>\n",
       "      <th>Accuracy</th>\n",
       "    </tr>\n",
       "  </thead>\n",
       "  <tbody>\n",
       "    <tr>\n",
       "      <th>0</th>\n",
       "      <td>70</td>\n",
       "      <td>1825</td>\n",
       "      <td>1295</td>\n",
       "      <td>3400</td>\n",
       "      <td>34</td>\n",
       "      <td>0.584936</td>\n",
       "      <td>0.981711</td>\n",
       "      <td>0.797223</td>\n",
       "    </tr>\n",
       "    <tr>\n",
       "      <th>1</th>\n",
       "      <td>101</td>\n",
       "      <td>1580</td>\n",
       "      <td>1060</td>\n",
       "      <td>3886</td>\n",
       "      <td>28</td>\n",
       "      <td>0.598485</td>\n",
       "      <td>0.982587</td>\n",
       "      <td>0.833995</td>\n",
       "    </tr>\n",
       "    <tr>\n",
       "      <th>2</th>\n",
       "      <td>4</td>\n",
       "      <td>1117</td>\n",
       "      <td>1099</td>\n",
       "      <td>4312</td>\n",
       "      <td>26</td>\n",
       "      <td>0.504061</td>\n",
       "      <td>0.977253</td>\n",
       "      <td>0.828349</td>\n",
       "    </tr>\n",
       "  </tbody>\n",
       "</table>\n",
       "</div>"
      ],
      "text/plain": [
       "   Label  True Positive  False Positive  True Negative  False Negative  \\\n",
       "0     70           1825            1295           3400              34   \n",
       "1    101           1580            1060           3886              28   \n",
       "2      4           1117            1099           4312              26   \n",
       "\n",
       "   Precision    Recall  Accuracy  \n",
       "0   0.584936  0.981711  0.797223  \n",
       "1   0.598485  0.982587  0.833995  \n",
       "2   0.504061  0.977253  0.828349  "
      ]
     },
     "execution_count": 60,
     "metadata": {},
     "output_type": "execute_result"
    }
   ],
   "source": [
    "df_metrics_perceptron_resampl = pd.DataFrame(np.column_stack([highest[1:], TPs_resampled_perceptr, FPs_resampled_perceptr,\n",
    "                                                      TNs_resampled_perceptr, FNs_resampled_perceptr, precisions_resampled_perceptr,\n",
    "                                                      recalls_resampled_perceptr, accs_resampled_perceptr]),\n",
    "                                     columns=['Label', 'True Positive', 'False Positive', 'True Negative',\n",
    "                                              'False Negative', 'Precision', 'Recall', 'Accuracy'])\n",
    "\n",
    "df_metrics_perceptron_resampl = df_metrics_perceptron_resampl.astype({'Label': int, 'True Positive': int,\n",
    "                                                      'False Positive': int, 'True Negative': int,\n",
    "                                                      'False Negative': int})\n",
    "\n",
    "df_metrics_perceptron_resampl"
   ]
  },
  {
   "cell_type": "code",
   "execution_count": 61,
   "metadata": {},
   "outputs": [
    {
     "data": {
      "image/png": "[encoded data removed]",
      "text/plain": [
       "<Figure size 432x324 with 1 Axes>"
      ]
     },
     "metadata": {
      "needs_background": "light"
     },
     "output_type": "display_data"
    }
   ],
   "source": [
    "fig = df_metrics_perceptron_resampl.plot(x='Label', y=['Precision', 'Recall', 'Accuracy'], kind=\"bar\",\n",
    "                                 title='Perceptron metrics', figsize=(6, 4.5)).get_figure()\n",
    "\n",
    "fig.savefig(\"perceptron_all_metrics_upsample.png\")"
   ]
  },
  {
   "cell_type": "code",
   "execution_count": 62,
   "metadata": {},
   "outputs": [
    {
     "name": "stdout",
     "output_type": "stream",
     "text": [
      "Mean Precision:  0.5624940392539671\n",
      "Mean Recall:  0.9805168350554684\n",
      "Mean Accuracy:  0.8198555589461907\n"
     ]
    }
   ],
   "source": [
    "print(\"Mean Precision: \", df_metrics_perceptron_resampl[\"Precision\"].mean())\n",
    "print(\"Mean Recall: \", df_metrics_perceptron_resampl[\"Recall\"].mean())\n",
    "print(\"Mean Accuracy: \", df_metrics_perceptron_resampl[\"Accuracy\"].mean())"
   ]
  },
  {
   "cell_type": "markdown",
   "metadata": {},
   "source": [
    "#### Undersampling"
   ]
  },
  {
   "cell_type": "markdown",
   "metadata": {},
   "source": [
    "These are the results for the random split where the test set is a third of the dataset, with upsampling."
   ]
  },
  {
   "cell_type": "code",
   "execution_count": 63,
   "metadata": {},
   "outputs": [
    {
     "data": {
      "text/html": [
       "<div>\n",
       "<style scoped>\n",
       "    .dataframe tbody tr th:only-of-type {\n",
       "        vertical-align: middle;\n",
       "    }\n",
       "\n",
       "    .dataframe tbody tr th {\n",
       "        vertical-align: top;\n",
       "    }\n",
       "\n",
       "    .dataframe thead th {\n",
       "        text-align: right;\n",
       "    }\n",
       "</style>\n",
       "<table border=\"1\" class=\"dataframe\">\n",
       "  <thead>\n",
       "    <tr style=\"text-align: right;\">\n",
       "      <th></th>\n",
       "      <th>Label</th>\n",
       "      <th>True Positive</th>\n",
       "      <th>False Positive</th>\n",
       "      <th>True Negative</th>\n",
       "      <th>False Negative</th>\n",
       "      <th>Precision</th>\n",
       "      <th>Recall</th>\n",
       "      <th>Accuracy</th>\n",
       "    </tr>\n",
       "  </thead>\n",
       "  <tbody>\n",
       "    <tr>\n",
       "      <th>0</th>\n",
       "      <td>70</td>\n",
       "      <td>1825</td>\n",
       "      <td>1295</td>\n",
       "      <td>3400</td>\n",
       "      <td>34</td>\n",
       "      <td>0.584936</td>\n",
       "      <td>0.981711</td>\n",
       "      <td>0.797223</td>\n",
       "    </tr>\n",
       "    <tr>\n",
       "      <th>1</th>\n",
       "      <td>101</td>\n",
       "      <td>1580</td>\n",
       "      <td>1060</td>\n",
       "      <td>3886</td>\n",
       "      <td>28</td>\n",
       "      <td>0.598485</td>\n",
       "      <td>0.982587</td>\n",
       "      <td>0.833995</td>\n",
       "    </tr>\n",
       "    <tr>\n",
       "      <th>2</th>\n",
       "      <td>4</td>\n",
       "      <td>1117</td>\n",
       "      <td>1099</td>\n",
       "      <td>4312</td>\n",
       "      <td>26</td>\n",
       "      <td>0.504061</td>\n",
       "      <td>0.977253</td>\n",
       "      <td>0.828349</td>\n",
       "    </tr>\n",
       "  </tbody>\n",
       "</table>\n",
       "</div>"
      ],
      "text/plain": [
       "   Label  True Positive  False Positive  True Negative  False Negative  \\\n",
       "0     70           1825            1295           3400              34   \n",
       "1    101           1580            1060           3886              28   \n",
       "2      4           1117            1099           4312              26   \n",
       "\n",
       "   Precision    Recall  Accuracy  \n",
       "0   0.584936  0.981711  0.797223  \n",
       "1   0.598485  0.982587  0.833995  \n",
       "2   0.504061  0.977253  0.828349  "
      ]
     },
     "execution_count": 63,
     "metadata": {},
     "output_type": "execute_result"
    }
   ],
   "source": [
    "df_metrics_perceptron_unders = pd.DataFrame(np.column_stack([highest[1:], TPs_unders_perceptr, FPs_unders_perceptr,\n",
    "                                                      TNs_unders_perceptr, FNs_unders_perceptr, precisions_unders_perceptr,\n",
    "                                                      recalls_unders_perceptr, accs_unders_perceptr]),\n",
    "                                     columns=['Label', 'True Positive', 'False Positive', 'True Negative',\n",
    "                                              'False Negative', 'Precision', 'Recall', 'Accuracy'])\n",
    "\n",
    "df_metrics_perceptron_unders = df_metrics_perceptron_unders.astype({'Label': int, 'True Positive': int,\n",
    "                                                      'False Positive': int, 'True Negative': int,\n",
    "                                                      'False Negative': int})\n",
    "\n",
    "df_metrics_perceptron_unders"
   ]
  },
  {
   "cell_type": "code",
   "execution_count": 64,
   "metadata": {},
   "outputs": [
    {
     "data": {
      "image/png": "[encoded data removed]",
      "text/plain": [
       "<Figure size 432x324 with 1 Axes>"
      ]
     },
     "metadata": {
      "needs_background": "light"
     },
     "output_type": "display_data"
    }
   ],
   "source": [
    "fig = df_metrics_perceptron_resampl.plot(x='Label', y=['Precision', 'Recall', 'Accuracy'], kind=\"bar\",\n",
    "                                 title='Perceptron metrics', figsize=(6, 4.5)).get_figure()\n",
    "\n",
    "fig.savefig(\"perceptron_all_metrics_resampled.png\")"
   ]
  },
  {
   "cell_type": "code",
   "execution_count": 65,
   "metadata": {},
   "outputs": [
    {
     "name": "stdout",
     "output_type": "stream",
     "text": [
      "Mean Precision:  0.5624940392539671\n",
      "Mean Recall:  0.9805168350554684\n",
      "Mean Accuracy:  0.8198555589461907\n"
     ]
    }
   ],
   "source": [
    "print(\"Mean Precision: \", df_metrics_perceptron_resampl[\"Precision\"].mean())\n",
    "print(\"Mean Recall: \", df_metrics_perceptron_resampl[\"Recall\"].mean())\n",
    "print(\"Mean Accuracy: \", df_metrics_perceptron_resampl[\"Accuracy\"].mean())"
   ]
  },
  {
   "cell_type": "markdown",
   "metadata": {},
   "source": [
    "#### Best score"
   ]
  },
  {
   "cell_type": "markdown",
   "metadata": {},
   "source": [
    "These are the results of the `GridSearchCV`"
   ]
  },
  {
   "cell_type": "code",
   "execution_count": 66,
   "metadata": {},
   "outputs": [
    {
     "data": {
      "text/html": [
       "<div>\n",
       "<style scoped>\n",
       "    .dataframe tbody tr th:only-of-type {\n",
       "        vertical-align: middle;\n",
       "    }\n",
       "\n",
       "    .dataframe tbody tr th {\n",
       "        vertical-align: top;\n",
       "    }\n",
       "\n",
       "    .dataframe thead th {\n",
       "        text-align: right;\n",
       "    }\n",
       "</style>\n",
       "<table border=\"1\" class=\"dataframe\">\n",
       "  <thead>\n",
       "    <tr style=\"text-align: right;\">\n",
       "      <th></th>\n",
       "      <th>Label</th>\n",
       "      <th>Epochs</th>\n",
       "      <th>F1 Test score</th>\n",
       "    </tr>\n",
       "  </thead>\n",
       "  <tbody>\n",
       "    <tr>\n",
       "      <th>0</th>\n",
       "      <td>33</td>\n",
       "      <td>6</td>\n",
       "      <td>0.901259</td>\n",
       "    </tr>\n",
       "    <tr>\n",
       "      <th>1</th>\n",
       "      <td>70</td>\n",
       "      <td>9</td>\n",
       "      <td>0.903416</td>\n",
       "    </tr>\n",
       "    <tr>\n",
       "      <th>2</th>\n",
       "      <td>101</td>\n",
       "      <td>8</td>\n",
       "      <td>0.895035</td>\n",
       "    </tr>\n",
       "    <tr>\n",
       "      <th>3</th>\n",
       "      <td>4</td>\n",
       "      <td>5</td>\n",
       "      <td>0.873443</td>\n",
       "    </tr>\n",
       "  </tbody>\n",
       "</table>\n",
       "</div>"
      ],
      "text/plain": [
       "   Label  Epochs  F1 Test score\n",
       "0     33       6       0.901259\n",
       "1     70       9       0.903416\n",
       "2    101       8       0.895035\n",
       "3      4       5       0.873443"
      ]
     },
     "execution_count": 66,
     "metadata": {},
     "output_type": "execute_result"
    }
   ],
   "source": [
    "Ts_perceptron, scores_perceptron = [], []\n",
    "\n",
    "for i in params_perceptron:\n",
    "    Ts_perceptron.append(i[0]['T'])\n",
    "    scores_perceptron.append(i[1])\n",
    "\n",
    "df_results_perceptron = pd.DataFrame(np.column_stack([highest, Ts_perceptron, scores_perceptron]),\n",
    "                                     columns=['Label', 'Epochs', 'F1 Test score'])\n",
    "\n",
    "df_results_perceptron = df_results_perceptron.astype({\"Label\": int, \"Epochs\": int})\n",
    "df_results_perceptron"
   ]
  },
  {
   "cell_type": "code",
   "execution_count": 67,
   "metadata": {},
   "outputs": [
    {
     "data": {
      "image/png": "[encoded data removed]",
      "text/plain": [
       "<Figure size 432x324 with 1 Axes>"
      ]
     },
     "metadata": {
      "needs_background": "light"
     },
     "output_type": "display_data"
    },
    {
     "data": {
      "image/png": "[encoded data removed]",
      "text/plain": [
       "<Figure size 432x324 with 1 Axes>"
      ]
     },
     "metadata": {
      "needs_background": "light"
     },
     "output_type": "display_data"
    }
   ],
   "source": [
    "fig = df_results_perceptron.plot(x='Label', y=['F1 Test score'], title='Perceptron F1 score',\n",
    "                                 kind=\"bar\", figsize=(6, 4.5)).get_figure()\n",
    "\n",
    "fig.savefig(\"perceptron_test_scores.png\")\n",
    "\n",
    "if len(df_results_perceptron['Epochs'].unique()) != 1:\n",
    "    fig = df_results_perceptron.plot(x='Label', y=['Epochs'], title='Perceptron epochs',\n",
    "                                     kind=\"bar\", color='g', figsize=(6, 4.5)).get_figure()\n",
    "    \n",
    "    fig.savefig(\"perceptron_epochs.png\")"
   ]
  },
  {
   "cell_type": "markdown",
   "metadata": {},
   "source": [
    "Our final average F1 test score is:"
   ]
  },
  {
   "cell_type": "code",
   "execution_count": 68,
   "metadata": {},
   "outputs": [
    {
     "data": {
      "text/plain": [
       "0.8932882749610566"
      ]
     },
     "execution_count": 68,
     "metadata": {},
     "output_type": "execute_result"
    }
   ],
   "source": [
    "df_results_perceptron[\"F1 Test score\"].mean()"
   ]
  },
  {
   "cell_type": "markdown",
   "metadata": {},
   "source": [
    "## Comparison: Pegasos vs. Perceptron"
   ]
  },
  {
   "cell_type": "markdown",
   "metadata": {},
   "source": [
    "We can now run both algorithms with the best value for their parameters, on the same split, and compare their performances and execution times"
   ]
  },
  {
   "cell_type": "markdown",
   "metadata": {},
   "source": [
    "For Pegasos, we now set: `lmbd=0.0001` and `T=19860`. For the Perceptron, we average the number of epochs, so we set `T=7`."
   ]
  },
  {
   "cell_type": "code",
   "execution_count": 69,
   "metadata": {},
   "outputs": [
    {
     "name": "stdout",
     "output_type": "stream",
     "text": [
      "Training on label 33\n",
      "Training on label 70\n",
      "Training on label 101\n",
      "Training on label 4\n"
     ]
    },
    {
     "data": {
      "text/html": [
       "<div>\n",
       "<style scoped>\n",
       "    .dataframe tbody tr th:only-of-type {\n",
       "        vertical-align: middle;\n",
       "    }\n",
       "\n",
       "    .dataframe tbody tr th {\n",
       "        vertical-align: top;\n",
       "    }\n",
       "\n",
       "    .dataframe thead th {\n",
       "        text-align: right;\n",
       "    }\n",
       "</style>\n",
       "<table border=\"1\" class=\"dataframe\">\n",
       "  <thead>\n",
       "    <tr style=\"text-align: right;\">\n",
       "      <th></th>\n",
       "      <th>Label</th>\n",
       "      <th>Training score</th>\n",
       "      <th>Test score</th>\n",
       "      <th>Training time</th>\n",
       "      <th>Test time</th>\n",
       "    </tr>\n",
       "  </thead>\n",
       "  <tbody>\n",
       "    <tr>\n",
       "      <th>0</th>\n",
       "      <td>33</td>\n",
       "      <td>0.954629</td>\n",
       "      <td>0.914847</td>\n",
       "      <td>4.209161</td>\n",
       "      <td>0.038344</td>\n",
       "    </tr>\n",
       "    <tr>\n",
       "      <th>1</th>\n",
       "      <td>70</td>\n",
       "      <td>0.960900</td>\n",
       "      <td>0.921089</td>\n",
       "      <td>3.822495</td>\n",
       "      <td>0.038160</td>\n",
       "    </tr>\n",
       "    <tr>\n",
       "      <th>2</th>\n",
       "      <td>101</td>\n",
       "      <td>0.952308</td>\n",
       "      <td>0.911535</td>\n",
       "      <td>4.120745</td>\n",
       "      <td>0.037800</td>\n",
       "    </tr>\n",
       "    <tr>\n",
       "      <th>3</th>\n",
       "      <td>4</td>\n",
       "      <td>0.940500</td>\n",
       "      <td>0.887369</td>\n",
       "      <td>4.030551</td>\n",
       "      <td>0.037777</td>\n",
       "    </tr>\n",
       "  </tbody>\n",
       "</table>\n",
       "</div>"
      ],
      "text/plain": [
       "   Label  Training score  Test score  Training time  Test time\n",
       "0     33        0.954629    0.914847       4.209161   0.038344\n",
       "1     70        0.960900    0.921089       3.822495   0.038160\n",
       "2    101        0.952308    0.911535       4.120745   0.037800\n",
       "3      4        0.940500    0.887369       4.030551   0.037777"
      ]
     },
     "execution_count": 69,
     "metadata": {},
     "output_type": "execute_result"
    }
   ],
   "source": [
    "lblidx = { '1':'33', '2': '70', '3': '101', '4': '4' }\n",
    "avg_pegasos,avg_train_pegasos,train_time_pegasos,pred_time_pegasos=[],[],[],[]\n",
    "for i in range(1,5):\n",
    "    print(\"Training on label\",lblidx.get(str(i)))\n",
    "    currentLabel = eval('y'+str(i))\n",
    "    \n",
    "    X_train, X_test, y_train, y_test = train_test_split(X, currentLabel, test_size=0.33,\n",
    "                                                        random_state=42, stratify=currentLabel)\n",
    "    \n",
    "    classifier = Pegasos(lmbd=0.0001,T=19860)\n",
    "    \n",
    "    start_time_train = timeit.default_timer()\n",
    "    classifier.fit(X_train, y_train)\n",
    "    elapsed_train = timeit.default_timer() - start_time_train\n",
    "    avg_train_pegasos.append(classifier.score(X_train, y_train))\n",
    "    \n",
    "    start_time_test = timeit.default_timer()\n",
    "    test_score = classifier.score(X_test, y_test)\n",
    "    elapsed_test = timeit.default_timer() - start_time_test\n",
    "    \n",
    "    avg_pegasos.append(test_score)\n",
    "    train_time_pegasos.append(elapsed_train)\n",
    "    pred_time_pegasos.append(elapsed_test)\n",
    "    \n",
    "df_pegasos=pd.DataFrame(np.column_stack([highest, avg_train_pegasos, avg_pegasos, train_time_pegasos, pred_time_pegasos]),\n",
    "                    columns=[\"Label\", \"Training score\", \"Test score\", \"Training time\", \"Test time\"])\n",
    "df_pegasos = df_pegasos.astype({\"Label\": int})\n",
    "df_pegasos"
   ]
  },
  {
   "cell_type": "code",
   "execution_count": 70,
   "metadata": {},
   "outputs": [
    {
     "name": "stdout",
     "output_type": "stream",
     "text": [
      "Training on label 33\n",
      "Training on label 70\n",
      "Training on label 101\n",
      "Training on label 4\n"
     ]
    },
    {
     "data": {
      "text/html": [
       "<div>\n",
       "<style scoped>\n",
       "    .dataframe tbody tr th:only-of-type {\n",
       "        vertical-align: middle;\n",
       "    }\n",
       "\n",
       "    .dataframe tbody tr th {\n",
       "        vertical-align: top;\n",
       "    }\n",
       "\n",
       "    .dataframe thead th {\n",
       "        text-align: right;\n",
       "    }\n",
       "</style>\n",
       "<table border=\"1\" class=\"dataframe\">\n",
       "  <thead>\n",
       "    <tr style=\"text-align: right;\">\n",
       "      <th></th>\n",
       "      <th>Label</th>\n",
       "      <th>Training score</th>\n",
       "      <th>Test score</th>\n",
       "      <th>Training time</th>\n",
       "      <th>Test time</th>\n",
       "    </tr>\n",
       "  </thead>\n",
       "  <tbody>\n",
       "    <tr>\n",
       "      <th>0</th>\n",
       "      <td>33</td>\n",
       "      <td>0.990695</td>\n",
       "      <td>0.897238</td>\n",
       "      <td>9.792032</td>\n",
       "      <td>0.037281</td>\n",
       "    </tr>\n",
       "    <tr>\n",
       "      <th>1</th>\n",
       "      <td>70</td>\n",
       "      <td>0.991919</td>\n",
       "      <td>0.910322</td>\n",
       "      <td>9.934725</td>\n",
       "      <td>0.038611</td>\n",
       "    </tr>\n",
       "    <tr>\n",
       "      <th>2</th>\n",
       "      <td>101</td>\n",
       "      <td>0.981542</td>\n",
       "      <td>0.886895</td>\n",
       "      <td>9.991619</td>\n",
       "      <td>0.035273</td>\n",
       "    </tr>\n",
       "    <tr>\n",
       "      <th>3</th>\n",
       "      <td>4</td>\n",
       "      <td>0.994836</td>\n",
       "      <td>0.873177</td>\n",
       "      <td>9.132115</td>\n",
       "      <td>0.033235</td>\n",
       "    </tr>\n",
       "  </tbody>\n",
       "</table>\n",
       "</div>"
      ],
      "text/plain": [
       "   Label  Training score  Test score  Training time  Test time\n",
       "0     33        0.990695    0.897238       9.792032   0.037281\n",
       "1     70        0.991919    0.910322       9.934725   0.038611\n",
       "2    101        0.981542    0.886895       9.991619   0.035273\n",
       "3      4        0.994836    0.873177       9.132115   0.033235"
      ]
     },
     "execution_count": 70,
     "metadata": {},
     "output_type": "execute_result"
    }
   ],
   "source": [
    "lblidx = { '1':'33', '2': '70', '3': '101', '4': '4' }\n",
    "avg_perc,avg_train_perc,train_time_perc,pred_time_perc=[],[],[],[]\n",
    "for i in range(1,5):\n",
    "    print(\"Training on label\",lblidx.get(str(i)))\n",
    "    currentLabel = eval('y'+str(i))\n",
    "    \n",
    "    X_train, X_test, y_train, y_test = train_test_split(X, currentLabel, test_size=0.33,\n",
    "                                                        random_state=42, stratify=currentLabel)\n",
    "    \n",
    "    classifier = Perceptron(T=7)\n",
    "    \n",
    "    start_time_train = timeit.default_timer()\n",
    "    classifier.fit(X_train, y_train)\n",
    "    elapsed_train = timeit.default_timer() - start_time_train\n",
    "    avg_train_perc.append(classifier.score(X_train, y_train))\n",
    "    \n",
    "    start_time_test = timeit.default_timer()\n",
    "    test_score = classifier.score(X_test, y_test)\n",
    "    elapsed_test = timeit.default_timer() - start_time_test\n",
    "    \n",
    "    avg_perc.append(test_score)\n",
    "    train_time_perc.append(elapsed_train)\n",
    "    pred_time_perc.append(elapsed_test)\n",
    "    \n",
    "df_perc=pd.DataFrame(np.column_stack([highest, avg_train_perc, avg_perc, train_time_perc, pred_time_perc]),\n",
    "                    columns=[\"Label\", \"Training score\", \"Test score\", \"Training time\", \"Test time\"])\n",
    "df_perc = df_perc.astype({\"Label\": int})\n",
    "df_perc"
   ]
  },
  {
   "cell_type": "code",
   "execution_count": 71,
   "metadata": {},
   "outputs": [
    {
     "data": {
      "text/html": [
       "<div>\n",
       "<style scoped>\n",
       "    .dataframe tbody tr th:only-of-type {\n",
       "        vertical-align: middle;\n",
       "    }\n",
       "\n",
       "    .dataframe tbody tr th {\n",
       "        vertical-align: top;\n",
       "    }\n",
       "\n",
       "    .dataframe thead th {\n",
       "        text-align: right;\n",
       "    }\n",
       "</style>\n",
       "<table border=\"1\" class=\"dataframe\">\n",
       "  <thead>\n",
       "    <tr style=\"text-align: right;\">\n",
       "      <th></th>\n",
       "      <th>Algorithm</th>\n",
       "      <th>Training score</th>\n",
       "      <th>Test score</th>\n",
       "      <th>Training time</th>\n",
       "      <th>Test time</th>\n",
       "    </tr>\n",
       "  </thead>\n",
       "  <tbody>\n",
       "    <tr>\n",
       "      <th>0</th>\n",
       "      <td>Pegasos</td>\n",
       "      <td>95.21%</td>\n",
       "      <td>90.87%</td>\n",
       "      <td>4.05s</td>\n",
       "      <td>0.04s</td>\n",
       "    </tr>\n",
       "    <tr>\n",
       "      <th>1</th>\n",
       "      <td>Perceptron</td>\n",
       "      <td>98.97%</td>\n",
       "      <td>89.19%</td>\n",
       "      <td>9.71s</td>\n",
       "      <td>0.04s</td>\n",
       "    </tr>\n",
       "  </tbody>\n",
       "</table>\n",
       "</div>"
      ],
      "text/plain": [
       "    Algorithm Training score Test score Training time Test time\n",
       "0     Pegasos         95.21%     90.87%         4.05s     0.04s\n",
       "1  Perceptron         98.97%     89.19%         9.71s     0.04s"
      ]
     },
     "execution_count": 71,
     "metadata": {},
     "output_type": "execute_result"
    }
   ],
   "source": [
    "train_mean=[str(np.round(df_pegasos['Training score'].mean()*100,2))+\"%\", str(np.round(df_perc['Training score'].mean()*100,2))+\"%\"]\n",
    "test_mean=[str(np.round(df_pegasos['Test score'].mean()*100,2))+\"%\", str(np.round(df_perc['Test score'].mean()*100,2))+\"%\"]\n",
    "train_time_mean=[str(np.round(df_pegasos['Training time'].mean(),2))+\"s\", str(np.round(df_perc['Training time'].mean(),2))+\"s\"]\n",
    "test_time_mean=[str(np.round(df_pegasos['Test time'].mean(),2))+\"s\", str(np.round(df_perc['Test time'].mean(),2))+\"s\"]\n",
    "\n",
    "df_comp = pd.DataFrame(np.column_stack([[\"Pegasos\",\"Perceptron\"],train_mean,test_mean,train_time_mean,test_time_mean]),\n",
    "                      columns=[\"Algorithm\", \"Training score\", \"Test score\", \"Training time\", \"Test time\"])\n",
    "df_comp"
   ]
  },
  {
   "cell_type": "markdown",
   "metadata": {},
   "source": [
    "Finally, we can use CV to estimate the risk in order to to evaluate performance of our algorithms."
   ]
  },
  {
   "cell_type": "code",
   "execution_count": 24,
   "metadata": {},
   "outputs": [
    {
     "name": "stdout",
     "output_type": "stream",
     "text": [
      "Training on label 33\n",
      "Training on label 70\n",
      "Training on label 101\n",
      "Training on label 4\n"
     ]
    },
    {
     "data": {
      "text/html": [
       "<div>\n",
       "<style scoped>\n",
       "    .dataframe tbody tr th:only-of-type {\n",
       "        vertical-align: middle;\n",
       "    }\n",
       "\n",
       "    .dataframe tbody tr th {\n",
       "        vertical-align: top;\n",
       "    }\n",
       "\n",
       "    .dataframe thead th {\n",
       "        text-align: right;\n",
       "    }\n",
       "</style>\n",
       "<table border=\"1\" class=\"dataframe\">\n",
       "  <thead>\n",
       "    <tr style=\"text-align: right;\">\n",
       "      <th></th>\n",
       "      <th>Label</th>\n",
       "      <th>Score</th>\n",
       "      <th>CV time</th>\n",
       "    </tr>\n",
       "  </thead>\n",
       "  <tbody>\n",
       "    <tr>\n",
       "      <th>0</th>\n",
       "      <td>33</td>\n",
       "      <td>0.913814</td>\n",
       "      <td>32.621747</td>\n",
       "    </tr>\n",
       "    <tr>\n",
       "      <th>1</th>\n",
       "      <td>70</td>\n",
       "      <td>0.917984</td>\n",
       "      <td>22.754393</td>\n",
       "    </tr>\n",
       "    <tr>\n",
       "      <th>2</th>\n",
       "      <td>101</td>\n",
       "      <td>0.907101</td>\n",
       "      <td>23.060167</td>\n",
       "    </tr>\n",
       "    <tr>\n",
       "      <th>3</th>\n",
       "      <td>4</td>\n",
       "      <td>0.883928</td>\n",
       "      <td>23.336162</td>\n",
       "    </tr>\n",
       "  </tbody>\n",
       "</table>\n",
       "</div>"
      ],
      "text/plain": [
       "   Label     Score    CV time\n",
       "0     33  0.913814  32.621747\n",
       "1     70  0.917984  22.754393\n",
       "2    101  0.907101  23.060167\n",
       "3      4  0.883928  23.336162"
      ]
     },
     "execution_count": 24,
     "metadata": {},
     "output_type": "execute_result"
    }
   ],
   "source": [
    "lblidx = { '1':'33', '2': '70', '3': '101', '4': '4' }\n",
    "avg_pegasos,train_time_pegasos=[],[]\n",
    "for i in range(1,5):\n",
    "    print(\"Training on label\",lblidx.get(str(i)))\n",
    "    currentLabel = eval('y'+str(i))\n",
    "    \n",
    "    classifier = Pegasos(lmbd=0.0001,T=19860)   \n",
    "    \n",
    "    start_time_train = timeit.default_timer()\n",
    "    scores = cross_val_score(classifier, X, currentLabel, cv=10, n_jobs=-1)\n",
    "    elapsed_time = timeit.default_timer() - start_time_train\n",
    "    avg_pegasos.append(scores.mean())\n",
    "    train_time_pegasos.append(elapsed_time)\n",
    "    \n",
    "df_pegasos=pd.DataFrame(np.column_stack([highest, avg_pegasos, train_time_pegasos]),\n",
    "                    columns=[\"Label\", \"Score\", \"CV time\"])\n",
    "df_pegasos = df_pegasos.astype({\"Label\": int})\n",
    "df_pegasos"
   ]
  },
  {
   "cell_type": "code",
   "execution_count": 21,
   "metadata": {},
   "outputs": [
    {
     "name": "stdout",
     "output_type": "stream",
     "text": [
      "Training on label 33\n",
      "Training on label 70\n",
      "Training on label 101\n",
      "Training on label 4\n"
     ]
    },
    {
     "data": {
      "text/html": [
       "<div>\n",
       "<style scoped>\n",
       "    .dataframe tbody tr th:only-of-type {\n",
       "        vertical-align: middle;\n",
       "    }\n",
       "\n",
       "    .dataframe tbody tr th {\n",
       "        vertical-align: top;\n",
       "    }\n",
       "\n",
       "    .dataframe thead th {\n",
       "        text-align: right;\n",
       "    }\n",
       "</style>\n",
       "<table border=\"1\" class=\"dataframe\">\n",
       "  <thead>\n",
       "    <tr style=\"text-align: right;\">\n",
       "      <th></th>\n",
       "      <th>Label</th>\n",
       "      <th>Score</th>\n",
       "      <th>CV time</th>\n",
       "    </tr>\n",
       "  </thead>\n",
       "  <tbody>\n",
       "    <tr>\n",
       "      <th>0</th>\n",
       "      <td>33</td>\n",
       "      <td>0.898497</td>\n",
       "      <td>124.642592</td>\n",
       "    </tr>\n",
       "    <tr>\n",
       "      <th>1</th>\n",
       "      <td>70</td>\n",
       "      <td>0.902933</td>\n",
       "      <td>120.251307</td>\n",
       "    </tr>\n",
       "    <tr>\n",
       "      <th>2</th>\n",
       "      <td>101</td>\n",
       "      <td>0.894081</td>\n",
       "      <td>119.448373</td>\n",
       "    </tr>\n",
       "    <tr>\n",
       "      <th>3</th>\n",
       "      <td>4</td>\n",
       "      <td>0.869438</td>\n",
       "      <td>117.703586</td>\n",
       "    </tr>\n",
       "  </tbody>\n",
       "</table>\n",
       "</div>"
      ],
      "text/plain": [
       "   Label     Score     CV time\n",
       "0     33  0.898497  124.642592\n",
       "1     70  0.902933  120.251307\n",
       "2    101  0.894081  119.448373\n",
       "3      4  0.869438  117.703586"
      ]
     },
     "execution_count": 21,
     "metadata": {},
     "output_type": "execute_result"
    }
   ],
   "source": [
    "lblidx = { '1':'33', '2': '70', '3': '101', '4': '4' }\n",
    "avg_perc,avg_train_perc,train_time_perc,pred_time_perc=[],[],[],[]\n",
    "for i in range(1,5):\n",
    "    print(\"Training on label\",lblidx.get(str(i)))\n",
    "    currentLabel = eval('y'+str(i))\n",
    "    \n",
    "    classifier = Perceptron(T=7)\n",
    "    \n",
    "    start_time_train = timeit.default_timer()\n",
    "    scores = cross_val_score(classifier, X, currentLabel, cv=10, n_jobs=-1)\n",
    "    elapsed_time = timeit.default_timer() - start_time_train\n",
    "    avg_perc.append(scores.mean())\n",
    "    train_time_perc.append(elapsed_time)\n",
    "    \n",
    "df_perc=pd.DataFrame(np.column_stack([highest, avg_perc, train_time_perc]),\n",
    "                    columns=[\"Label\", \"Score\", \"CV time\"])\n",
    "df_perc = df_perc.astype({\"Label\": int})\n",
    "df_perc"
   ]
  },
  {
   "cell_type": "code",
   "execution_count": 25,
   "metadata": {},
   "outputs": [
    {
     "data": {
      "text/html": [
       "<div>\n",
       "<style scoped>\n",
       "    .dataframe tbody tr th:only-of-type {\n",
       "        vertical-align: middle;\n",
       "    }\n",
       "\n",
       "    .dataframe tbody tr th {\n",
       "        vertical-align: top;\n",
       "    }\n",
       "\n",
       "    .dataframe thead th {\n",
       "        text-align: right;\n",
       "    }\n",
       "</style>\n",
       "<table border=\"1\" class=\"dataframe\">\n",
       "  <thead>\n",
       "    <tr style=\"text-align: right;\">\n",
       "      <th></th>\n",
       "      <th>Algorithm</th>\n",
       "      <th>Score</th>\n",
       "      <th>CV time</th>\n",
       "    </tr>\n",
       "  </thead>\n",
       "  <tbody>\n",
       "    <tr>\n",
       "      <th>0</th>\n",
       "      <td>Pegasos</td>\n",
       "      <td>90.57%</td>\n",
       "      <td>25.44s</td>\n",
       "    </tr>\n",
       "    <tr>\n",
       "      <th>1</th>\n",
       "      <td>Perceptron</td>\n",
       "      <td>89.12%</td>\n",
       "      <td>120.51s</td>\n",
       "    </tr>\n",
       "  </tbody>\n",
       "</table>\n",
       "</div>"
      ],
      "text/plain": [
       "    Algorithm   Score  CV time\n",
       "0     Pegasos  90.57%   25.44s\n",
       "1  Perceptron  89.12%  120.51s"
      ]
     },
     "execution_count": 25,
     "metadata": {},
     "output_type": "execute_result"
    }
   ],
   "source": [
    "score_mean=[str(np.round(df_pegasos['Score'].mean()*100,2))+\"%\", str(np.round(df_perc['Score'].mean()*100,2))+\"%\"]\n",
    "time_mean=[str(np.round(df_pegasos['CV time'].mean(),2))+\"s\", str(np.round(df_perc['CV time'].mean(),2))+\"s\"]\n",
    "\n",
    "df_comp = pd.DataFrame(np.column_stack([[\"Pegasos\",\"Perceptron\"],score_mean,time_mean]),\n",
    "                      columns=[\"Algorithm\", \"Score\", \"CV time\"])\n",
    "df_comp"
   ]
  },
  {
   "cell_type": "code",
   "execution_count": null,
   "metadata": {},
   "outputs": [],
   "source": []
  }
 ],
 "metadata": {
  "kernelspec": {
   "display_name": "Python 3",
   "language": "python",
   "name": "python3"
  },
  "language_info": {
   "codemirror_mode": {
    "name": "ipython",
    "version": 3
   },
   "file_extension": ".py",
   "mimetype": "text/x-python",
   "name": "python",
   "nbconvert_exporter": "python",
   "pygments_lexer": "ipython3",
   "version": "3.7.6"
  }
 },
 "nbformat": 4,
 "nbformat_minor": 1
}
